{
  "cells": [
    {
      "cell_type": "markdown",
      "metadata": {
        "id": "view-in-github",
        "colab_type": "text"
      },
      "source": [
        "<a href=\"https://colab.research.google.com/github/Priyankaverma2024/job-recommendation-system/blob/main/Copy_of_Project_8_Job_Reccomendation_system.ipynb\" target=\"_parent\"><img src=\"https://colab.research.google.com/assets/colab-badge.svg\" alt=\"Open In Colab\"/></a>"
      ]
    },
    {
      "cell_type": "code",
      "execution_count": null,
      "metadata": {
        "id": "j0jS59H1aVho"
      },
      "outputs": [],
      "source": [
        "import pandas as pd\n",
        "import numpy as np\n",
        "import matplotlib.pyplot as plt\n",
        "import seaborn as sns\n",
        "import plotly\n",
        "import plotly.express as px\n",
        "import plotly.graph_objects as go\n",
        "from datetime import datetime"
      ]
    },
    {
      "cell_type": "code",
      "execution_count": null,
      "metadata": {
        "colab": {
          "base_uri": "https://localhost:8080/"
        },
        "id": "YP8YhNYxbLhi",
        "outputId": "462dabb6-5c33-4c5c-e7cc-4b850ae708bc"
      },
      "outputs": [
        {
          "output_type": "stream",
          "name": "stdout",
          "text": [
            "Mounted at /content/drive\n"
          ]
        }
      ],
      "source": [
        "# mount drive\n",
        "from google.colab import drive\n",
        "import os\n",
        "\n",
        "# Create the directory if it doesn't exist\n",
        "if not os.path.exists('content/drive'):\n",
        "    os.makedirs('content/drive')\n",
        "\n",
        "drive.mount('/content/drive')"
      ]
    },
    {
      "cell_type": "code",
      "execution_count": null,
      "metadata": {
        "id": "CR3oUNFcbRbK"
      },
      "outputs": [],
      "source": [
        "# load dataset\n",
        "from pandas import read_csv\n",
        "df = pd.read_csv('/content/drive/MyDrive/all_upwork_jobs.xlsx.csv')\n"
      ]
    },
    {
      "cell_type": "code",
      "execution_count": null,
      "metadata": {
        "colab": {
          "base_uri": "https://localhost:8080/",
          "height": 417
        },
        "id": "rSDyr017bWds",
        "outputId": "9865fb8b-4bb1-457d-8f2a-9c42e8c88546"
      },
      "outputs": [
        {
          "output_type": "execute_result",
          "data": {
            "text/plain": [
              "                                               title  \\\n",
              "0  Experienced Media Buyer For Solar Pannel and R...   \n",
              "1                               Full Stack Developer   \n",
              "2                                    SMMA Bubble App   \n",
              "3             Talent Hunter Specialized in Marketing   \n",
              "4                                      Data Engineer   \n",
              "\n",
              "                                                link  \\\n",
              "0  https://www.upwork.com/jobs/Experienced-Media-...   \n",
              "1  https://www.upwork.com/jobs/Full-Stack-Develop...   \n",
              "2  https://www.upwork.com/jobs/SMMA-Bubble-App_%7...   \n",
              "3  https://www.upwork.com/jobs/Talent-Hunter-Spec...   \n",
              "4  https://www.upwork.com/jobs/Data-Engineer_%7E0...   \n",
              "\n",
              "              published_date  is_hourly  hourly_low  hourly_high  budget  \\\n",
              "0  2024-02-17 09:09:54+00:00      False         NaN          NaN   500.0   \n",
              "1  2024-02-17 09:09:17+00:00      False         NaN          NaN  1100.0   \n",
              "2  2024-02-17 09:08:46+00:00       True        10.0         30.0     NaN   \n",
              "3  2024-02-17 09:08:08+00:00       True         NaN          NaN     NaN   \n",
              "4  2024-02-17 09:07:42+00:00      False         NaN          NaN   650.0   \n",
              "\n",
              "         country  \n",
              "0            NaN  \n",
              "1  United States  \n",
              "2  United States  \n",
              "3  United States  \n",
              "4          India  "
            ],
            "text/html": [
              "\n",
              "  <div id=\"df-6b44cb47-3192-43d1-ad26-7ea85a561f69\" class=\"colab-df-container\">\n",
              "    <div>\n",
              "<style scoped>\n",
              "    .dataframe tbody tr th:only-of-type {\n",
              "        vertical-align: middle;\n",
              "    }\n",
              "\n",
              "    .dataframe tbody tr th {\n",
              "        vertical-align: top;\n",
              "    }\n",
              "\n",
              "    .dataframe thead th {\n",
              "        text-align: right;\n",
              "    }\n",
              "</style>\n",
              "<table border=\"1\" class=\"dataframe\">\n",
              "  <thead>\n",
              "    <tr style=\"text-align: right;\">\n",
              "      <th></th>\n",
              "      <th>title</th>\n",
              "      <th>link</th>\n",
              "      <th>published_date</th>\n",
              "      <th>is_hourly</th>\n",
              "      <th>hourly_low</th>\n",
              "      <th>hourly_high</th>\n",
              "      <th>budget</th>\n",
              "      <th>country</th>\n",
              "    </tr>\n",
              "  </thead>\n",
              "  <tbody>\n",
              "    <tr>\n",
              "      <th>0</th>\n",
              "      <td>Experienced Media Buyer For Solar Pannel and R...</td>\n",
              "      <td>https://www.upwork.com/jobs/Experienced-Media-...</td>\n",
              "      <td>2024-02-17 09:09:54+00:00</td>\n",
              "      <td>False</td>\n",
              "      <td>NaN</td>\n",
              "      <td>NaN</td>\n",
              "      <td>500.0</td>\n",
              "      <td>NaN</td>\n",
              "    </tr>\n",
              "    <tr>\n",
              "      <th>1</th>\n",
              "      <td>Full Stack Developer</td>\n",
              "      <td>https://www.upwork.com/jobs/Full-Stack-Develop...</td>\n",
              "      <td>2024-02-17 09:09:17+00:00</td>\n",
              "      <td>False</td>\n",
              "      <td>NaN</td>\n",
              "      <td>NaN</td>\n",
              "      <td>1100.0</td>\n",
              "      <td>United States</td>\n",
              "    </tr>\n",
              "    <tr>\n",
              "      <th>2</th>\n",
              "      <td>SMMA Bubble App</td>\n",
              "      <td>https://www.upwork.com/jobs/SMMA-Bubble-App_%7...</td>\n",
              "      <td>2024-02-17 09:08:46+00:00</td>\n",
              "      <td>True</td>\n",
              "      <td>10.0</td>\n",
              "      <td>30.0</td>\n",
              "      <td>NaN</td>\n",
              "      <td>United States</td>\n",
              "    </tr>\n",
              "    <tr>\n",
              "      <th>3</th>\n",
              "      <td>Talent Hunter Specialized in Marketing</td>\n",
              "      <td>https://www.upwork.com/jobs/Talent-Hunter-Spec...</td>\n",
              "      <td>2024-02-17 09:08:08+00:00</td>\n",
              "      <td>True</td>\n",
              "      <td>NaN</td>\n",
              "      <td>NaN</td>\n",
              "      <td>NaN</td>\n",
              "      <td>United States</td>\n",
              "    </tr>\n",
              "    <tr>\n",
              "      <th>4</th>\n",
              "      <td>Data Engineer</td>\n",
              "      <td>https://www.upwork.com/jobs/Data-Engineer_%7E0...</td>\n",
              "      <td>2024-02-17 09:07:42+00:00</td>\n",
              "      <td>False</td>\n",
              "      <td>NaN</td>\n",
              "      <td>NaN</td>\n",
              "      <td>650.0</td>\n",
              "      <td>India</td>\n",
              "    </tr>\n",
              "  </tbody>\n",
              "</table>\n",
              "</div>\n",
              "    <div class=\"colab-df-buttons\">\n",
              "\n",
              "  <div class=\"colab-df-container\">\n",
              "    <button class=\"colab-df-convert\" onclick=\"convertToInteractive('df-6b44cb47-3192-43d1-ad26-7ea85a561f69')\"\n",
              "            title=\"Convert this dataframe to an interactive table.\"\n",
              "            style=\"display:none;\">\n",
              "\n",
              "  <svg xmlns=\"http://www.w3.org/2000/svg\" height=\"24px\" viewBox=\"0 -960 960 960\">\n",
              "    <path d=\"M120-120v-720h720v720H120Zm60-500h600v-160H180v160Zm220 220h160v-160H400v160Zm0 220h160v-160H400v160ZM180-400h160v-160H180v160Zm440 0h160v-160H620v160ZM180-180h160v-160H180v160Zm440 0h160v-160H620v160Z\"/>\n",
              "  </svg>\n",
              "    </button>\n",
              "\n",
              "  <style>\n",
              "    .colab-df-container {\n",
              "      display:flex;\n",
              "      gap: 12px;\n",
              "    }\n",
              "\n",
              "    .colab-df-convert {\n",
              "      background-color: #E8F0FE;\n",
              "      border: none;\n",
              "      border-radius: 50%;\n",
              "      cursor: pointer;\n",
              "      display: none;\n",
              "      fill: #1967D2;\n",
              "      height: 32px;\n",
              "      padding: 0 0 0 0;\n",
              "      width: 32px;\n",
              "    }\n",
              "\n",
              "    .colab-df-convert:hover {\n",
              "      background-color: #E2EBFA;\n",
              "      box-shadow: 0px 1px 2px rgba(60, 64, 67, 0.3), 0px 1px 3px 1px rgba(60, 64, 67, 0.15);\n",
              "      fill: #174EA6;\n",
              "    }\n",
              "\n",
              "    .colab-df-buttons div {\n",
              "      margin-bottom: 4px;\n",
              "    }\n",
              "\n",
              "    [theme=dark] .colab-df-convert {\n",
              "      background-color: #3B4455;\n",
              "      fill: #D2E3FC;\n",
              "    }\n",
              "\n",
              "    [theme=dark] .colab-df-convert:hover {\n",
              "      background-color: #434B5C;\n",
              "      box-shadow: 0px 1px 3px 1px rgba(0, 0, 0, 0.15);\n",
              "      filter: drop-shadow(0px 1px 2px rgba(0, 0, 0, 0.3));\n",
              "      fill: #FFFFFF;\n",
              "    }\n",
              "  </style>\n",
              "\n",
              "    <script>\n",
              "      const buttonEl =\n",
              "        document.querySelector('#df-6b44cb47-3192-43d1-ad26-7ea85a561f69 button.colab-df-convert');\n",
              "      buttonEl.style.display =\n",
              "        google.colab.kernel.accessAllowed ? 'block' : 'none';\n",
              "\n",
              "      async function convertToInteractive(key) {\n",
              "        const element = document.querySelector('#df-6b44cb47-3192-43d1-ad26-7ea85a561f69');\n",
              "        const dataTable =\n",
              "          await google.colab.kernel.invokeFunction('convertToInteractive',\n",
              "                                                    [key], {});\n",
              "        if (!dataTable) return;\n",
              "\n",
              "        const docLinkHtml = 'Like what you see? Visit the ' +\n",
              "          '<a target=\"_blank\" href=https://colab.research.google.com/notebooks/data_table.ipynb>data table notebook</a>'\n",
              "          + ' to learn more about interactive tables.';\n",
              "        element.innerHTML = '';\n",
              "        dataTable['output_type'] = 'display_data';\n",
              "        await google.colab.output.renderOutput(dataTable, element);\n",
              "        const docLink = document.createElement('div');\n",
              "        docLink.innerHTML = docLinkHtml;\n",
              "        element.appendChild(docLink);\n",
              "      }\n",
              "    </script>\n",
              "  </div>\n",
              "\n",
              "\n",
              "<div id=\"df-54b95067-cf1c-456c-aec2-89cd9f7168f1\">\n",
              "  <button class=\"colab-df-quickchart\" onclick=\"quickchart('df-54b95067-cf1c-456c-aec2-89cd9f7168f1')\"\n",
              "            title=\"Suggest charts\"\n",
              "            style=\"display:none;\">\n",
              "\n",
              "<svg xmlns=\"http://www.w3.org/2000/svg\" height=\"24px\"viewBox=\"0 0 24 24\"\n",
              "     width=\"24px\">\n",
              "    <g>\n",
              "        <path d=\"M19 3H5c-1.1 0-2 .9-2 2v14c0 1.1.9 2 2 2h14c1.1 0 2-.9 2-2V5c0-1.1-.9-2-2-2zM9 17H7v-7h2v7zm4 0h-2V7h2v10zm4 0h-2v-4h2v4z\"/>\n",
              "    </g>\n",
              "</svg>\n",
              "  </button>\n",
              "\n",
              "<style>\n",
              "  .colab-df-quickchart {\n",
              "      --bg-color: #E8F0FE;\n",
              "      --fill-color: #1967D2;\n",
              "      --hover-bg-color: #E2EBFA;\n",
              "      --hover-fill-color: #174EA6;\n",
              "      --disabled-fill-color: #AAA;\n",
              "      --disabled-bg-color: #DDD;\n",
              "  }\n",
              "\n",
              "  [theme=dark] .colab-df-quickchart {\n",
              "      --bg-color: #3B4455;\n",
              "      --fill-color: #D2E3FC;\n",
              "      --hover-bg-color: #434B5C;\n",
              "      --hover-fill-color: #FFFFFF;\n",
              "      --disabled-bg-color: #3B4455;\n",
              "      --disabled-fill-color: #666;\n",
              "  }\n",
              "\n",
              "  .colab-df-quickchart {\n",
              "    background-color: var(--bg-color);\n",
              "    border: none;\n",
              "    border-radius: 50%;\n",
              "    cursor: pointer;\n",
              "    display: none;\n",
              "    fill: var(--fill-color);\n",
              "    height: 32px;\n",
              "    padding: 0;\n",
              "    width: 32px;\n",
              "  }\n",
              "\n",
              "  .colab-df-quickchart:hover {\n",
              "    background-color: var(--hover-bg-color);\n",
              "    box-shadow: 0 1px 2px rgba(60, 64, 67, 0.3), 0 1px 3px 1px rgba(60, 64, 67, 0.15);\n",
              "    fill: var(--button-hover-fill-color);\n",
              "  }\n",
              "\n",
              "  .colab-df-quickchart-complete:disabled,\n",
              "  .colab-df-quickchart-complete:disabled:hover {\n",
              "    background-color: var(--disabled-bg-color);\n",
              "    fill: var(--disabled-fill-color);\n",
              "    box-shadow: none;\n",
              "  }\n",
              "\n",
              "  .colab-df-spinner {\n",
              "    border: 2px solid var(--fill-color);\n",
              "    border-color: transparent;\n",
              "    border-bottom-color: var(--fill-color);\n",
              "    animation:\n",
              "      spin 1s steps(1) infinite;\n",
              "  }\n",
              "\n",
              "  @keyframes spin {\n",
              "    0% {\n",
              "      border-color: transparent;\n",
              "      border-bottom-color: var(--fill-color);\n",
              "      border-left-color: var(--fill-color);\n",
              "    }\n",
              "    20% {\n",
              "      border-color: transparent;\n",
              "      border-left-color: var(--fill-color);\n",
              "      border-top-color: var(--fill-color);\n",
              "    }\n",
              "    30% {\n",
              "      border-color: transparent;\n",
              "      border-left-color: var(--fill-color);\n",
              "      border-top-color: var(--fill-color);\n",
              "      border-right-color: var(--fill-color);\n",
              "    }\n",
              "    40% {\n",
              "      border-color: transparent;\n",
              "      border-right-color: var(--fill-color);\n",
              "      border-top-color: var(--fill-color);\n",
              "    }\n",
              "    60% {\n",
              "      border-color: transparent;\n",
              "      border-right-color: var(--fill-color);\n",
              "    }\n",
              "    80% {\n",
              "      border-color: transparent;\n",
              "      border-right-color: var(--fill-color);\n",
              "      border-bottom-color: var(--fill-color);\n",
              "    }\n",
              "    90% {\n",
              "      border-color: transparent;\n",
              "      border-bottom-color: var(--fill-color);\n",
              "    }\n",
              "  }\n",
              "</style>\n",
              "\n",
              "  <script>\n",
              "    async function quickchart(key) {\n",
              "      const quickchartButtonEl =\n",
              "        document.querySelector('#' + key + ' button');\n",
              "      quickchartButtonEl.disabled = true;  // To prevent multiple clicks.\n",
              "      quickchartButtonEl.classList.add('colab-df-spinner');\n",
              "      try {\n",
              "        const charts = await google.colab.kernel.invokeFunction(\n",
              "            'suggestCharts', [key], {});\n",
              "      } catch (error) {\n",
              "        console.error('Error during call to suggestCharts:', error);\n",
              "      }\n",
              "      quickchartButtonEl.classList.remove('colab-df-spinner');\n",
              "      quickchartButtonEl.classList.add('colab-df-quickchart-complete');\n",
              "    }\n",
              "    (() => {\n",
              "      let quickchartButtonEl =\n",
              "        document.querySelector('#df-54b95067-cf1c-456c-aec2-89cd9f7168f1 button');\n",
              "      quickchartButtonEl.style.display =\n",
              "        google.colab.kernel.accessAllowed ? 'block' : 'none';\n",
              "    })();\n",
              "  </script>\n",
              "</div>\n",
              "\n",
              "    </div>\n",
              "  </div>\n"
            ],
            "application/vnd.google.colaboratory.intrinsic+json": {
              "type": "dataframe",
              "variable_name": "df"
            }
          },
          "metadata": {},
          "execution_count": 4
        }
      ],
      "source": [
        "df.head()"
      ]
    },
    {
      "cell_type": "code",
      "execution_count": null,
      "metadata": {
        "colab": {
          "base_uri": "https://localhost:8080/"
        },
        "id": "MQqBg7pfbrql",
        "outputId": "bb8b49cd-fcb5-42d0-d311-46a0ed9302e7"
      },
      "outputs": [
        {
          "output_type": "stream",
          "name": "stdout",
          "text": [
            "<class 'pandas.core.frame.DataFrame'>\n",
            "RangeIndex: 244828 entries, 0 to 244827\n",
            "Data columns (total 8 columns):\n",
            " #   Column          Non-Null Count   Dtype  \n",
            "---  ------          --------------   -----  \n",
            " 0   title           244827 non-null  object \n",
            " 1   link            244827 non-null  object \n",
            " 2   published_date  244828 non-null  object \n",
            " 3   is_hourly       244828 non-null  bool   \n",
            " 4   hourly_low      102422 non-null  float64\n",
            " 5   hourly_high     98775 non-null   float64\n",
            " 6   budget          103891 non-null  float64\n",
            " 7   country         239751 non-null  object \n",
            "dtypes: bool(1), float64(3), object(4)\n",
            "memory usage: 13.3+ MB\n"
          ]
        }
      ],
      "source": [
        "df.info()"
      ]
    },
    {
      "cell_type": "code",
      "execution_count": null,
      "metadata": {
        "colab": {
          "base_uri": "https://localhost:8080/",
          "height": 335
        },
        "id": "BbZsW-XxbuOA",
        "outputId": "fab65547-66a2-4a17-fdfb-60d21316f0a5"
      },
      "outputs": [
        {
          "output_type": "execute_result",
          "data": {
            "text/plain": [
              "title                  1\n",
              "link                   1\n",
              "published_date         0\n",
              "is_hourly              0\n",
              "hourly_low        142406\n",
              "hourly_high       146053\n",
              "budget            140937\n",
              "country             5077\n",
              "dtype: int64"
            ],
            "text/html": [
              "<div>\n",
              "<style scoped>\n",
              "    .dataframe tbody tr th:only-of-type {\n",
              "        vertical-align: middle;\n",
              "    }\n",
              "\n",
              "    .dataframe tbody tr th {\n",
              "        vertical-align: top;\n",
              "    }\n",
              "\n",
              "    .dataframe thead th {\n",
              "        text-align: right;\n",
              "    }\n",
              "</style>\n",
              "<table border=\"1\" class=\"dataframe\">\n",
              "  <thead>\n",
              "    <tr style=\"text-align: right;\">\n",
              "      <th></th>\n",
              "      <th>0</th>\n",
              "    </tr>\n",
              "  </thead>\n",
              "  <tbody>\n",
              "    <tr>\n",
              "      <th>title</th>\n",
              "      <td>1</td>\n",
              "    </tr>\n",
              "    <tr>\n",
              "      <th>link</th>\n",
              "      <td>1</td>\n",
              "    </tr>\n",
              "    <tr>\n",
              "      <th>published_date</th>\n",
              "      <td>0</td>\n",
              "    </tr>\n",
              "    <tr>\n",
              "      <th>is_hourly</th>\n",
              "      <td>0</td>\n",
              "    </tr>\n",
              "    <tr>\n",
              "      <th>hourly_low</th>\n",
              "      <td>142406</td>\n",
              "    </tr>\n",
              "    <tr>\n",
              "      <th>hourly_high</th>\n",
              "      <td>146053</td>\n",
              "    </tr>\n",
              "    <tr>\n",
              "      <th>budget</th>\n",
              "      <td>140937</td>\n",
              "    </tr>\n",
              "    <tr>\n",
              "      <th>country</th>\n",
              "      <td>5077</td>\n",
              "    </tr>\n",
              "  </tbody>\n",
              "</table>\n",
              "</div><br><label><b>dtype:</b> int64</label>"
            ]
          },
          "metadata": {},
          "execution_count": 6
        }
      ],
      "source": [
        "df.isnull().sum()"
      ]
    },
    {
      "cell_type": "markdown",
      "metadata": {
        "id": "eVYHcw4-cJab"
      },
      "source": [
        "Data Cleaning & Preprocessinga"
      ]
    },
    {
      "cell_type": "code",
      "execution_count": null,
      "metadata": {
        "id": "-erBRE9KbxDZ"
      },
      "outputs": [],
      "source": [
        "## Drop unnecessary columns\n",
        "df.drop(columns=['link'], inplace=True)"
      ]
    },
    {
      "cell_type": "code",
      "execution_count": null,
      "metadata": {
        "id": "d4eGsvBbcEoT"
      },
      "outputs": [],
      "source": [
        "## Convert 'published_date' to datetime format\n",
        "df['published_date'] = pd.to_datetime(df['published_date'], errors='coerce')\n",
        "\n"
      ]
    },
    {
      "cell_type": "code",
      "source": [
        "## Fill missing numerical values with median\n",
        "df['hourly_low'] = df['hourly_low'].fillna(df['hourly_low'].median())\n",
        "df['hourly_high'] = df['hourly_high'].fillna(df['hourly_high'].median())\n",
        "df['budget'] = df['budget'].fillna(df['budget'].median())"
      ],
      "metadata": {
        "id": "pJVPDC3UGQCq"
      },
      "execution_count": null,
      "outputs": []
    },
    {
      "cell_type": "code",
      "source": [
        "# Fill missing values of 'country' and title  with \"Unknown\"\n",
        "df['country##'] = df['country'].fillna(\"Unknown\")\n",
        "df['title'] = df['title'].fillna(\"Unkown\")"
      ],
      "metadata": {
        "id": "rHXuW9MLGQfR"
      },
      "execution_count": null,
      "outputs": []
    },
    {
      "cell_type": "code",
      "execution_count": null,
      "metadata": {
        "id": "ML8ox8o4cMtw"
      },
      "outputs": [],
      "source": [
        "df[\"hourly_avg\"] = df[[\"hourly_low\", \"hourly_high\"]].mean(axis=1)\n",
        "df[\"salary\"] = df.apply(lambda row: row[\"hourly_avg\"] if row.get(\"is_hourly\", False) else row.get(\"budget\", 0), axis=1)\n"
      ]
    },
    {
      "cell_type": "code",
      "execution_count": null,
      "metadata": {
        "id": "NHhPW5u2duMB"
      },
      "outputs": [],
      "source": [
        "# Keep only necessary columns and drop missing values\n",
        "df_cleaned = df[[\"title\", \"salary\", \"published_date\", \"country\"]].dropna().reset_index(drop=True)\n"
      ]
    },
    {
      "cell_type": "code",
      "execution_count": null,
      "metadata": {
        "id": "dCL3OyVYeUf9"
      },
      "outputs": [],
      "source": [
        "import re"
      ]
    },
    {
      "cell_type": "code",
      "execution_count": null,
      "metadata": {
        "id": "7gRDfe3tePdm"
      },
      "outputs": [],
      "source": [
        "# Improved Function to Extract Meaningful Keywords\n",
        "def extract_keywords(title):\n",
        "    if isinstance(title, str) and title.strip():\n",
        "        words = re.findall(r\"\\b(?:developer|engineer|manager|analyst|designer|consultant|specialist|architect|scientist|administrator|AI|blockchain|cybersecurity|cloud|data|machine learning|remote)\\b\", title.lower())\n",
        "        return words if words else None\n",
        "    return None\n",
        "\n"
      ]
    },
    {
      "cell_type": "code",
      "execution_count": null,
      "metadata": {
        "id": "IfsqQ3KWedUX"
      },
      "outputs": [],
      "source": [
        "df_cleaned['keywords'] = df_cleaned['title'].apply(extract_keywords)"
      ]
    },
    {
      "cell_type": "code",
      "execution_count": null,
      "metadata": {
        "id": "iLp0_-GJfBDV"
      },
      "outputs": [],
      "source": [
        "# Remove rows where keyword extraction failed\n",
        "df_cleaned = df_cleaned.dropna(subset=[\"keywords\"]).reset_index(drop=True)\n"
      ]
    },
    {
      "cell_type": "markdown",
      "source": [],
      "metadata": {
        "id": "TVGoA5BjI0wL"
      }
    },
    {
      "cell_type": "markdown",
      "source": [
        " # TASK 1\n",
        " # Analyze CAnaorrelation Between Job Title Keywords and Salaries"
      ],
      "metadata": {
        "id": "iv5ky51dI0xm"
      }
    },
    {
      "cell_type": "code",
      "execution_count": null,
      "metadata": {
        "colab": {
          "base_uri": "https://localhost:8080/",
          "height": 542
        },
        "id": "CYIDnyace-Ry",
        "outputId": "d57c6ee5-d71a-4554-d285-331af79c4c6d"
      },
      "outputs": [
        {
          "output_type": "display_data",
          "data": {
            "text/html": [
              "<html>\n",
              "<head><meta charset=\"utf-8\" /></head>\n",
              "<body>\n",
              "    <div>            <script src=\"https://cdnjs.cloudflare.com/ajax/libs/mathjax/2.7.5/MathJax.js?config=TeX-AMS-MML_SVG\"></script><script type=\"text/javascript\">if (window.MathJax && window.MathJax.Hub && window.MathJax.Hub.Config) {window.MathJax.Hub.Config({SVG: {font: \"STIX-Web\"}});}</script>                <script type=\"text/javascript\">window.PlotlyConfig = {MathJaxConfig: 'local'};</script>\n",
              "        <script charset=\"utf-8\" src=\"https://cdn.plot.ly/plotly-2.35.2.min.js\"></script>                <div id=\"c2a04919-6d6a-4be3-a7d4-49dccdd0ec6c\" class=\"plotly-graph-div\" style=\"height:525px; width:100%;\"></div>            <script type=\"text/javascript\">                                    window.PLOTLYENV=window.PLOTLYENV || {};                                    if (document.getElementById(\"c2a04919-6d6a-4be3-a7d4-49dccdd0ec6c\")) {                    Plotly.newPlot(                        \"c2a04919-6d6a-4be3-a7d4-49dccdd0ec6c\",                        [{\"alignmentgroup\":\"True\",\"hovertemplate\":\"Job Keyword=%{x}\\u003cbr\\u003eAverage Salary=%{y}\\u003cextra\\u003e\\u003c\\u002fextra\\u003e\",\"legendgroup\":\"\",\"marker\":{\"color\":\"#636efa\",\"pattern\":{\"shape\":\"\"}},\"name\":\"\",\"offsetgroup\":\"\",\"orientation\":\"v\",\"showlegend\":false,\"textposition\":\"auto\",\"x\":[\"administrator\",\"architect\",\"blockchain\",\"cloud\",\"consultant\",\"cybersecurity\",\"data\",\"data analyst\",\"designer\",\"developer\",\"engineer\",\"machine learning\",\"manager\",\"remote\",\"scientist\",\"specialist\"],\"xaxis\":\"x\",\"y\":[733.4583333333334,1304.395652173913,1360.9370805369128,563.964856230032,672.2504873294347,471.87579617834393,244.92198687350836,134.83383685800604,339.0448712902464,565.0689020130818,614.7529015350057,789.0388513513514,401.84013655929937,522.5551894563426,99.34924623115577,487.89741125932625],\"yaxis\":\"y\",\"type\":\"bar\"}],                        {\"template\":{\"data\":{\"histogram2dcontour\":[{\"type\":\"histogram2dcontour\",\"colorbar\":{\"outlinewidth\":0,\"ticks\":\"\"},\"colorscale\":[[0.0,\"#0d0887\"],[0.1111111111111111,\"#46039f\"],[0.2222222222222222,\"#7201a8\"],[0.3333333333333333,\"#9c179e\"],[0.4444444444444444,\"#bd3786\"],[0.5555555555555556,\"#d8576b\"],[0.6666666666666666,\"#ed7953\"],[0.7777777777777778,\"#fb9f3a\"],[0.8888888888888888,\"#fdca26\"],[1.0,\"#f0f921\"]]}],\"choropleth\":[{\"type\":\"choropleth\",\"colorbar\":{\"outlinewidth\":0,\"ticks\":\"\"}}],\"histogram2d\":[{\"type\":\"histogram2d\",\"colorbar\":{\"outlinewidth\":0,\"ticks\":\"\"},\"colorscale\":[[0.0,\"#0d0887\"],[0.1111111111111111,\"#46039f\"],[0.2222222222222222,\"#7201a8\"],[0.3333333333333333,\"#9c179e\"],[0.4444444444444444,\"#bd3786\"],[0.5555555555555556,\"#d8576b\"],[0.6666666666666666,\"#ed7953\"],[0.7777777777777778,\"#fb9f3a\"],[0.8888888888888888,\"#fdca26\"],[1.0,\"#f0f921\"]]}],\"heatmap\":[{\"type\":\"heatmap\",\"colorbar\":{\"outlinewidth\":0,\"ticks\":\"\"},\"colorscale\":[[0.0,\"#0d0887\"],[0.1111111111111111,\"#46039f\"],[0.2222222222222222,\"#7201a8\"],[0.3333333333333333,\"#9c179e\"],[0.4444444444444444,\"#bd3786\"],[0.5555555555555556,\"#d8576b\"],[0.6666666666666666,\"#ed7953\"],[0.7777777777777778,\"#fb9f3a\"],[0.8888888888888888,\"#fdca26\"],[1.0,\"#f0f921\"]]}],\"heatmapgl\":[{\"type\":\"heatmapgl\",\"colorbar\":{\"outlinewidth\":0,\"ticks\":\"\"},\"colorscale\":[[0.0,\"#0d0887\"],[0.1111111111111111,\"#46039f\"],[0.2222222222222222,\"#7201a8\"],[0.3333333333333333,\"#9c179e\"],[0.4444444444444444,\"#bd3786\"],[0.5555555555555556,\"#d8576b\"],[0.6666666666666666,\"#ed7953\"],[0.7777777777777778,\"#fb9f3a\"],[0.8888888888888888,\"#fdca26\"],[1.0,\"#f0f921\"]]}],\"contourcarpet\":[{\"type\":\"contourcarpet\",\"colorbar\":{\"outlinewidth\":0,\"ticks\":\"\"}}],\"contour\":[{\"type\":\"contour\",\"colorbar\":{\"outlinewidth\":0,\"ticks\":\"\"},\"colorscale\":[[0.0,\"#0d0887\"],[0.1111111111111111,\"#46039f\"],[0.2222222222222222,\"#7201a8\"],[0.3333333333333333,\"#9c179e\"],[0.4444444444444444,\"#bd3786\"],[0.5555555555555556,\"#d8576b\"],[0.6666666666666666,\"#ed7953\"],[0.7777777777777778,\"#fb9f3a\"],[0.8888888888888888,\"#fdca26\"],[1.0,\"#f0f921\"]]}],\"surface\":[{\"type\":\"surface\",\"colorbar\":{\"outlinewidth\":0,\"ticks\":\"\"},\"colorscale\":[[0.0,\"#0d0887\"],[0.1111111111111111,\"#46039f\"],[0.2222222222222222,\"#7201a8\"],[0.3333333333333333,\"#9c179e\"],[0.4444444444444444,\"#bd3786\"],[0.5555555555555556,\"#d8576b\"],[0.6666666666666666,\"#ed7953\"],[0.7777777777777778,\"#fb9f3a\"],[0.8888888888888888,\"#fdca26\"],[1.0,\"#f0f921\"]]}],\"mesh3d\":[{\"type\":\"mesh3d\",\"colorbar\":{\"outlinewidth\":0,\"ticks\":\"\"}}],\"scatter\":[{\"fillpattern\":{\"fillmode\":\"overlay\",\"size\":10,\"solidity\":0.2},\"type\":\"scatter\"}],\"parcoords\":[{\"type\":\"parcoords\",\"line\":{\"colorbar\":{\"outlinewidth\":0,\"ticks\":\"\"}}}],\"scatterpolargl\":[{\"type\":\"scatterpolargl\",\"marker\":{\"colorbar\":{\"outlinewidth\":0,\"ticks\":\"\"}}}],\"bar\":[{\"error_x\":{\"color\":\"#2a3f5f\"},\"error_y\":{\"color\":\"#2a3f5f\"},\"marker\":{\"line\":{\"color\":\"#E5ECF6\",\"width\":0.5},\"pattern\":{\"fillmode\":\"overlay\",\"size\":10,\"solidity\":0.2}},\"type\":\"bar\"}],\"scattergeo\":[{\"type\":\"scattergeo\",\"marker\":{\"colorbar\":{\"outlinewidth\":0,\"ticks\":\"\"}}}],\"scatterpolar\":[{\"type\":\"scatterpolar\",\"marker\":{\"colorbar\":{\"outlinewidth\":0,\"ticks\":\"\"}}}],\"histogram\":[{\"marker\":{\"pattern\":{\"fillmode\":\"overlay\",\"size\":10,\"solidity\":0.2}},\"type\":\"histogram\"}],\"scattergl\":[{\"type\":\"scattergl\",\"marker\":{\"colorbar\":{\"outlinewidth\":0,\"ticks\":\"\"}}}],\"scatter3d\":[{\"type\":\"scatter3d\",\"line\":{\"colorbar\":{\"outlinewidth\":0,\"ticks\":\"\"}},\"marker\":{\"colorbar\":{\"outlinewidth\":0,\"ticks\":\"\"}}}],\"scattermapbox\":[{\"type\":\"scattermapbox\",\"marker\":{\"colorbar\":{\"outlinewidth\":0,\"ticks\":\"\"}}}],\"scatterternary\":[{\"type\":\"scatterternary\",\"marker\":{\"colorbar\":{\"outlinewidth\":0,\"ticks\":\"\"}}}],\"scattercarpet\":[{\"type\":\"scattercarpet\",\"marker\":{\"colorbar\":{\"outlinewidth\":0,\"ticks\":\"\"}}}],\"carpet\":[{\"aaxis\":{\"endlinecolor\":\"#2a3f5f\",\"gridcolor\":\"white\",\"linecolor\":\"white\",\"minorgridcolor\":\"white\",\"startlinecolor\":\"#2a3f5f\"},\"baxis\":{\"endlinecolor\":\"#2a3f5f\",\"gridcolor\":\"white\",\"linecolor\":\"white\",\"minorgridcolor\":\"white\",\"startlinecolor\":\"#2a3f5f\"},\"type\":\"carpet\"}],\"table\":[{\"cells\":{\"fill\":{\"color\":\"#EBF0F8\"},\"line\":{\"color\":\"white\"}},\"header\":{\"fill\":{\"color\":\"#C8D4E3\"},\"line\":{\"color\":\"white\"}},\"type\":\"table\"}],\"barpolar\":[{\"marker\":{\"line\":{\"color\":\"#E5ECF6\",\"width\":0.5},\"pattern\":{\"fillmode\":\"overlay\",\"size\":10,\"solidity\":0.2}},\"type\":\"barpolar\"}],\"pie\":[{\"automargin\":true,\"type\":\"pie\"}]},\"layout\":{\"autotypenumbers\":\"strict\",\"colorway\":[\"#636efa\",\"#EF553B\",\"#00cc96\",\"#ab63fa\",\"#FFA15A\",\"#19d3f3\",\"#FF6692\",\"#B6E880\",\"#FF97FF\",\"#FECB52\"],\"font\":{\"color\":\"#2a3f5f\"},\"hovermode\":\"closest\",\"hoverlabel\":{\"align\":\"left\"},\"paper_bgcolor\":\"white\",\"plot_bgcolor\":\"#E5ECF6\",\"polar\":{\"bgcolor\":\"#E5ECF6\",\"angularaxis\":{\"gridcolor\":\"white\",\"linecolor\":\"white\",\"ticks\":\"\"},\"radialaxis\":{\"gridcolor\":\"white\",\"linecolor\":\"white\",\"ticks\":\"\"}},\"ternary\":{\"bgcolor\":\"#E5ECF6\",\"aaxis\":{\"gridcolor\":\"white\",\"linecolor\":\"white\",\"ticks\":\"\"},\"baxis\":{\"gridcolor\":\"white\",\"linecolor\":\"white\",\"ticks\":\"\"},\"caxis\":{\"gridcolor\":\"white\",\"linecolor\":\"white\",\"ticks\":\"\"}},\"coloraxis\":{\"colorbar\":{\"outlinewidth\":0,\"ticks\":\"\"}},\"colorscale\":{\"sequential\":[[0.0,\"#0d0887\"],[0.1111111111111111,\"#46039f\"],[0.2222222222222222,\"#7201a8\"],[0.3333333333333333,\"#9c179e\"],[0.4444444444444444,\"#bd3786\"],[0.5555555555555556,\"#d8576b\"],[0.6666666666666666,\"#ed7953\"],[0.7777777777777778,\"#fb9f3a\"],[0.8888888888888888,\"#fdca26\"],[1.0,\"#f0f921\"]],\"sequentialminus\":[[0.0,\"#0d0887\"],[0.1111111111111111,\"#46039f\"],[0.2222222222222222,\"#7201a8\"],[0.3333333333333333,\"#9c179e\"],[0.4444444444444444,\"#bd3786\"],[0.5555555555555556,\"#d8576b\"],[0.6666666666666666,\"#ed7953\"],[0.7777777777777778,\"#fb9f3a\"],[0.8888888888888888,\"#fdca26\"],[1.0,\"#f0f921\"]],\"diverging\":[[0,\"#8e0152\"],[0.1,\"#c51b7d\"],[0.2,\"#de77ae\"],[0.3,\"#f1b6da\"],[0.4,\"#fde0ef\"],[0.5,\"#f7f7f7\"],[0.6,\"#e6f5d0\"],[0.7,\"#b8e186\"],[0.8,\"#7fbc41\"],[0.9,\"#4d9221\"],[1,\"#276419\"]]},\"xaxis\":{\"gridcolor\":\"white\",\"linecolor\":\"white\",\"ticks\":\"\",\"title\":{\"standoff\":15},\"zerolinecolor\":\"white\",\"automargin\":true,\"zerolinewidth\":2},\"yaxis\":{\"gridcolor\":\"white\",\"linecolor\":\"white\",\"ticks\":\"\",\"title\":{\"standoff\":15},\"zerolinecolor\":\"white\",\"automargin\":true,\"zerolinewidth\":2},\"scene\":{\"xaxis\":{\"backgroundcolor\":\"#E5ECF6\",\"gridcolor\":\"white\",\"linecolor\":\"white\",\"showbackground\":true,\"ticks\":\"\",\"zerolinecolor\":\"white\",\"gridwidth\":2},\"yaxis\":{\"backgroundcolor\":\"#E5ECF6\",\"gridcolor\":\"white\",\"linecolor\":\"white\",\"showbackground\":true,\"ticks\":\"\",\"zerolinecolor\":\"white\",\"gridwidth\":2},\"zaxis\":{\"backgroundcolor\":\"#E5ECF6\",\"gridcolor\":\"white\",\"linecolor\":\"white\",\"showbackground\":true,\"ticks\":\"\",\"zerolinecolor\":\"white\",\"gridwidth\":2}},\"shapedefaults\":{\"line\":{\"color\":\"#2a3f5f\"}},\"annotationdefaults\":{\"arrowcolor\":\"#2a3f5f\",\"arrowhead\":0,\"arrowwidth\":1},\"geo\":{\"bgcolor\":\"white\",\"landcolor\":\"#E5ECF6\",\"subunitcolor\":\"white\",\"showland\":true,\"showlakes\":true,\"lakecolor\":\"white\"},\"title\":{\"x\":0.05},\"mapbox\":{\"style\":\"light\"}}},\"xaxis\":{\"anchor\":\"y\",\"domain\":[0.0,1.0],\"title\":{\"text\":\"Job Keyword\"}},\"yaxis\":{\"anchor\":\"x\",\"domain\":[0.0,1.0],\"title\":{\"text\":\"Average Salary\"}},\"legend\":{\"tracegroupgap\":0},\"title\":{\"text\":\"Average Salary by Job Title Keyword\"},\"barmode\":\"relative\"},                        {\"responsive\": true}                    ).then(function(){\n",
              "                            \n",
              "var gd = document.getElementById('c2a04919-6d6a-4be3-a7d4-49dccdd0ec6c');\n",
              "var x = new MutationObserver(function (mutations, observer) {{\n",
              "        var display = window.getComputedStyle(gd).display;\n",
              "        if (!display || display === 'none') {{\n",
              "            console.log([gd, 'removed!']);\n",
              "            Plotly.purge(gd);\n",
              "            observer.disconnect();\n",
              "        }}\n",
              "}});\n",
              "\n",
              "// Listen for the removal of the full notebook cells\n",
              "var notebookContainer = gd.closest('#notebook-container');\n",
              "if (notebookContainer) {{\n",
              "    x.observe(notebookContainer, {childList: true});\n",
              "}}\n",
              "\n",
              "// Listen for the clearing of the current output cell\n",
              "var outputEl = gd.closest('.output');\n",
              "if (outputEl) {{\n",
              "    x.observe(outputEl, {childList: true});\n",
              "}}\n",
              "\n",
              "                        })                };                            </script>        </div>\n",
              "</body>\n",
              "</html>"
            ]
          },
          "metadata": {}
        }
      ],
      "source": [
        "# Analyze CAnaorrelation Between Job Title Keywords and Salaries\n",
        "keyword_salary_df = df_cleaned.explode(\"keywords\").groupby(\"keywords\")[\"salary\"].mean().reset_index()\n",
        "fig1 = px.bar(keyword_salary_df, x=\"keywords\", y=\"salary\", title=\"Average Salary by Job Title Keyword\", labels={\"salary\": \"Average Salary\", \"keywords\": \"Job Keyword\"})\n",
        "fig1.show()\n",
        "\n"
      ]
    },
    {
      "cell_type": "markdown",
      "source": [
        "# kEY Insights:\n",
        "\n",
        "1.Highest-Paid Job Keywords:\n",
        "\n",
        "*The keywords \"architect\" and \"blockchain\" have the highest average salaries, exceeding 1400. This suggests that professionals with these job roles or skills are highly valued in the market.\n",
        "\n",
        "2.Moderately High-Paid Job Keywords:\n",
        "\n",
        "*Keywords like \"machine learning,\" \"consultant,\" \"engineer,\" and \"administrator\" show relatively higher salaries compared to others, indicating that these roles are also well-compensated.\n",
        "\n",
        "3.Lower-Paid Job Keywords:\n",
        "\n",
        "*Keywords such as \"scientist,\" \"data,\" and \"lead\" have the lowest average salaries, suggesting that these roles might either be entry-level or have lower pay in comparison to others in the dataset.\n",
        "\n",
        "4.Varied Salary Distribution:\n",
        "\n",
        "There is a significant variation in average salaries based on job keywords. Some technical and specialized roles (e.g., architect, blockchain) command higher salaries, while generalist roles (e.g., data, scientist) have lower compensation.\n",
        "\n",
        "5.Emerging Trends:\n",
        "\n",
        "The presence of keywords like \"remote\" suggests the growing trend of remote job opportunities, and its salary positioning could indicate how well remote roles are paid relative to others.\n",
        "\n",
        "6.Business Implications:\n",
        "\n",
        "Job Seekers: Professionals should aim to upskill in high-demand areas like blockchain, architecture, and machine learning to improve earning potential.\n",
        "\n",
        "Employers & Recruiters: Companies looking for specialized talent in high-paying roles must be ready to offer competitive salaries.\n",
        "\n",
        "Career Planning: Individuals entering the job market should consider focusing on skills that align with higher-paying job keywords.\n"
      ],
      "metadata": {
        "id": "lsJxSa4ytLIt"
      }
    },
    {
      "cell_type": "markdown",
      "source": [
        "# TASK\n",
        "#  Identify Emerging Job Categories Based on Posting Frequency"
      ],
      "metadata": {
        "id": "P8Pu4mLxK1mQ"
      }
    },
    {
      "cell_type": "code",
      "execution_count": null,
      "metadata": {
        "colab": {
          "base_uri": "https://localhost:8080/",
          "height": 542
        },
        "id": "CzROEg-JfZMG",
        "outputId": "2951f5cd-7126-44e9-e9b4-3a2c1d471a18"
      },
      "outputs": [
        {
          "output_type": "display_data",
          "data": {
            "text/html": [
              "<html>\n",
              "<head><meta charset=\"utf-8\" /></head>\n",
              "<body>\n",
              "    <div>            <script src=\"https://cdnjs.cloudflare.com/ajax/libs/mathjax/2.7.5/MathJax.js?config=TeX-AMS-MML_SVG\"></script><script type=\"text/javascript\">if (window.MathJax && window.MathJax.Hub && window.MathJax.Hub.Config) {window.MathJax.Hub.Config({SVG: {font: \"STIX-Web\"}});}</script>                <script type=\"text/javascript\">window.PlotlyConfig = {MathJaxConfig: 'local'};</script>\n",
              "        <script charset=\"utf-8\" src=\"https://cdn.plot.ly/plotly-2.35.2.min.js\"></script>                <div id=\"eabfc67f-1418-4147-b123-63f48dc0aef1\" class=\"plotly-graph-div\" style=\"height:525px; width:100%;\"></div>            <script type=\"text/javascript\">                                    window.PLOTLYENV=window.PLOTLYENV || {};                                    if (document.getElementById(\"eabfc67f-1418-4147-b123-63f48dc0aef1\")) {                    Plotly.newPlot(                        \"eabfc67f-1418-4147-b123-63f48dc0aef1\",                        [{\"hovertemplate\":\"keywords=administrator\\u003cbr\\u003epublished_date=%{x}\\u003cbr\\u003ecount=%{y}\\u003cextra\\u003e\\u003c\\u002fextra\\u003e\",\"legendgroup\":\"administrator\",\"line\":{\"color\":\"#636efa\",\"dash\":\"solid\"},\"marker\":{\"symbol\":\"circle\"},\"mode\":\"lines\",\"name\":\"administrator\",\"orientation\":\"v\",\"showlegend\":true,\"x\":[\"2024-02-29T00:00:00+00:00\",\"2024-03-31T00:00:00+00:00\"],\"xaxis\":\"x\",\"y\":[107,128],\"yaxis\":\"y\",\"type\":\"scatter\"},{\"hovertemplate\":\"keywords=analyst\\u003cbr\\u003epublished_date=%{x}\\u003cbr\\u003ecount=%{y}\\u003cextra\\u003e\\u003c\\u002fextra\\u003e\",\"legendgroup\":\"analyst\",\"line\":{\"color\":\"#EF553B\",\"dash\":\"solid\"},\"marker\":{\"symbol\":\"circle\"},\"mode\":\"lines\",\"name\":\"analyst\",\"orientation\":\"v\",\"showlegend\":true,\"x\":[\"2024-02-29T00:00:00+00:00\",\"2024-03-31T00:00:00+00:00\"],\"xaxis\":\"x\",\"y\":[427,521],\"yaxis\":\"y\",\"type\":\"scatter\"},{\"hovertemplate\":\"keywords=architect\\u003cbr\\u003epublished_date=%{x}\\u003cbr\\u003ecount=%{y}\\u003cextra\\u003e\\u003c\\u002fextra\\u003e\",\"legendgroup\":\"architect\",\"line\":{\"color\":\"#00cc96\",\"dash\":\"solid\"},\"marker\":{\"symbol\":\"circle\"},\"mode\":\"lines\",\"name\":\"architect\",\"orientation\":\"v\",\"showlegend\":true,\"x\":[\"2023-11-30T00:00:00+00:00\",\"2024-02-29T00:00:00+00:00\",\"2024-03-31T00:00:00+00:00\"],\"xaxis\":\"x\",\"y\":[1,210,325],\"yaxis\":\"y\",\"type\":\"scatter\"},{\"hovertemplate\":\"keywords=blockchain\\u003cbr\\u003epublished_date=%{x}\\u003cbr\\u003ecount=%{y}\\u003cextra\\u003e\\u003c\\u002fextra\\u003e\",\"legendgroup\":\"blockchain\",\"line\":{\"color\":\"#ab63fa\",\"dash\":\"solid\"},\"marker\":{\"symbol\":\"circle\"},\"mode\":\"lines\",\"name\":\"blockchain\",\"orientation\":\"v\",\"showlegend\":true,\"x\":[\"2024-02-29T00:00:00+00:00\",\"2024-03-31T00:00:00+00:00\"],\"xaxis\":\"x\",\"y\":[208,314],\"yaxis\":\"y\",\"type\":\"scatter\"},{\"hovertemplate\":\"keywords=cloud\\u003cbr\\u003epublished_date=%{x}\\u003cbr\\u003ecount=%{y}\\u003cextra\\u003e\\u003c\\u002fextra\\u003e\",\"legendgroup\":\"cloud\",\"line\":{\"color\":\"#FFA15A\",\"dash\":\"solid\"},\"marker\":{\"symbol\":\"circle\"},\"mode\":\"lines\",\"name\":\"cloud\",\"orientation\":\"v\",\"showlegend\":true,\"x\":[\"2024-02-29T00:00:00+00:00\",\"2024-03-31T00:00:00+00:00\"],\"xaxis\":\"x\",\"y\":[200,324],\"yaxis\":\"y\",\"type\":\"scatter\"},{\"hovertemplate\":\"keywords=consultant\\u003cbr\\u003epublished_date=%{x}\\u003cbr\\u003ecount=%{y}\\u003cextra\\u003e\\u003c\\u002fextra\\u003e\",\"legendgroup\":\"consultant\",\"line\":{\"color\":\"#19d3f3\",\"dash\":\"solid\"},\"marker\":{\"symbol\":\"circle\"},\"mode\":\"lines\",\"name\":\"consultant\",\"orientation\":\"v\",\"showlegend\":true,\"x\":[\"2024-01-31T00:00:00+00:00\",\"2024-02-29T00:00:00+00:00\",\"2024-03-31T00:00:00+00:00\"],\"xaxis\":\"x\",\"y\":[1,529,686],\"yaxis\":\"y\",\"type\":\"scatter\"},{\"hovertemplate\":\"keywords=cybersecurity\\u003cbr\\u003epublished_date=%{x}\\u003cbr\\u003ecount=%{y}\\u003cextra\\u003e\\u003c\\u002fextra\\u003e\",\"legendgroup\":\"cybersecurity\",\"line\":{\"color\":\"#FF6692\",\"dash\":\"solid\"},\"marker\":{\"symbol\":\"circle\"},\"mode\":\"lines\",\"name\":\"cybersecurity\",\"orientation\":\"v\",\"showlegend\":true,\"x\":[\"2024-01-31T00:00:00+00:00\",\"2024-02-29T00:00:00+00:00\",\"2024-03-31T00:00:00+00:00\"],\"xaxis\":\"x\",\"y\":[1,46,79],\"yaxis\":\"y\",\"type\":\"scatter\"},{\"hovertemplate\":\"keywords=data\\u003cbr\\u003epublished_date=%{x}\\u003cbr\\u003ecount=%{y}\\u003cextra\\u003e\\u003c\\u002fextra\\u003e\",\"legendgroup\":\"data\",\"line\":{\"color\":\"#B6E880\",\"dash\":\"solid\"},\"marker\":{\"symbol\":\"circle\"},\"mode\":\"lines\",\"name\":\"data\",\"orientation\":\"v\",\"showlegend\":true,\"x\":[\"2024-01-31T00:00:00+00:00\",\"2024-02-29T00:00:00+00:00\",\"2024-03-31T00:00:00+00:00\"],\"xaxis\":\"x\",\"y\":[5,2809,3208],\"yaxis\":\"y\",\"type\":\"scatter\"},{\"hovertemplate\":\"keywords=designer\\u003cbr\\u003epublished_date=%{x}\\u003cbr\\u003ecount=%{y}\\u003cextra\\u003e\\u003c\\u002fextra\\u003e\",\"legendgroup\":\"designer\",\"line\":{\"color\":\"#FF97FF\",\"dash\":\"solid\"},\"marker\":{\"symbol\":\"circle\"},\"mode\":\"lines\",\"name\":\"designer\",\"orientation\":\"v\",\"showlegend\":true,\"x\":[\"2024-01-31T00:00:00+00:00\",\"2024-02-29T00:00:00+00:00\",\"2024-03-31T00:00:00+00:00\"],\"xaxis\":\"x\",\"y\":[2,4422,6263],\"yaxis\":\"y\",\"type\":\"scatter\"},{\"hovertemplate\":\"keywords=developer\\u003cbr\\u003epublished_date=%{x}\\u003cbr\\u003ecount=%{y}\\u003cextra\\u003e\\u003c\\u002fextra\\u003e\",\"legendgroup\":\"developer\",\"line\":{\"color\":\"#FECB52\",\"dash\":\"solid\"},\"marker\":{\"symbol\":\"circle\"},\"mode\":\"lines\",\"name\":\"developer\",\"orientation\":\"v\",\"showlegend\":true,\"x\":[\"2024-01-31T00:00:00+00:00\",\"2024-02-29T00:00:00+00:00\",\"2024-03-31T00:00:00+00:00\"],\"xaxis\":\"x\",\"y\":[4,5535,7971],\"yaxis\":\"y\",\"type\":\"scatter\"},{\"hovertemplate\":\"keywords=engineer\\u003cbr\\u003epublished_date=%{x}\\u003cbr\\u003ecount=%{y}\\u003cextra\\u003e\\u003c\\u002fextra\\u003e\",\"legendgroup\":\"engineer\",\"line\":{\"color\":\"#636efa\",\"dash\":\"solid\"},\"marker\":{\"symbol\":\"circle\"},\"mode\":\"lines\",\"name\":\"engineer\",\"orientation\":\"v\",\"showlegend\":true,\"x\":[\"2024-01-31T00:00:00+00:00\",\"2024-02-29T00:00:00+00:00\",\"2024-03-31T00:00:00+00:00\"],\"xaxis\":\"x\",\"y\":[2,909,1249],\"yaxis\":\"y\",\"type\":\"scatter\"},{\"hovertemplate\":\"keywords=lead\\u003cbr\\u003epublished_date=%{x}\\u003cbr\\u003ecount=%{y}\\u003cextra\\u003e\\u003c\\u002fextra\\u003e\",\"legendgroup\":\"lead\",\"line\":{\"color\":\"#EF553B\",\"dash\":\"solid\"},\"marker\":{\"symbol\":\"circle\"},\"mode\":\"lines\",\"name\":\"lead\",\"orientation\":\"v\",\"showlegend\":true,\"x\":[\"2023-11-30T00:00:00+00:00\",\"2024-01-31T00:00:00+00:00\",\"2024-02-29T00:00:00+00:00\",\"2024-03-31T00:00:00+00:00\"],\"xaxis\":\"x\",\"y\":[1,2,1196,1724],\"yaxis\":\"y\",\"type\":\"scatter\"},{\"hovertemplate\":\"keywords=machine learning\\u003cbr\\u003epublished_date=%{x}\\u003cbr\\u003ecount=%{y}\\u003cextra\\u003e\\u003c\\u002fextra\\u003e\",\"legendgroup\":\"machine learning\",\"line\":{\"color\":\"#00cc96\",\"dash\":\"solid\"},\"marker\":{\"symbol\":\"circle\"},\"mode\":\"lines\",\"name\":\"machine learning\",\"orientation\":\"v\",\"showlegend\":true,\"x\":[\"2024-02-29T00:00:00+00:00\",\"2024-03-31T00:00:00+00:00\"],\"xaxis\":\"x\",\"y\":[98,157],\"yaxis\":\"y\",\"type\":\"scatter\"},{\"hovertemplate\":\"keywords=manager\\u003cbr\\u003epublished_date=%{x}\\u003cbr\\u003ecount=%{y}\\u003cextra\\u003e\\u003c\\u002fextra\\u003e\",\"legendgroup\":\"manager\",\"line\":{\"color\":\"#ab63fa\",\"dash\":\"solid\"},\"marker\":{\"symbol\":\"circle\"},\"mode\":\"lines\",\"name\":\"manager\",\"orientation\":\"v\",\"showlegend\":true,\"x\":[\"2024-01-31T00:00:00+00:00\",\"2024-02-29T00:00:00+00:00\",\"2024-03-31T00:00:00+00:00\"],\"xaxis\":\"x\",\"y\":[7,2177,3327],\"yaxis\":\"y\",\"type\":\"scatter\"},{\"hovertemplate\":\"keywords=remote\\u003cbr\\u003epublished_date=%{x}\\u003cbr\\u003ecount=%{y}\\u003cextra\\u003e\\u003c\\u002fextra\\u003e\",\"legendgroup\":\"remote\",\"line\":{\"color\":\"#FFA15A\",\"dash\":\"solid\"},\"marker\":{\"symbol\":\"circle\"},\"mode\":\"lines\",\"name\":\"remote\",\"orientation\":\"v\",\"showlegend\":true,\"x\":[\"2024-01-31T00:00:00+00:00\",\"2024-02-29T00:00:00+00:00\",\"2024-03-31T00:00:00+00:00\"],\"xaxis\":\"x\",\"y\":[2,430,594],\"yaxis\":\"y\",\"type\":\"scatter\"},{\"hovertemplate\":\"keywords=scientist\\u003cbr\\u003epublished_date=%{x}\\u003cbr\\u003ecount=%{y}\\u003cextra\\u003e\\u003c\\u002fextra\\u003e\",\"legendgroup\":\"scientist\",\"line\":{\"color\":\"#19d3f3\",\"dash\":\"solid\"},\"marker\":{\"symbol\":\"circle\"},\"mode\":\"lines\",\"name\":\"scientist\",\"orientation\":\"v\",\"showlegend\":true,\"x\":[\"2024-01-31T00:00:00+00:00\",\"2024-02-29T00:00:00+00:00\",\"2024-03-31T00:00:00+00:00\"],\"xaxis\":\"x\",\"y\":[1,75,88],\"yaxis\":\"y\",\"type\":\"scatter\"},{\"hovertemplate\":\"keywords=specialist\\u003cbr\\u003epublished_date=%{x}\\u003cbr\\u003ecount=%{y}\\u003cextra\\u003e\\u003c\\u002fextra\\u003e\",\"legendgroup\":\"specialist\",\"line\":{\"color\":\"#FF6692\",\"dash\":\"solid\"},\"marker\":{\"symbol\":\"circle\"},\"mode\":\"lines\",\"name\":\"specialist\",\"orientation\":\"v\",\"showlegend\":true,\"x\":[\"2024-01-31T00:00:00+00:00\",\"2024-02-29T00:00:00+00:00\",\"2024-03-31T00:00:00+00:00\"],\"xaxis\":\"x\",\"y\":[2,2991,4236],\"yaxis\":\"y\",\"type\":\"scatter\"}],                        {\"template\":{\"data\":{\"histogram2dcontour\":[{\"type\":\"histogram2dcontour\",\"colorbar\":{\"outlinewidth\":0,\"ticks\":\"\"},\"colorscale\":[[0.0,\"#0d0887\"],[0.1111111111111111,\"#46039f\"],[0.2222222222222222,\"#7201a8\"],[0.3333333333333333,\"#9c179e\"],[0.4444444444444444,\"#bd3786\"],[0.5555555555555556,\"#d8576b\"],[0.6666666666666666,\"#ed7953\"],[0.7777777777777778,\"#fb9f3a\"],[0.8888888888888888,\"#fdca26\"],[1.0,\"#f0f921\"]]}],\"choropleth\":[{\"type\":\"choropleth\",\"colorbar\":{\"outlinewidth\":0,\"ticks\":\"\"}}],\"histogram2d\":[{\"type\":\"histogram2d\",\"colorbar\":{\"outlinewidth\":0,\"ticks\":\"\"},\"colorscale\":[[0.0,\"#0d0887\"],[0.1111111111111111,\"#46039f\"],[0.2222222222222222,\"#7201a8\"],[0.3333333333333333,\"#9c179e\"],[0.4444444444444444,\"#bd3786\"],[0.5555555555555556,\"#d8576b\"],[0.6666666666666666,\"#ed7953\"],[0.7777777777777778,\"#fb9f3a\"],[0.8888888888888888,\"#fdca26\"],[1.0,\"#f0f921\"]]}],\"heatmap\":[{\"type\":\"heatmap\",\"colorbar\":{\"outlinewidth\":0,\"ticks\":\"\"},\"colorscale\":[[0.0,\"#0d0887\"],[0.1111111111111111,\"#46039f\"],[0.2222222222222222,\"#7201a8\"],[0.3333333333333333,\"#9c179e\"],[0.4444444444444444,\"#bd3786\"],[0.5555555555555556,\"#d8576b\"],[0.6666666666666666,\"#ed7953\"],[0.7777777777777778,\"#fb9f3a\"],[0.8888888888888888,\"#fdca26\"],[1.0,\"#f0f921\"]]}],\"heatmapgl\":[{\"type\":\"heatmapgl\",\"colorbar\":{\"outlinewidth\":0,\"ticks\":\"\"},\"colorscale\":[[0.0,\"#0d0887\"],[0.1111111111111111,\"#46039f\"],[0.2222222222222222,\"#7201a8\"],[0.3333333333333333,\"#9c179e\"],[0.4444444444444444,\"#bd3786\"],[0.5555555555555556,\"#d8576b\"],[0.6666666666666666,\"#ed7953\"],[0.7777777777777778,\"#fb9f3a\"],[0.8888888888888888,\"#fdca26\"],[1.0,\"#f0f921\"]]}],\"contourcarpet\":[{\"type\":\"contourcarpet\",\"colorbar\":{\"outlinewidth\":0,\"ticks\":\"\"}}],\"contour\":[{\"type\":\"contour\",\"colorbar\":{\"outlinewidth\":0,\"ticks\":\"\"},\"colorscale\":[[0.0,\"#0d0887\"],[0.1111111111111111,\"#46039f\"],[0.2222222222222222,\"#7201a8\"],[0.3333333333333333,\"#9c179e\"],[0.4444444444444444,\"#bd3786\"],[0.5555555555555556,\"#d8576b\"],[0.6666666666666666,\"#ed7953\"],[0.7777777777777778,\"#fb9f3a\"],[0.8888888888888888,\"#fdca26\"],[1.0,\"#f0f921\"]]}],\"surface\":[{\"type\":\"surface\",\"colorbar\":{\"outlinewidth\":0,\"ticks\":\"\"},\"colorscale\":[[0.0,\"#0d0887\"],[0.1111111111111111,\"#46039f\"],[0.2222222222222222,\"#7201a8\"],[0.3333333333333333,\"#9c179e\"],[0.4444444444444444,\"#bd3786\"],[0.5555555555555556,\"#d8576b\"],[0.6666666666666666,\"#ed7953\"],[0.7777777777777778,\"#fb9f3a\"],[0.8888888888888888,\"#fdca26\"],[1.0,\"#f0f921\"]]}],\"mesh3d\":[{\"type\":\"mesh3d\",\"colorbar\":{\"outlinewidth\":0,\"ticks\":\"\"}}],\"scatter\":[{\"fillpattern\":{\"fillmode\":\"overlay\",\"size\":10,\"solidity\":0.2},\"type\":\"scatter\"}],\"parcoords\":[{\"type\":\"parcoords\",\"line\":{\"colorbar\":{\"outlinewidth\":0,\"ticks\":\"\"}}}],\"scatterpolargl\":[{\"type\":\"scatterpolargl\",\"marker\":{\"colorbar\":{\"outlinewidth\":0,\"ticks\":\"\"}}}],\"bar\":[{\"error_x\":{\"color\":\"#2a3f5f\"},\"error_y\":{\"color\":\"#2a3f5f\"},\"marker\":{\"line\":{\"color\":\"#E5ECF6\",\"width\":0.5},\"pattern\":{\"fillmode\":\"overlay\",\"size\":10,\"solidity\":0.2}},\"type\":\"bar\"}],\"scattergeo\":[{\"type\":\"scattergeo\",\"marker\":{\"colorbar\":{\"outlinewidth\":0,\"ticks\":\"\"}}}],\"scatterpolar\":[{\"type\":\"scatterpolar\",\"marker\":{\"colorbar\":{\"outlinewidth\":0,\"ticks\":\"\"}}}],\"histogram\":[{\"marker\":{\"pattern\":{\"fillmode\":\"overlay\",\"size\":10,\"solidity\":0.2}},\"type\":\"histogram\"}],\"scattergl\":[{\"type\":\"scattergl\",\"marker\":{\"colorbar\":{\"outlinewidth\":0,\"ticks\":\"\"}}}],\"scatter3d\":[{\"type\":\"scatter3d\",\"line\":{\"colorbar\":{\"outlinewidth\":0,\"ticks\":\"\"}},\"marker\":{\"colorbar\":{\"outlinewidth\":0,\"ticks\":\"\"}}}],\"scattermapbox\":[{\"type\":\"scattermapbox\",\"marker\":{\"colorbar\":{\"outlinewidth\":0,\"ticks\":\"\"}}}],\"scatterternary\":[{\"type\":\"scatterternary\",\"marker\":{\"colorbar\":{\"outlinewidth\":0,\"ticks\":\"\"}}}],\"scattercarpet\":[{\"type\":\"scattercarpet\",\"marker\":{\"colorbar\":{\"outlinewidth\":0,\"ticks\":\"\"}}}],\"carpet\":[{\"aaxis\":{\"endlinecolor\":\"#2a3f5f\",\"gridcolor\":\"white\",\"linecolor\":\"white\",\"minorgridcolor\":\"white\",\"startlinecolor\":\"#2a3f5f\"},\"baxis\":{\"endlinecolor\":\"#2a3f5f\",\"gridcolor\":\"white\",\"linecolor\":\"white\",\"minorgridcolor\":\"white\",\"startlinecolor\":\"#2a3f5f\"},\"type\":\"carpet\"}],\"table\":[{\"cells\":{\"fill\":{\"color\":\"#EBF0F8\"},\"line\":{\"color\":\"white\"}},\"header\":{\"fill\":{\"color\":\"#C8D4E3\"},\"line\":{\"color\":\"white\"}},\"type\":\"table\"}],\"barpolar\":[{\"marker\":{\"line\":{\"color\":\"#E5ECF6\",\"width\":0.5},\"pattern\":{\"fillmode\":\"overlay\",\"size\":10,\"solidity\":0.2}},\"type\":\"barpolar\"}],\"pie\":[{\"automargin\":true,\"type\":\"pie\"}]},\"layout\":{\"autotypenumbers\":\"strict\",\"colorway\":[\"#636efa\",\"#EF553B\",\"#00cc96\",\"#ab63fa\",\"#FFA15A\",\"#19d3f3\",\"#FF6692\",\"#B6E880\",\"#FF97FF\",\"#FECB52\"],\"font\":{\"color\":\"#2a3f5f\"},\"hovermode\":\"closest\",\"hoverlabel\":{\"align\":\"left\"},\"paper_bgcolor\":\"white\",\"plot_bgcolor\":\"#E5ECF6\",\"polar\":{\"bgcolor\":\"#E5ECF6\",\"angularaxis\":{\"gridcolor\":\"white\",\"linecolor\":\"white\",\"ticks\":\"\"},\"radialaxis\":{\"gridcolor\":\"white\",\"linecolor\":\"white\",\"ticks\":\"\"}},\"ternary\":{\"bgcolor\":\"#E5ECF6\",\"aaxis\":{\"gridcolor\":\"white\",\"linecolor\":\"white\",\"ticks\":\"\"},\"baxis\":{\"gridcolor\":\"white\",\"linecolor\":\"white\",\"ticks\":\"\"},\"caxis\":{\"gridcolor\":\"white\",\"linecolor\":\"white\",\"ticks\":\"\"}},\"coloraxis\":{\"colorbar\":{\"outlinewidth\":0,\"ticks\":\"\"}},\"colorscale\":{\"sequential\":[[0.0,\"#0d0887\"],[0.1111111111111111,\"#46039f\"],[0.2222222222222222,\"#7201a8\"],[0.3333333333333333,\"#9c179e\"],[0.4444444444444444,\"#bd3786\"],[0.5555555555555556,\"#d8576b\"],[0.6666666666666666,\"#ed7953\"],[0.7777777777777778,\"#fb9f3a\"],[0.8888888888888888,\"#fdca26\"],[1.0,\"#f0f921\"]],\"sequentialminus\":[[0.0,\"#0d0887\"],[0.1111111111111111,\"#46039f\"],[0.2222222222222222,\"#7201a8\"],[0.3333333333333333,\"#9c179e\"],[0.4444444444444444,\"#bd3786\"],[0.5555555555555556,\"#d8576b\"],[0.6666666666666666,\"#ed7953\"],[0.7777777777777778,\"#fb9f3a\"],[0.8888888888888888,\"#fdca26\"],[1.0,\"#f0f921\"]],\"diverging\":[[0,\"#8e0152\"],[0.1,\"#c51b7d\"],[0.2,\"#de77ae\"],[0.3,\"#f1b6da\"],[0.4,\"#fde0ef\"],[0.5,\"#f7f7f7\"],[0.6,\"#e6f5d0\"],[0.7,\"#b8e186\"],[0.8,\"#7fbc41\"],[0.9,\"#4d9221\"],[1,\"#276419\"]]},\"xaxis\":{\"gridcolor\":\"white\",\"linecolor\":\"white\",\"ticks\":\"\",\"title\":{\"standoff\":15},\"zerolinecolor\":\"white\",\"automargin\":true,\"zerolinewidth\":2},\"yaxis\":{\"gridcolor\":\"white\",\"linecolor\":\"white\",\"ticks\":\"\",\"title\":{\"standoff\":15},\"zerolinecolor\":\"white\",\"automargin\":true,\"zerolinewidth\":2},\"scene\":{\"xaxis\":{\"backgroundcolor\":\"#E5ECF6\",\"gridcolor\":\"white\",\"linecolor\":\"white\",\"showbackground\":true,\"ticks\":\"\",\"zerolinecolor\":\"white\",\"gridwidth\":2},\"yaxis\":{\"backgroundcolor\":\"#E5ECF6\",\"gridcolor\":\"white\",\"linecolor\":\"white\",\"showbackground\":true,\"ticks\":\"\",\"zerolinecolor\":\"white\",\"gridwidth\":2},\"zaxis\":{\"backgroundcolor\":\"#E5ECF6\",\"gridcolor\":\"white\",\"linecolor\":\"white\",\"showbackground\":true,\"ticks\":\"\",\"zerolinecolor\":\"white\",\"gridwidth\":2}},\"shapedefaults\":{\"line\":{\"color\":\"#2a3f5f\"}},\"annotationdefaults\":{\"arrowcolor\":\"#2a3f5f\",\"arrowhead\":0,\"arrowwidth\":1},\"geo\":{\"bgcolor\":\"white\",\"landcolor\":\"#E5ECF6\",\"subunitcolor\":\"white\",\"showland\":true,\"showlakes\":true,\"lakecolor\":\"white\"},\"title\":{\"x\":0.05},\"mapbox\":{\"style\":\"light\"}}},\"xaxis\":{\"anchor\":\"y\",\"domain\":[0.0,1.0],\"title\":{\"text\":\"published_date\"}},\"yaxis\":{\"anchor\":\"x\",\"domain\":[0.0,1.0],\"title\":{\"text\":\"count\"}},\"legend\":{\"title\":{\"text\":\"keywords\"},\"tracegroupgap\":0},\"title\":{\"text\":\"Emerging Job Categories Over Time\"}},                        {\"responsive\": true}                    ).then(function(){\n",
              "                            \n",
              "var gd = document.getElementById('eabfc67f-1418-4147-b123-63f48dc0aef1');\n",
              "var x = new MutationObserver(function (mutations, observer) {{\n",
              "        var display = window.getComputedStyle(gd).display;\n",
              "        if (!display || display === 'none') {{\n",
              "            console.log([gd, 'removed!']);\n",
              "            Plotly.purge(gd);\n",
              "            observer.disconnect();\n",
              "        }}\n",
              "}});\n",
              "\n",
              "// Listen for the removal of the full notebook cells\n",
              "var notebookContainer = gd.closest('#notebook-container');\n",
              "if (notebookContainer) {{\n",
              "    x.observe(notebookContainer, {childList: true});\n",
              "}}\n",
              "\n",
              "// Listen for the clearing of the current output cell\n",
              "var outputEl = gd.closest('.output');\n",
              "if (outputEl) {{\n",
              "    x.observe(outputEl, {childList: true});\n",
              "}}\n",
              "\n",
              "                        })                };                            </script>        </div>\n",
              "</body>\n",
              "</html>"
            ]
          },
          "metadata": {}
        }
      ],
      "source": [
        "# Identify Emerging Job Categories Based on Posting Frequency\n",
        "df_trend = df_cleaned.explode(\"keywords\").groupby([\"keywords\", pd.Grouper(key=\"published_date\", freq=\"ME\")]).size().reset_index(name=\"count\")\n",
        "fig2 = px.line(df_trend, x=\"published_date\", y=\"count\", color=\"keywords\", title=\"Emerging Job Categories Over Time\")\n",
        "fig2.show()\n"
      ]
    },
    {
      "cell_type": "markdown",
      "source": [
        "# Key Insights:\n",
        "\n",
        "1.Rapid Growth in Certain Job Categories:\n",
        "\n",
        "*The keywords with the steepest upward trend indicate high demand and rapid growth.\n",
        "\n",
        "*The most emerging job categories appear to be related to cloud, blockchain, and machine learning, as they have seen the most significant increase in job postings.\n",
        "\n",
        "2.Consistent Increase Across Multiple Categories:\n",
        "\n",
        "*Job roles like analyst, engineer, consultant, and developer are also growing steadily, indicating a consistent demand over time.\n",
        "\n",
        "*This suggests that these roles remain essential in the job market, and their demand is expected to continue.\n",
        "\n",
        "3.Early 2024 Job Market Expansion:\n",
        "\n",
        "*Most job postings started increasing significantly around early February 2024.\n",
        "\n",
        "*This could be linked to companies ramping up hiring after the new year, seasonal hiring trends, or industry shifts.\n",
        "\n",
        "4.Remote Jobs are Emerging:\n",
        "\n",
        "*The presence of the keyword \"remote\" indicates a rise in remote job opportunities, highlighting the continuing shift towards flexible work arrangements.\n",
        "\n",
        "5.Lower Growth in Certain Keywords:\n",
        "\n",
        "*Some job categories, like scientist, lead, and cybersecurity, have a relatively flatter curve, indicating slower growth in postings compared to other roles."
      ],
      "metadata": {
        "id": "yOwhDWVzrn6Y"
      }
    },
    {
      "cell_type": "code",
      "execution_count": null,
      "metadata": {
        "id": "7C2o_FsDg16S"
      },
      "outputs": [],
      "source": []
    },
    {
      "cell_type": "markdown",
      "source": [
        "# TASK 3\n",
        "# Predict High-Demand Job Roles Based on Posting Trends"
      ],
      "metadata": {
        "id": "nCKhK3BNMZwY"
      }
    },
    {
      "cell_type": "code",
      "execution_count": null,
      "metadata": {
        "id": "WfHh4rLMhCC-"
      },
      "outputs": [],
      "source": [
        "from scipy.stats import pearsonr\n",
        "from statsmodels.tsa.holtwinters import ExponentialSmoothing\n",
        "import tensorflow as tf\n",
        "from tensorflow.keras.models import Sequential\n",
        "from tensorflow.keras.layers import Dense, Embedding, LSTM\n"
      ]
    },
    {
      "cell_type": "code",
      "execution_count": null,
      "metadata": {
        "colab": {
          "base_uri": "https://localhost:8080/",
          "height": 629
        },
        "id": "X617ogcIhx3R",
        "outputId": "cb335da5-dadc-4db3-b2bc-5b9c3f3cbcf5"
      },
      "outputs": [
        {
          "output_type": "stream",
          "name": "stdout",
          "text": [
            "Warning: Not enough data for seasonal estimation. Seasonal component disabled.\n"
          ]
        },
        {
          "output_type": "stream",
          "name": "stderr",
          "text": [
            "/usr/local/lib/python3.11/dist-packages/statsmodels/tsa/holtwinters/model.py:918: ConvergenceWarning:\n",
            "\n",
            "Optimization failed to converge. Check mle_retvals.\n",
            "\n"
          ]
        },
        {
          "output_type": "display_data",
          "data": {
            "text/html": [
              "<html>\n",
              "<head><meta charset=\"utf-8\" /></head>\n",
              "<body>\n",
              "    <div>            <script src=\"https://cdnjs.cloudflare.com/ajax/libs/mathjax/2.7.5/MathJax.js?config=TeX-AMS-MML_SVG\"></script><script type=\"text/javascript\">if (window.MathJax && window.MathJax.Hub && window.MathJax.Hub.Config) {window.MathJax.Hub.Config({SVG: {font: \"STIX-Web\"}});}</script>                <script type=\"text/javascript\">window.PlotlyConfig = {MathJaxConfig: 'local'};</script>\n",
              "        <script charset=\"utf-8\" src=\"https://cdn.plot.ly/plotly-2.35.2.min.js\"></script>                <div id=\"cbf98d72-2204-451f-b204-be2329ddfeb6\" class=\"plotly-graph-div\" style=\"height:525px; width:100%;\"></div>            <script type=\"text/javascript\">                                    window.PLOTLYENV=window.PLOTLYENV || {};                                    if (document.getElementById(\"cbf98d72-2204-451f-b204-be2329ddfeb6\")) {                    Plotly.newPlot(                        \"cbf98d72-2204-451f-b204-be2329ddfeb6\",                        [{\"hovertemplate\":\"Time (Months)=%{x}\\u003cbr\\u003eJob Postings=%{y}\\u003cextra\\u003e\\u003c\\u002fextra\\u003e\",\"legendgroup\":\"\",\"line\":{\"color\":\"#636efa\",\"dash\":\"solid\"},\"marker\":{\"symbol\":\"circle\"},\"mode\":\"lines\",\"name\":\"\",\"orientation\":\"v\",\"showlegend\":false,\"x\":[0,1,2,3,4,5,6,7,8,9,10,11,12,13,14,15,16],\"xaxis\":\"x\",\"y\":[1.0,0.0,24.0,20450.0,28646.0,38978.3093847618,49210.7420937702,59443.17480277861,69675.607511787,79908.04022079542,90140.47292980381,100372.90563881223,110605.33834782062,120837.77105682902,131070.20376583743,141302.63647484584,151535.06918385424],\"yaxis\":\"y\",\"type\":\"scatter\"}],                        {\"template\":{\"data\":{\"histogram2dcontour\":[{\"type\":\"histogram2dcontour\",\"colorbar\":{\"outlinewidth\":0,\"ticks\":\"\"},\"colorscale\":[[0.0,\"#0d0887\"],[0.1111111111111111,\"#46039f\"],[0.2222222222222222,\"#7201a8\"],[0.3333333333333333,\"#9c179e\"],[0.4444444444444444,\"#bd3786\"],[0.5555555555555556,\"#d8576b\"],[0.6666666666666666,\"#ed7953\"],[0.7777777777777778,\"#fb9f3a\"],[0.8888888888888888,\"#fdca26\"],[1.0,\"#f0f921\"]]}],\"choropleth\":[{\"type\":\"choropleth\",\"colorbar\":{\"outlinewidth\":0,\"ticks\":\"\"}}],\"histogram2d\":[{\"type\":\"histogram2d\",\"colorbar\":{\"outlinewidth\":0,\"ticks\":\"\"},\"colorscale\":[[0.0,\"#0d0887\"],[0.1111111111111111,\"#46039f\"],[0.2222222222222222,\"#7201a8\"],[0.3333333333333333,\"#9c179e\"],[0.4444444444444444,\"#bd3786\"],[0.5555555555555556,\"#d8576b\"],[0.6666666666666666,\"#ed7953\"],[0.7777777777777778,\"#fb9f3a\"],[0.8888888888888888,\"#fdca26\"],[1.0,\"#f0f921\"]]}],\"heatmap\":[{\"type\":\"heatmap\",\"colorbar\":{\"outlinewidth\":0,\"ticks\":\"\"},\"colorscale\":[[0.0,\"#0d0887\"],[0.1111111111111111,\"#46039f\"],[0.2222222222222222,\"#7201a8\"],[0.3333333333333333,\"#9c179e\"],[0.4444444444444444,\"#bd3786\"],[0.5555555555555556,\"#d8576b\"],[0.6666666666666666,\"#ed7953\"],[0.7777777777777778,\"#fb9f3a\"],[0.8888888888888888,\"#fdca26\"],[1.0,\"#f0f921\"]]}],\"heatmapgl\":[{\"type\":\"heatmapgl\",\"colorbar\":{\"outlinewidth\":0,\"ticks\":\"\"},\"colorscale\":[[0.0,\"#0d0887\"],[0.1111111111111111,\"#46039f\"],[0.2222222222222222,\"#7201a8\"],[0.3333333333333333,\"#9c179e\"],[0.4444444444444444,\"#bd3786\"],[0.5555555555555556,\"#d8576b\"],[0.6666666666666666,\"#ed7953\"],[0.7777777777777778,\"#fb9f3a\"],[0.8888888888888888,\"#fdca26\"],[1.0,\"#f0f921\"]]}],\"contourcarpet\":[{\"type\":\"contourcarpet\",\"colorbar\":{\"outlinewidth\":0,\"ticks\":\"\"}}],\"contour\":[{\"type\":\"contour\",\"colorbar\":{\"outlinewidth\":0,\"ticks\":\"\"},\"colorscale\":[[0.0,\"#0d0887\"],[0.1111111111111111,\"#46039f\"],[0.2222222222222222,\"#7201a8\"],[0.3333333333333333,\"#9c179e\"],[0.4444444444444444,\"#bd3786\"],[0.5555555555555556,\"#d8576b\"],[0.6666666666666666,\"#ed7953\"],[0.7777777777777778,\"#fb9f3a\"],[0.8888888888888888,\"#fdca26\"],[1.0,\"#f0f921\"]]}],\"surface\":[{\"type\":\"surface\",\"colorbar\":{\"outlinewidth\":0,\"ticks\":\"\"},\"colorscale\":[[0.0,\"#0d0887\"],[0.1111111111111111,\"#46039f\"],[0.2222222222222222,\"#7201a8\"],[0.3333333333333333,\"#9c179e\"],[0.4444444444444444,\"#bd3786\"],[0.5555555555555556,\"#d8576b\"],[0.6666666666666666,\"#ed7953\"],[0.7777777777777778,\"#fb9f3a\"],[0.8888888888888888,\"#fdca26\"],[1.0,\"#f0f921\"]]}],\"mesh3d\":[{\"type\":\"mesh3d\",\"colorbar\":{\"outlinewidth\":0,\"ticks\":\"\"}}],\"scatter\":[{\"fillpattern\":{\"fillmode\":\"overlay\",\"size\":10,\"solidity\":0.2},\"type\":\"scatter\"}],\"parcoords\":[{\"type\":\"parcoords\",\"line\":{\"colorbar\":{\"outlinewidth\":0,\"ticks\":\"\"}}}],\"scatterpolargl\":[{\"type\":\"scatterpolargl\",\"marker\":{\"colorbar\":{\"outlinewidth\":0,\"ticks\":\"\"}}}],\"bar\":[{\"error_x\":{\"color\":\"#2a3f5f\"},\"error_y\":{\"color\":\"#2a3f5f\"},\"marker\":{\"line\":{\"color\":\"#E5ECF6\",\"width\":0.5},\"pattern\":{\"fillmode\":\"overlay\",\"size\":10,\"solidity\":0.2}},\"type\":\"bar\"}],\"scattergeo\":[{\"type\":\"scattergeo\",\"marker\":{\"colorbar\":{\"outlinewidth\":0,\"ticks\":\"\"}}}],\"scatterpolar\":[{\"type\":\"scatterpolar\",\"marker\":{\"colorbar\":{\"outlinewidth\":0,\"ticks\":\"\"}}}],\"histogram\":[{\"marker\":{\"pattern\":{\"fillmode\":\"overlay\",\"size\":10,\"solidity\":0.2}},\"type\":\"histogram\"}],\"scattergl\":[{\"type\":\"scattergl\",\"marker\":{\"colorbar\":{\"outlinewidth\":0,\"ticks\":\"\"}}}],\"scatter3d\":[{\"type\":\"scatter3d\",\"line\":{\"colorbar\":{\"outlinewidth\":0,\"ticks\":\"\"}},\"marker\":{\"colorbar\":{\"outlinewidth\":0,\"ticks\":\"\"}}}],\"scattermapbox\":[{\"type\":\"scattermapbox\",\"marker\":{\"colorbar\":{\"outlinewidth\":0,\"ticks\":\"\"}}}],\"scatterternary\":[{\"type\":\"scatterternary\",\"marker\":{\"colorbar\":{\"outlinewidth\":0,\"ticks\":\"\"}}}],\"scattercarpet\":[{\"type\":\"scattercarpet\",\"marker\":{\"colorbar\":{\"outlinewidth\":0,\"ticks\":\"\"}}}],\"carpet\":[{\"aaxis\":{\"endlinecolor\":\"#2a3f5f\",\"gridcolor\":\"white\",\"linecolor\":\"white\",\"minorgridcolor\":\"white\",\"startlinecolor\":\"#2a3f5f\"},\"baxis\":{\"endlinecolor\":\"#2a3f5f\",\"gridcolor\":\"white\",\"linecolor\":\"white\",\"minorgridcolor\":\"white\",\"startlinecolor\":\"#2a3f5f\"},\"type\":\"carpet\"}],\"table\":[{\"cells\":{\"fill\":{\"color\":\"#EBF0F8\"},\"line\":{\"color\":\"white\"}},\"header\":{\"fill\":{\"color\":\"#C8D4E3\"},\"line\":{\"color\":\"white\"}},\"type\":\"table\"}],\"barpolar\":[{\"marker\":{\"line\":{\"color\":\"#E5ECF6\",\"width\":0.5},\"pattern\":{\"fillmode\":\"overlay\",\"size\":10,\"solidity\":0.2}},\"type\":\"barpolar\"}],\"pie\":[{\"automargin\":true,\"type\":\"pie\"}]},\"layout\":{\"autotypenumbers\":\"strict\",\"colorway\":[\"#636efa\",\"#EF553B\",\"#00cc96\",\"#ab63fa\",\"#FFA15A\",\"#19d3f3\",\"#FF6692\",\"#B6E880\",\"#FF97FF\",\"#FECB52\"],\"font\":{\"color\":\"#2a3f5f\"},\"hovermode\":\"closest\",\"hoverlabel\":{\"align\":\"left\"},\"paper_bgcolor\":\"white\",\"plot_bgcolor\":\"#E5ECF6\",\"polar\":{\"bgcolor\":\"#E5ECF6\",\"angularaxis\":{\"gridcolor\":\"white\",\"linecolor\":\"white\",\"ticks\":\"\"},\"radialaxis\":{\"gridcolor\":\"white\",\"linecolor\":\"white\",\"ticks\":\"\"}},\"ternary\":{\"bgcolor\":\"#E5ECF6\",\"aaxis\":{\"gridcolor\":\"white\",\"linecolor\":\"white\",\"ticks\":\"\"},\"baxis\":{\"gridcolor\":\"white\",\"linecolor\":\"white\",\"ticks\":\"\"},\"caxis\":{\"gridcolor\":\"white\",\"linecolor\":\"white\",\"ticks\":\"\"}},\"coloraxis\":{\"colorbar\":{\"outlinewidth\":0,\"ticks\":\"\"}},\"colorscale\":{\"sequential\":[[0.0,\"#0d0887\"],[0.1111111111111111,\"#46039f\"],[0.2222222222222222,\"#7201a8\"],[0.3333333333333333,\"#9c179e\"],[0.4444444444444444,\"#bd3786\"],[0.5555555555555556,\"#d8576b\"],[0.6666666666666666,\"#ed7953\"],[0.7777777777777778,\"#fb9f3a\"],[0.8888888888888888,\"#fdca26\"],[1.0,\"#f0f921\"]],\"sequentialminus\":[[0.0,\"#0d0887\"],[0.1111111111111111,\"#46039f\"],[0.2222222222222222,\"#7201a8\"],[0.3333333333333333,\"#9c179e\"],[0.4444444444444444,\"#bd3786\"],[0.5555555555555556,\"#d8576b\"],[0.6666666666666666,\"#ed7953\"],[0.7777777777777778,\"#fb9f3a\"],[0.8888888888888888,\"#fdca26\"],[1.0,\"#f0f921\"]],\"diverging\":[[0,\"#8e0152\"],[0.1,\"#c51b7d\"],[0.2,\"#de77ae\"],[0.3,\"#f1b6da\"],[0.4,\"#fde0ef\"],[0.5,\"#f7f7f7\"],[0.6,\"#e6f5d0\"],[0.7,\"#b8e186\"],[0.8,\"#7fbc41\"],[0.9,\"#4d9221\"],[1,\"#276419\"]]},\"xaxis\":{\"gridcolor\":\"white\",\"linecolor\":\"white\",\"ticks\":\"\",\"title\":{\"standoff\":15},\"zerolinecolor\":\"white\",\"automargin\":true,\"zerolinewidth\":2},\"yaxis\":{\"gridcolor\":\"white\",\"linecolor\":\"white\",\"ticks\":\"\",\"title\":{\"standoff\":15},\"zerolinecolor\":\"white\",\"automargin\":true,\"zerolinewidth\":2},\"scene\":{\"xaxis\":{\"backgroundcolor\":\"#E5ECF6\",\"gridcolor\":\"white\",\"linecolor\":\"white\",\"showbackground\":true,\"ticks\":\"\",\"zerolinecolor\":\"white\",\"gridwidth\":2},\"yaxis\":{\"backgroundcolor\":\"#E5ECF6\",\"gridcolor\":\"white\",\"linecolor\":\"white\",\"showbackground\":true,\"ticks\":\"\",\"zerolinecolor\":\"white\",\"gridwidth\":2},\"zaxis\":{\"backgroundcolor\":\"#E5ECF6\",\"gridcolor\":\"white\",\"linecolor\":\"white\",\"showbackground\":true,\"ticks\":\"\",\"zerolinecolor\":\"white\",\"gridwidth\":2}},\"shapedefaults\":{\"line\":{\"color\":\"#2a3f5f\"}},\"annotationdefaults\":{\"arrowcolor\":\"#2a3f5f\",\"arrowhead\":0,\"arrowwidth\":1},\"geo\":{\"bgcolor\":\"white\",\"landcolor\":\"#E5ECF6\",\"subunitcolor\":\"white\",\"showland\":true,\"showlakes\":true,\"lakecolor\":\"white\"},\"title\":{\"x\":0.05},\"mapbox\":{\"style\":\"light\"}}},\"xaxis\":{\"anchor\":\"y\",\"domain\":[0.0,1.0],\"title\":{\"text\":\"Time (Months)\"}},\"yaxis\":{\"anchor\":\"x\",\"domain\":[0.0,1.0],\"title\":{\"text\":\"Job Postings\"}},\"legend\":{\"tracegroupgap\":0},\"title\":{\"text\":\"Forecasted High-Demand Job Roles Over Time\"}},                        {\"responsive\": true}                    ).then(function(){\n",
              "                            \n",
              "var gd = document.getElementById('cbf98d72-2204-451f-b204-be2329ddfeb6');\n",
              "var x = new MutationObserver(function (mutations, observer) {{\n",
              "        var display = window.getComputedStyle(gd).display;\n",
              "        if (!display || display === 'none') {{\n",
              "            console.log([gd, 'removed!']);\n",
              "            Plotly.purge(gd);\n",
              "            observer.disconnect();\n",
              "        }}\n",
              "}});\n",
              "\n",
              "// Listen for the removal of the full notebook cells\n",
              "var notebookContainer = gd.closest('#notebook-container');\n",
              "if (notebookContainer) {{\n",
              "    x.observe(notebookContainer, {childList: true});\n",
              "}}\n",
              "\n",
              "// Listen for the clearing of the current output cell\n",
              "var outputEl = gd.closest('.output');\n",
              "if (outputEl) {{\n",
              "    x.observe(outputEl, {childList: true});\n",
              "}}\n",
              "\n",
              "                        })                };                            </script>        </div>\n",
              "</body>\n",
              "</html>"
            ]
          },
          "metadata": {}
        }
      ],
      "source": [
        "# Predict High-Demand Job Roles Based on Posting Trends\n",
        "demand_trend = df_cleaned.groupby(pd.Grouper(key=\"published_date\", freq=\"ME\")).size().reset_index(name=\"count\")\n",
        "\n",
        "# Check if enough data points are available for seasonal estimation\n",
        "if len(demand_trend) < 2 * 12:  # 2 full seasonal cycles\n",
        "    # If not enough data, either gather more data or disable seasonal component\n",
        "    model_trend = ExponentialSmoothing(demand_trend[\"count\"], trend=\"add\", seasonal=None).fit() # Disable seasonal component\n",
        "    print(\"Warning: Not enough data for seasonal estimation. Seasonal component disabled.\")\n",
        "else:\n",
        "    model_trend = ExponentialSmoothing(demand_trend[\"count\"], trend=\"add\", seasonal=\"add\", seasonal_periods=12).fit()\n",
        "\n",
        "predictions = model_trend.forecast(12)\n",
        "fig3 = px.line(x=list(range(len(demand_trend))) + list(range(len(demand_trend), len(demand_trend) + 12)),\n",
        "               y=list(demand_trend[\"count\"]) + list(predictions),\n",
        "               title=\"Forecasted High-Demand Job Roles Over Time\",\n",
        "               labels={\"x\": \"Time (Months)\", \"y\": \"Job Postings\"})\n",
        "fig3.show()"
      ]
    },
    {
      "cell_type": "markdown",
      "source": [
        "# Insights from the Forecasted High-Demand Job Roles Over Time Graph\n",
        "1.Upward Trend in Job Postings:\n",
        "\n",
        "*The forecasted job postings show a steady increase over time, indicating that demand for jobs is expected to grow in the future.\n",
        "\n",
        "*This suggests a positive job market outlook, where more positions are likely to become available.\n",
        "\n",
        "2.Linear Growth Pattern:\n",
        "\n",
        "*The trend appears to be linear, meaning job postings are increasing at a consistent rate rather than experiencing sudden spikes.\n",
        "\n",
        "*This could indicate stable growth in high-demand roles rather than seasonal or short-term fluctuations.\n",
        "\n",
        "3.Warning Messages & Model Limitations:\n",
        "\n",
        "*The model displays a warning about insufficient seasonal data, meaning the seasonality component was disabled in the prediction.\n",
        "*As a result, the forecast does not capture any possible seasonal variations (e.g., hiring booms in certain months).\n",
        "\n",
        "*Additionally, the warning \"Optimization failed to converge\" suggests that the forecasting model may not be fully optimized, potentially affecting accuracy.\n",
        "\n",
        "4.Implications for Job Seekers & Employers:\n",
        "\n",
        "*For job seekers: The increasing trend suggests more opportunities in high-demand job roles, making it a good time to upskill and prepare for these roles.\n",
        "\n",
        "*For employers: Companies should anticipate a competitive hiring landscape, meaning they may need to enhance their recruitment strategies to attract top talent."
      ],
      "metadata": {
        "id": "S5li2G1Uqmmh"
      }
    },
    {
      "cell_type": "markdown",
      "source": [
        "# TASK 4\n",
        "# # Compare Average Hourly Rates Across Different Countries"
      ],
      "metadata": {
        "id": "aAezsxXGM-20"
      }
    },
    {
      "cell_type": "code",
      "execution_count": null,
      "metadata": {
        "colab": {
          "base_uri": "https://localhost:8080/",
          "height": 542
        },
        "id": "EL0LPRuYiW5S",
        "outputId": "97e909d1-0d3d-4cec-f285-bc38fae4edbf"
      },
      "outputs": [
        {
          "output_type": "display_data",
          "data": {
            "text/html": [
              "<html>\n",
              "<head><meta charset=\"utf-8\" /></head>\n",
              "<body>\n",
              "    <div>            <script src=\"https://cdnjs.cloudflare.com/ajax/libs/mathjax/2.7.5/MathJax.js?config=TeX-AMS-MML_SVG\"></script><script type=\"text/javascript\">if (window.MathJax && window.MathJax.Hub && window.MathJax.Hub.Config) {window.MathJax.Hub.Config({SVG: {font: \"STIX-Web\"}});}</script>                <script type=\"text/javascript\">window.PlotlyConfig = {MathJaxConfig: 'local'};</script>\n",
              "        <script charset=\"utf-8\" src=\"https://cdn.plot.ly/plotly-2.35.2.min.js\"></script>                <div id=\"e5758871-df99-4e9b-a937-f458c10ac4be\" class=\"plotly-graph-div\" style=\"height:525px; width:100%;\"></div>            <script type=\"text/javascript\">                                    window.PLOTLYENV=window.PLOTLYENV || {};                                    if (document.getElementById(\"e5758871-df99-4e9b-a937-f458c10ac4be\")) {                    Plotly.newPlot(                        \"e5758871-df99-4e9b-a937-f458c10ac4be\",                        [{\"coloraxis\":\"coloraxis\",\"geo\":\"geo\",\"hovertemplate\":\"\\u003cb\\u003e%{hovertext}\\u003c\\u002fb\\u003e\\u003cbr\\u003e\\u003cbr\\u003ecountry=%{location}\\u003cbr\\u003esalary=%{z}\\u003cextra\\u003e\\u003c\\u002fextra\\u003e\",\"hovertext\":[\"Albania\",\"Algeria\",\"American Samoa\",\"Andorra\",\"Angola\",\"Anguilla\",\"Argentina\",\"Armenia\",\"Australia\",\"Austria\",\"Azerbaijan\",\"Bahamas\",\"Bahrain\",\"Bangladesh\",\"Barbados\",\"Belgium\",\"Belize\",\"Benin\",\"Bermuda\",\"Bolivia\",\"Bosnia and Herzegovina\",\"Botswana\",\"Brazil\",\"British Virgin Islands\",\"Brunei Darussalam\",\"Bulgaria\",\"Cambodia\",\"Cameroon\",\"Canada\",\"Cayman Islands\",\"Chile\",\"China\",\"Cocos (Keeling) Islands\",\"Colombia\",\"Congo\",\"Congo, the Democratic Republic of the\",\"Costa Rica\",\"Cote d&#039;Ivoire\",\"Croatia\",\"Curacao\",\"Cyprus\",\"Czech Republic\",\"Denmark\",\"Dominican Republic\",\"Ecuador\",\"Egypt\",\"El Salvador\",\"Eritrea\",\"Estonia\",\"Ethiopia\",\"Faroe Islands\",\"Fiji\",\"Finland\",\"France\",\"French Guiana\",\"French Polynesia\",\"Gambia\",\"Georgia\",\"Germany\",\"Ghana\",\"Gibraltar\",\"Greece\",\"Grenada\",\"Guadeloupe\",\"Guam\",\"Guatemala\",\"Guyana\",\"Haiti\",\"Honduras\",\"Hong Kong\",\"Hungary\",\"Iceland\",\"India\",\"Indonesia\",\"Ireland\",\"Isle of Man\",\"Israel\",\"Italy\",\"Jamaica\",\"Japan\",\"Jersey\",\"Jordan\",\"Kazakhstan\",\"Kenya\",\"Kuwait\",\"Kyrgyzstan\",\"Laos\",\"Latvia\",\"Lebanon\",\"Liechtenstein\",\"Lithuania\",\"Luxembourg\",\"Macao\",\"Macedonia\",\"Madagascar\",\"Malaysia\",\"Maldives\",\"Mali\",\"Malta\",\"Mauritania\",\"Mauritius\",\"Mexico\",\"Moldova\",\"Monaco\",\"Mongolia\",\"Montenegro\",\"Morocco\",\"Mozambique\",\"Myanmar\",\"Namibia\",\"Nepal\",\"Netherlands\",\"New Zealand\",\"Nicaragua\",\"Niger\",\"Nigeria\",\"Norway\",\"Oman\",\"Pakistan\",\"Palestinian Territories\",\"Panama\",\"Papua New Guinea\",\"Paraguay\",\"Peru\",\"Philippines\",\"Poland\",\"Portugal\",\"Puerto Rico\",\"Qatar\",\"Reunion\",\"Romania\",\"Russia\",\"Rwanda\",\"Saint Lucia\",\"Saudi Arabia\",\"Senegal\",\"Serbia\",\"Seychelles\",\"Sierra Leone\",\"Singapore\",\"Sint Maarten (Dutch part)\",\"Slovakia\",\"Slovenia\",\"Somalia\",\"South Africa\",\"South Korea\",\"Spain\",\"Sri Lanka\",\"Swaziland\",\"Sweden\",\"Switzerland\",\"Taiwan\",\"Tajikistan\",\"Tanzania\",\"Thailand\",\"Togo\",\"Trinidad and Tobago\",\"Tunisia\",\"Turkey\",\"Turkmenistan\",\"Turks and Caicos Islands\",\"Uganda\",\"Ukraine\",\"United Arab Emirates\",\"United Kingdom\",\"United States\",\"United States Virgin Islands\",\"Uruguay\",\"Uzbekistan\",\"Venezuela\",\"Vietnam\",\"Yemen\",\"Zambia\",\"Zimbabwe\"],\"locationmode\":\"country names\",\"locations\":[\"Albania\",\"Algeria\",\"American Samoa\",\"Andorra\",\"Angola\",\"Anguilla\",\"Argentina\",\"Armenia\",\"Australia\",\"Austria\",\"Azerbaijan\",\"Bahamas\",\"Bahrain\",\"Bangladesh\",\"Barbados\",\"Belgium\",\"Belize\",\"Benin\",\"Bermuda\",\"Bolivia\",\"Bosnia and Herzegovina\",\"Botswana\",\"Brazil\",\"British Virgin Islands\",\"Brunei Darussalam\",\"Bulgaria\",\"Cambodia\",\"Cameroon\",\"Canada\",\"Cayman Islands\",\"Chile\",\"China\",\"Cocos (Keeling) Islands\",\"Colombia\",\"Congo\",\"Congo, the Democratic Republic of the\",\"Costa Rica\",\"Cote d&#039;Ivoire\",\"Croatia\",\"Curacao\",\"Cyprus\",\"Czech Republic\",\"Denmark\",\"Dominican Republic\",\"Ecuador\",\"Egypt\",\"El Salvador\",\"Eritrea\",\"Estonia\",\"Ethiopia\",\"Faroe Islands\",\"Fiji\",\"Finland\",\"France\",\"French Guiana\",\"French Polynesia\",\"Gambia\",\"Georgia\",\"Germany\",\"Ghana\",\"Gibraltar\",\"Greece\",\"Grenada\",\"Guadeloupe\",\"Guam\",\"Guatemala\",\"Guyana\",\"Haiti\",\"Honduras\",\"Hong Kong\",\"Hungary\",\"Iceland\",\"India\",\"Indonesia\",\"Ireland\",\"Isle of Man\",\"Israel\",\"Italy\",\"Jamaica\",\"Japan\",\"Jersey\",\"Jordan\",\"Kazakhstan\",\"Kenya\",\"Kuwait\",\"Kyrgyzstan\",\"Laos\",\"Latvia\",\"Lebanon\",\"Liechtenstein\",\"Lithuania\",\"Luxembourg\",\"Macao\",\"Macedonia\",\"Madagascar\",\"Malaysia\",\"Maldives\",\"Mali\",\"Malta\",\"Mauritania\",\"Mauritius\",\"Mexico\",\"Moldova\",\"Monaco\",\"Mongolia\",\"Montenegro\",\"Morocco\",\"Mozambique\",\"Myanmar\",\"Namibia\",\"Nepal\",\"Netherlands\",\"New Zealand\",\"Nicaragua\",\"Niger\",\"Nigeria\",\"Norway\",\"Oman\",\"Pakistan\",\"Palestinian Territories\",\"Panama\",\"Papua New Guinea\",\"Paraguay\",\"Peru\",\"Philippines\",\"Poland\",\"Portugal\",\"Puerto Rico\",\"Qatar\",\"Reunion\",\"Romania\",\"Russia\",\"Rwanda\",\"Saint Lucia\",\"Saudi Arabia\",\"Senegal\",\"Serbia\",\"Seychelles\",\"Sierra Leone\",\"Singapore\",\"Sint Maarten (Dutch part)\",\"Slovakia\",\"Slovenia\",\"Somalia\",\"South Africa\",\"South Korea\",\"Spain\",\"Sri Lanka\",\"Swaziland\",\"Sweden\",\"Switzerland\",\"Taiwan\",\"Tajikistan\",\"Tanzania\",\"Thailand\",\"Togo\",\"Trinidad and Tobago\",\"Tunisia\",\"Turkey\",\"Turkmenistan\",\"Turks and Caicos Islands\",\"Uganda\",\"Ukraine\",\"United Arab Emirates\",\"United Kingdom\",\"United States\",\"United States Virgin Islands\",\"Uruguay\",\"Uzbekistan\",\"Venezuela\",\"Vietnam\",\"Yemen\",\"Zambia\",\"Zimbabwe\"],\"name\":\"\",\"z\":[272.67241379310343,97.65957446808511,200.0,177.5,22.5,22.5,334.485,444.81720430107526,231.20424897502795,135.51006711409397,46.970588235294116,406.25,62.46268656716418,242.46556473829202,87.5,185.59438775510205,175.42857142857142,246.33333333333334,166.375,22.5,90.29629629629629,852.5,190.50378787878788,49.375,10.5,113.21296296296296,109.85714285714286,710.2083333333334,338.92223480558704,257.1666666666667,92.03846153846153,397.9318181818182,25.0,104.6655172413793,27.5,106.875,199.52941176470588,435.625,78.16666666666667,57.5,216.9125,186.26785714285714,790.5564102564102,643.3333333333334,228.94117647058823,397.6458333333333,21.0,50.0,1215.8026315789473,68.57534246575342,350.0,16.5,256.7613636363636,209.16114982578398,34.0,350.0,90.0,164.81578947368422,413.0688622754491,31.705882352941178,33.611111111111114,907.439024390244,94.0,604.5,56.666666666666664,172.27777777777777,30.5,187.33333333333334,1794.25,263.6576923076923,131.15315315315314,156.2941176470588,1524.1405371642722,230.9748201438849,298.91630901287556,145.36363636363637,197.91389432485323,266.72058823529414,94.546875,110.44011976047904,355.8,114.41269841269842,311.13793103448273,264.4421768707483,241.95744680851064,633.3333333333334,39.75,188.03191489361703,266.38953488372096,32.5,138.3728813559322,280.4347826086956,7.5,158.484375,38.166666666666664,216.7909604519774,1940.5,28.5,212.10542168674698,111.375,351.6923076923077,337.6884615384615,335.1170212765957,105.83333333333333,352.5833333333333,185.52380952380952,176.936,51.25,25.375,22.5,382.6666666666667,198.82129963898916,90.75652173913043,514.5,16.5,194.83402489626556,139.28512396694214,183.75,270.2281420765027,122.89473684210526,350.92,29.25,31.38888888888889,119.12264150943396,442.11470588235295,245.65234375,178.87560975609756,144.5909090909091,166.15384615384616,400.0,153.775,833.3333333333334,187.7,8.0,489.67164179104475,29.0,164.4320987654321,23.0,31.25,273.0864811133201,16.25,249.22619047619048,164.66666666666666,21.0,305.2823275862069,162.8678756476684,1062.7081545064377,202.65333333333334,21.5,657.1057692307693,134.84119496855345,122.02,26.25,150.42857142857142,160.98993288590603,11.5,112.43181818181819,38.073170731707314,339.0590717299578,33.75,29.5,169.65384615384616,526.7628571428571,232.129191321499,363.6003932707013,401.59753995950194,7.0,39.06896551724138,132.92424242424244,36.46153846153846,308.2942857142857,165.0,577.2666666666667,3271.0],\"type\":\"choropleth\"}],                        {\"template\":{\"data\":{\"histogram2dcontour\":[{\"type\":\"histogram2dcontour\",\"colorbar\":{\"outlinewidth\":0,\"ticks\":\"\"},\"colorscale\":[[0.0,\"#0d0887\"],[0.1111111111111111,\"#46039f\"],[0.2222222222222222,\"#7201a8\"],[0.3333333333333333,\"#9c179e\"],[0.4444444444444444,\"#bd3786\"],[0.5555555555555556,\"#d8576b\"],[0.6666666666666666,\"#ed7953\"],[0.7777777777777778,\"#fb9f3a\"],[0.8888888888888888,\"#fdca26\"],[1.0,\"#f0f921\"]]}],\"choropleth\":[{\"type\":\"choropleth\",\"colorbar\":{\"outlinewidth\":0,\"ticks\":\"\"}}],\"histogram2d\":[{\"type\":\"histogram2d\",\"colorbar\":{\"outlinewidth\":0,\"ticks\":\"\"},\"colorscale\":[[0.0,\"#0d0887\"],[0.1111111111111111,\"#46039f\"],[0.2222222222222222,\"#7201a8\"],[0.3333333333333333,\"#9c179e\"],[0.4444444444444444,\"#bd3786\"],[0.5555555555555556,\"#d8576b\"],[0.6666666666666666,\"#ed7953\"],[0.7777777777777778,\"#fb9f3a\"],[0.8888888888888888,\"#fdca26\"],[1.0,\"#f0f921\"]]}],\"heatmap\":[{\"type\":\"heatmap\",\"colorbar\":{\"outlinewidth\":0,\"ticks\":\"\"},\"colorscale\":[[0.0,\"#0d0887\"],[0.1111111111111111,\"#46039f\"],[0.2222222222222222,\"#7201a8\"],[0.3333333333333333,\"#9c179e\"],[0.4444444444444444,\"#bd3786\"],[0.5555555555555556,\"#d8576b\"],[0.6666666666666666,\"#ed7953\"],[0.7777777777777778,\"#fb9f3a\"],[0.8888888888888888,\"#fdca26\"],[1.0,\"#f0f921\"]]}],\"heatmapgl\":[{\"type\":\"heatmapgl\",\"colorbar\":{\"outlinewidth\":0,\"ticks\":\"\"},\"colorscale\":[[0.0,\"#0d0887\"],[0.1111111111111111,\"#46039f\"],[0.2222222222222222,\"#7201a8\"],[0.3333333333333333,\"#9c179e\"],[0.4444444444444444,\"#bd3786\"],[0.5555555555555556,\"#d8576b\"],[0.6666666666666666,\"#ed7953\"],[0.7777777777777778,\"#fb9f3a\"],[0.8888888888888888,\"#fdca26\"],[1.0,\"#f0f921\"]]}],\"contourcarpet\":[{\"type\":\"contourcarpet\",\"colorbar\":{\"outlinewidth\":0,\"ticks\":\"\"}}],\"contour\":[{\"type\":\"contour\",\"colorbar\":{\"outlinewidth\":0,\"ticks\":\"\"},\"colorscale\":[[0.0,\"#0d0887\"],[0.1111111111111111,\"#46039f\"],[0.2222222222222222,\"#7201a8\"],[0.3333333333333333,\"#9c179e\"],[0.4444444444444444,\"#bd3786\"],[0.5555555555555556,\"#d8576b\"],[0.6666666666666666,\"#ed7953\"],[0.7777777777777778,\"#fb9f3a\"],[0.8888888888888888,\"#fdca26\"],[1.0,\"#f0f921\"]]}],\"surface\":[{\"type\":\"surface\",\"colorbar\":{\"outlinewidth\":0,\"ticks\":\"\"},\"colorscale\":[[0.0,\"#0d0887\"],[0.1111111111111111,\"#46039f\"],[0.2222222222222222,\"#7201a8\"],[0.3333333333333333,\"#9c179e\"],[0.4444444444444444,\"#bd3786\"],[0.5555555555555556,\"#d8576b\"],[0.6666666666666666,\"#ed7953\"],[0.7777777777777778,\"#fb9f3a\"],[0.8888888888888888,\"#fdca26\"],[1.0,\"#f0f921\"]]}],\"mesh3d\":[{\"type\":\"mesh3d\",\"colorbar\":{\"outlinewidth\":0,\"ticks\":\"\"}}],\"scatter\":[{\"fillpattern\":{\"fillmode\":\"overlay\",\"size\":10,\"solidity\":0.2},\"type\":\"scatter\"}],\"parcoords\":[{\"type\":\"parcoords\",\"line\":{\"colorbar\":{\"outlinewidth\":0,\"ticks\":\"\"}}}],\"scatterpolargl\":[{\"type\":\"scatterpolargl\",\"marker\":{\"colorbar\":{\"outlinewidth\":0,\"ticks\":\"\"}}}],\"bar\":[{\"error_x\":{\"color\":\"#2a3f5f\"},\"error_y\":{\"color\":\"#2a3f5f\"},\"marker\":{\"line\":{\"color\":\"#E5ECF6\",\"width\":0.5},\"pattern\":{\"fillmode\":\"overlay\",\"size\":10,\"solidity\":0.2}},\"type\":\"bar\"}],\"scattergeo\":[{\"type\":\"scattergeo\",\"marker\":{\"colorbar\":{\"outlinewidth\":0,\"ticks\":\"\"}}}],\"scatterpolar\":[{\"type\":\"scatterpolar\",\"marker\":{\"colorbar\":{\"outlinewidth\":0,\"ticks\":\"\"}}}],\"histogram\":[{\"marker\":{\"pattern\":{\"fillmode\":\"overlay\",\"size\":10,\"solidity\":0.2}},\"type\":\"histogram\"}],\"scattergl\":[{\"type\":\"scattergl\",\"marker\":{\"colorbar\":{\"outlinewidth\":0,\"ticks\":\"\"}}}],\"scatter3d\":[{\"type\":\"scatter3d\",\"line\":{\"colorbar\":{\"outlinewidth\":0,\"ticks\":\"\"}},\"marker\":{\"colorbar\":{\"outlinewidth\":0,\"ticks\":\"\"}}}],\"scattermapbox\":[{\"type\":\"scattermapbox\",\"marker\":{\"colorbar\":{\"outlinewidth\":0,\"ticks\":\"\"}}}],\"scatterternary\":[{\"type\":\"scatterternary\",\"marker\":{\"colorbar\":{\"outlinewidth\":0,\"ticks\":\"\"}}}],\"scattercarpet\":[{\"type\":\"scattercarpet\",\"marker\":{\"colorbar\":{\"outlinewidth\":0,\"ticks\":\"\"}}}],\"carpet\":[{\"aaxis\":{\"endlinecolor\":\"#2a3f5f\",\"gridcolor\":\"white\",\"linecolor\":\"white\",\"minorgridcolor\":\"white\",\"startlinecolor\":\"#2a3f5f\"},\"baxis\":{\"endlinecolor\":\"#2a3f5f\",\"gridcolor\":\"white\",\"linecolor\":\"white\",\"minorgridcolor\":\"white\",\"startlinecolor\":\"#2a3f5f\"},\"type\":\"carpet\"}],\"table\":[{\"cells\":{\"fill\":{\"color\":\"#EBF0F8\"},\"line\":{\"color\":\"white\"}},\"header\":{\"fill\":{\"color\":\"#C8D4E3\"},\"line\":{\"color\":\"white\"}},\"type\":\"table\"}],\"barpolar\":[{\"marker\":{\"line\":{\"color\":\"#E5ECF6\",\"width\":0.5},\"pattern\":{\"fillmode\":\"overlay\",\"size\":10,\"solidity\":0.2}},\"type\":\"barpolar\"}],\"pie\":[{\"automargin\":true,\"type\":\"pie\"}]},\"layout\":{\"autotypenumbers\":\"strict\",\"colorway\":[\"#636efa\",\"#EF553B\",\"#00cc96\",\"#ab63fa\",\"#FFA15A\",\"#19d3f3\",\"#FF6692\",\"#B6E880\",\"#FF97FF\",\"#FECB52\"],\"font\":{\"color\":\"#2a3f5f\"},\"hovermode\":\"closest\",\"hoverlabel\":{\"align\":\"left\"},\"paper_bgcolor\":\"white\",\"plot_bgcolor\":\"#E5ECF6\",\"polar\":{\"bgcolor\":\"#E5ECF6\",\"angularaxis\":{\"gridcolor\":\"white\",\"linecolor\":\"white\",\"ticks\":\"\"},\"radialaxis\":{\"gridcolor\":\"white\",\"linecolor\":\"white\",\"ticks\":\"\"}},\"ternary\":{\"bgcolor\":\"#E5ECF6\",\"aaxis\":{\"gridcolor\":\"white\",\"linecolor\":\"white\",\"ticks\":\"\"},\"baxis\":{\"gridcolor\":\"white\",\"linecolor\":\"white\",\"ticks\":\"\"},\"caxis\":{\"gridcolor\":\"white\",\"linecolor\":\"white\",\"ticks\":\"\"}},\"coloraxis\":{\"colorbar\":{\"outlinewidth\":0,\"ticks\":\"\"}},\"colorscale\":{\"sequential\":[[0.0,\"#0d0887\"],[0.1111111111111111,\"#46039f\"],[0.2222222222222222,\"#7201a8\"],[0.3333333333333333,\"#9c179e\"],[0.4444444444444444,\"#bd3786\"],[0.5555555555555556,\"#d8576b\"],[0.6666666666666666,\"#ed7953\"],[0.7777777777777778,\"#fb9f3a\"],[0.8888888888888888,\"#fdca26\"],[1.0,\"#f0f921\"]],\"sequentialminus\":[[0.0,\"#0d0887\"],[0.1111111111111111,\"#46039f\"],[0.2222222222222222,\"#7201a8\"],[0.3333333333333333,\"#9c179e\"],[0.4444444444444444,\"#bd3786\"],[0.5555555555555556,\"#d8576b\"],[0.6666666666666666,\"#ed7953\"],[0.7777777777777778,\"#fb9f3a\"],[0.8888888888888888,\"#fdca26\"],[1.0,\"#f0f921\"]],\"diverging\":[[0,\"#8e0152\"],[0.1,\"#c51b7d\"],[0.2,\"#de77ae\"],[0.3,\"#f1b6da\"],[0.4,\"#fde0ef\"],[0.5,\"#f7f7f7\"],[0.6,\"#e6f5d0\"],[0.7,\"#b8e186\"],[0.8,\"#7fbc41\"],[0.9,\"#4d9221\"],[1,\"#276419\"]]},\"xaxis\":{\"gridcolor\":\"white\",\"linecolor\":\"white\",\"ticks\":\"\",\"title\":{\"standoff\":15},\"zerolinecolor\":\"white\",\"automargin\":true,\"zerolinewidth\":2},\"yaxis\":{\"gridcolor\":\"white\",\"linecolor\":\"white\",\"ticks\":\"\",\"title\":{\"standoff\":15},\"zerolinecolor\":\"white\",\"automargin\":true,\"zerolinewidth\":2},\"scene\":{\"xaxis\":{\"backgroundcolor\":\"#E5ECF6\",\"gridcolor\":\"white\",\"linecolor\":\"white\",\"showbackground\":true,\"ticks\":\"\",\"zerolinecolor\":\"white\",\"gridwidth\":2},\"yaxis\":{\"backgroundcolor\":\"#E5ECF6\",\"gridcolor\":\"white\",\"linecolor\":\"white\",\"showbackground\":true,\"ticks\":\"\",\"zerolinecolor\":\"white\",\"gridwidth\":2},\"zaxis\":{\"backgroundcolor\":\"#E5ECF6\",\"gridcolor\":\"white\",\"linecolor\":\"white\",\"showbackground\":true,\"ticks\":\"\",\"zerolinecolor\":\"white\",\"gridwidth\":2}},\"shapedefaults\":{\"line\":{\"color\":\"#2a3f5f\"}},\"annotationdefaults\":{\"arrowcolor\":\"#2a3f5f\",\"arrowhead\":0,\"arrowwidth\":1},\"geo\":{\"bgcolor\":\"white\",\"landcolor\":\"#E5ECF6\",\"subunitcolor\":\"white\",\"showland\":true,\"showlakes\":true,\"lakecolor\":\"white\"},\"title\":{\"x\":0.05},\"mapbox\":{\"style\":\"light\"}}},\"geo\":{\"domain\":{\"x\":[0.0,1.0],\"y\":[0.0,1.0]},\"center\":{}},\"coloraxis\":{\"colorbar\":{\"title\":{\"text\":\"salary\"}},\"colorscale\":[[0.0,\"#440154\"],[0.1111111111111111,\"#482878\"],[0.2222222222222222,\"#3e4989\"],[0.3333333333333333,\"#31688e\"],[0.4444444444444444,\"#26828e\"],[0.5555555555555556,\"#1f9e89\"],[0.6666666666666666,\"#35b779\"],[0.7777777777777778,\"#6ece58\"],[0.8888888888888888,\"#b5de2b\"],[1.0,\"#fde725\"]]},\"legend\":{\"tracegroupgap\":0},\"title\":{\"text\":\"Average Hourly Rates by Country\"}},                        {\"responsive\": true}                    ).then(function(){\n",
              "                            \n",
              "var gd = document.getElementById('e5758871-df99-4e9b-a937-f458c10ac4be');\n",
              "var x = new MutationObserver(function (mutations, observer) {{\n",
              "        var display = window.getComputedStyle(gd).display;\n",
              "        if (!display || display === 'none') {{\n",
              "            console.log([gd, 'removed!']);\n",
              "            Plotly.purge(gd);\n",
              "            observer.disconnect();\n",
              "        }}\n",
              "}});\n",
              "\n",
              "// Listen for the removal of the full notebook cells\n",
              "var notebookContainer = gd.closest('#notebook-container');\n",
              "if (notebookContainer) {{\n",
              "    x.observe(notebookContainer, {childList: true});\n",
              "}}\n",
              "\n",
              "// Listen for the clearing of the current output cell\n",
              "var outputEl = gd.closest('.output');\n",
              "if (outputEl) {{\n",
              "    x.observe(outputEl, {childList: true});\n",
              "}}\n",
              "\n",
              "                        })                };                            </script>        </div>\n",
              "</body>\n",
              "</html>"
            ]
          },
          "metadata": {}
        }
      ],
      "source": [
        "# Compare Average Hourly Rates Across Different Countries\n",
        "df_country_salary = df_cleaned.groupby(\"country\")[\"salary\"].mean().reset_index()\n",
        "fig4 = px.choropleth(df_country_salary, locations=\"country\", locationmode=\"country names\",\n",
        "                     color=\"salary\", hover_name=\"country\",\n",
        "                     color_continuous_scale=\"Viridis\", title=\"Average Hourly Rates by Country\")\n",
        "fig4.show()\n"
      ]
    },
    {
      "cell_type": "code",
      "source": [],
      "metadata": {
        "id": "sGN6YfsrIJ3g"
      },
      "execution_count": null,
      "outputs": []
    },
    {
      "cell_type": "markdown",
      "source": [
        "#Insights from the Choropleth Map (Average Hourly Rates by Country)\n",
        "\n",
        "1.Variation in Salaries Across Countries\n",
        "\n",
        "*The map shows significant differences in average hourly salaries across different regions.\n",
        "\n",
        "*Some countries have higher salaries (yellow-green shades), while others have lower salaries (dark purple shades).\n",
        "\n",
        "2.High Salary Regions\n",
        "\n",
        "*Countries with high average hourly wages are marked in yellow-green, likely representing regions such as North\n",
        "America, Western Europe, and Australia.\n",
        "\n",
        "*These areas typically have strong economies, higher living costs, and developed job markets.\n",
        "\n",
        "3.Low Salary Regions\n",
        "\n",
        "*Many countries, especially in Africa, South America, and parts of Asia, have lower hourly wages (dark purple shades).\n",
        "\n",
        "*These regions may have lower labor costs, different economic structures, or lower demand for high-paying roles.\n",
        "\n",
        "4.Possible Data Gaps\n",
        "\n",
        "*Some areas appear white or light-colored, which might indicate missing data or insufficient job postings from those countries.\n",
        "*It’s essential to check if the dataset covers all regions equally to avoid bias."
      ],
      "metadata": {
        "id": "qR2G6xropqIv"
      }
    },
    {
      "cell_type": "code",
      "execution_count": null,
      "metadata": {
        "id": "DS6cYhMKi836"
      },
      "outputs": [],
      "source": [
        "from tensorflow.keras.preprocessing.text import Tokenizer\n",
        "from tensorflow.keras.preprocessing.sequence import pad_sequences\n"
      ]
    },
    {
      "cell_type": "code",
      "execution_count": null,
      "metadata": {
        "id": "N5tia8Krim3o"
      },
      "outputs": [],
      "source": [
        "# Prepare Data for Job Recommendation Model\n",
        "titles = df_cleaned[\"title\"].values\n",
        "tokenizer = Tokenizer(num_words=5000)\n",
        "tokenizer.fit_on_texts(titles)\n",
        "sequences = tokenizer.texts_to_sequences(titles)\n",
        "padded_sequences = pad_sequences(sequences, maxlen=20)\n"
      ]
    },
    {
      "cell_type": "markdown",
      "source": [],
      "metadata": {
        "id": "RZkA8MtDqkET"
      }
    },
    {
      "cell_type": "code",
      "execution_count": null,
      "metadata": {
        "id": "WPsAbgZDlheh"
      },
      "outputs": [],
      "source": [
        "# Reshape the input data to 3D for LSTM\n",
        "padded_sequences = padded_sequences.reshape(padded_sequences.shape[0], padded_sequences.shape[1], 1) # Reshape to (num_samples, maxlen, 1)"
      ]
    },
    {
      "cell_type": "code",
      "execution_count": null,
      "metadata": {
        "colab": {
          "base_uri": "https://localhost:8080/"
        },
        "id": "wss86jcgnohr",
        "outputId": "2d423e5e-2b89-4d19-d741-ed167511cb4f"
      },
      "outputs": [
        {
          "output_type": "stream",
          "name": "stdout",
          "text": [
            "(55438, 20, 1)\n"
          ]
        }
      ],
      "source": [
        "print(padded_sequences.shape)"
      ]
    },
    {
      "cell_type": "code",
      "execution_count": null,
      "metadata": {
        "id": "ZJnfVjq2odbf"
      },
      "outputs": [],
      "source": [
        "padded_sequences = np.array(padded_sequences)  # Convert to NumPy array if needed"
      ]
    },
    {
      "cell_type": "code",
      "execution_count": null,
      "metadata": {
        "id": "dzCQaEg4p5lM"
      },
      "outputs": [],
      "source": [
        "from tensorflow.keras.layers import Input"
      ]
    },
    {
      "cell_type": "code",
      "execution_count": null,
      "metadata": {
        "id": "QDqeVqxLqHQT"
      },
      "outputs": [],
      "source": [
        "model = Sequential([\n",
        "    Input(shape=(padded_sequences.shape[1],)),\n",
        "    Embedding(input_dim=5000, output_dim=64),\n",
        "    LSTM(64, return_sequences=True),\n",
        "    LSTM(32),\n",
        "    Dense(32, activation='relu'),\n",
        "    Dense(len(set(df_cleaned[\"title\"])), activation='softmax')\n",
        "])"
      ]
    },
    {
      "cell_type": "code",
      "source": [
        "summary = model.summary()\n",
        "print(summary)"
      ],
      "metadata": {
        "colab": {
          "base_uri": "https://localhost:8080/",
          "height": 306
        },
        "id": "33IHMOl6h520",
        "outputId": "994cc4d0-a8d2-48b5-a4c4-3ac2774fcec5"
      },
      "execution_count": null,
      "outputs": [
        {
          "output_type": "display_data",
          "data": {
            "text/plain": [
              "\u001b[1mModel: \"sequential\"\u001b[0m\n"
            ],
            "text/html": [
              "<pre style=\"white-space:pre;overflow-x:auto;line-height:normal;font-family:Menlo,'DejaVu Sans Mono',consolas,'Courier New',monospace\"><span style=\"font-weight: bold\">Model: \"sequential\"</span>\n",
              "</pre>\n"
            ]
          },
          "metadata": {}
        },
        {
          "output_type": "display_data",
          "data": {
            "text/plain": [
              "┏━━━━━━━━━━━━━━━━━━━━━━━━━━━━━━━━━━━━━━┳━━━━━━━━━━━━━━━━━━━━━━━━━━━━━┳━━━━━━━━━━━━━━━━━┓\n",
              "┃\u001b[1m \u001b[0m\u001b[1mLayer (type)                        \u001b[0m\u001b[1m \u001b[0m┃\u001b[1m \u001b[0m\u001b[1mOutput Shape               \u001b[0m\u001b[1m \u001b[0m┃\u001b[1m \u001b[0m\u001b[1m        Param #\u001b[0m\u001b[1m \u001b[0m┃\n",
              "┡━━━━━━━━━━━━━━━━━━━━━━━━━━━━━━━━━━━━━━╇━━━━━━━━━━━━━━━━━━━━━━━━━━━━━╇━━━━━━━━━━━━━━━━━┩\n",
              "│ embedding (\u001b[38;5;33mEmbedding\u001b[0m)                │ (\u001b[38;5;45mNone\u001b[0m, \u001b[38;5;34m20\u001b[0m, \u001b[38;5;34m64\u001b[0m)              │         \u001b[38;5;34m320,000\u001b[0m │\n",
              "├──────────────────────────────────────┼─────────────────────────────┼─────────────────┤\n",
              "│ lstm (\u001b[38;5;33mLSTM\u001b[0m)                          │ (\u001b[38;5;45mNone\u001b[0m, \u001b[38;5;34m20\u001b[0m, \u001b[38;5;34m64\u001b[0m)              │          \u001b[38;5;34m33,024\u001b[0m │\n",
              "├──────────────────────────────────────┼─────────────────────────────┼─────────────────┤\n",
              "│ lstm_1 (\u001b[38;5;33mLSTM\u001b[0m)                        │ (\u001b[38;5;45mNone\u001b[0m, \u001b[38;5;34m32\u001b[0m)                  │          \u001b[38;5;34m12,416\u001b[0m │\n",
              "├──────────────────────────────────────┼─────────────────────────────┼─────────────────┤\n",
              "│ dense (\u001b[38;5;33mDense\u001b[0m)                        │ (\u001b[38;5;45mNone\u001b[0m, \u001b[38;5;34m32\u001b[0m)                  │           \u001b[38;5;34m1,056\u001b[0m │\n",
              "├──────────────────────────────────────┼─────────────────────────────┼─────────────────┤\n",
              "│ dense_1 (\u001b[38;5;33mDense\u001b[0m)                      │ (\u001b[38;5;45mNone\u001b[0m, \u001b[38;5;34m44028\u001b[0m)               │       \u001b[38;5;34m1,452,924\u001b[0m │\n",
              "└──────────────────────────────────────┴─────────────────────────────┴─────────────────┘\n"
            ],
            "text/html": [
              "<pre style=\"white-space:pre;overflow-x:auto;line-height:normal;font-family:Menlo,'DejaVu Sans Mono',consolas,'Courier New',monospace\">┏━━━━━━━━━━━━━━━━━━━━━━━━━━━━━━━━━━━━━━┳━━━━━━━━━━━━━━━━━━━━━━━━━━━━━┳━━━━━━━━━━━━━━━━━┓\n",
              "┃<span style=\"font-weight: bold\"> Layer (type)                         </span>┃<span style=\"font-weight: bold\"> Output Shape                </span>┃<span style=\"font-weight: bold\">         Param # </span>┃\n",
              "┡━━━━━━━━━━━━━━━━━━━━━━━━━━━━━━━━━━━━━━╇━━━━━━━━━━━━━━━━━━━━━━━━━━━━━╇━━━━━━━━━━━━━━━━━┩\n",
              "│ embedding (<span style=\"color: #0087ff; text-decoration-color: #0087ff\">Embedding</span>)                │ (<span style=\"color: #00d7ff; text-decoration-color: #00d7ff\">None</span>, <span style=\"color: #00af00; text-decoration-color: #00af00\">20</span>, <span style=\"color: #00af00; text-decoration-color: #00af00\">64</span>)              │         <span style=\"color: #00af00; text-decoration-color: #00af00\">320,000</span> │\n",
              "├──────────────────────────────────────┼─────────────────────────────┼─────────────────┤\n",
              "│ lstm (<span style=\"color: #0087ff; text-decoration-color: #0087ff\">LSTM</span>)                          │ (<span style=\"color: #00d7ff; text-decoration-color: #00d7ff\">None</span>, <span style=\"color: #00af00; text-decoration-color: #00af00\">20</span>, <span style=\"color: #00af00; text-decoration-color: #00af00\">64</span>)              │          <span style=\"color: #00af00; text-decoration-color: #00af00\">33,024</span> │\n",
              "├──────────────────────────────────────┼─────────────────────────────┼─────────────────┤\n",
              "│ lstm_1 (<span style=\"color: #0087ff; text-decoration-color: #0087ff\">LSTM</span>)                        │ (<span style=\"color: #00d7ff; text-decoration-color: #00d7ff\">None</span>, <span style=\"color: #00af00; text-decoration-color: #00af00\">32</span>)                  │          <span style=\"color: #00af00; text-decoration-color: #00af00\">12,416</span> │\n",
              "├──────────────────────────────────────┼─────────────────────────────┼─────────────────┤\n",
              "│ dense (<span style=\"color: #0087ff; text-decoration-color: #0087ff\">Dense</span>)                        │ (<span style=\"color: #00d7ff; text-decoration-color: #00d7ff\">None</span>, <span style=\"color: #00af00; text-decoration-color: #00af00\">32</span>)                  │           <span style=\"color: #00af00; text-decoration-color: #00af00\">1,056</span> │\n",
              "├──────────────────────────────────────┼─────────────────────────────┼─────────────────┤\n",
              "│ dense_1 (<span style=\"color: #0087ff; text-decoration-color: #0087ff\">Dense</span>)                      │ (<span style=\"color: #00d7ff; text-decoration-color: #00d7ff\">None</span>, <span style=\"color: #00af00; text-decoration-color: #00af00\">44028</span>)               │       <span style=\"color: #00af00; text-decoration-color: #00af00\">1,452,924</span> │\n",
              "└──────────────────────────────────────┴─────────────────────────────┴─────────────────┘\n",
              "</pre>\n"
            ]
          },
          "metadata": {}
        },
        {
          "output_type": "display_data",
          "data": {
            "text/plain": [
              "\u001b[1m Total params: \u001b[0m\u001b[38;5;34m1,819,420\u001b[0m (6.94 MB)\n"
            ],
            "text/html": [
              "<pre style=\"white-space:pre;overflow-x:auto;line-height:normal;font-family:Menlo,'DejaVu Sans Mono',consolas,'Courier New',monospace\"><span style=\"font-weight: bold\"> Total params: </span><span style=\"color: #00af00; text-decoration-color: #00af00\">1,819,420</span> (6.94 MB)\n",
              "</pre>\n"
            ]
          },
          "metadata": {}
        },
        {
          "output_type": "display_data",
          "data": {
            "text/plain": [
              "\u001b[1m Trainable params: \u001b[0m\u001b[38;5;34m1,819,420\u001b[0m (6.94 MB)\n"
            ],
            "text/html": [
              "<pre style=\"white-space:pre;overflow-x:auto;line-height:normal;font-family:Menlo,'DejaVu Sans Mono',consolas,'Courier New',monospace\"><span style=\"font-weight: bold\"> Trainable params: </span><span style=\"color: #00af00; text-decoration-color: #00af00\">1,819,420</span> (6.94 MB)\n",
              "</pre>\n"
            ]
          },
          "metadata": {}
        },
        {
          "output_type": "display_data",
          "data": {
            "text/plain": [
              "\u001b[1m Non-trainable params: \u001b[0m\u001b[38;5;34m0\u001b[0m (0.00 B)\n"
            ],
            "text/html": [
              "<pre style=\"white-space:pre;overflow-x:auto;line-height:normal;font-family:Menlo,'DejaVu Sans Mono',consolas,'Courier New',monospace\"><span style=\"font-weight: bold\"> Non-trainable params: </span><span style=\"color: #00af00; text-decoration-color: #00af00\">0</span> (0.00 B)\n",
              "</pre>\n"
            ]
          },
          "metadata": {}
        },
        {
          "output_type": "stream",
          "name": "stdout",
          "text": [
            "None\n"
          ]
        }
      ]
    },
    {
      "cell_type": "code",
      "execution_count": null,
      "metadata": {
        "id": "1UVJ2cnNj4Ax"
      },
      "outputs": [],
      "source": [
        "model.compile (loss='sparse_categorical_crossentropy',optimizer ='adam',metrics=['accuracy'])"
      ]
    },
    {
      "cell_type": "code",
      "execution_count": null,
      "metadata": {
        "id": "2XsIO_tBkdVd"
      },
      "outputs": [],
      "source": [
        "# Convert job titles to category indexes\n",
        "df_cleaned[\"title_index\"] = df_cleaned[\"title\"].astype('category').cat.codes\n"
      ]
    },
    {
      "cell_type": "code",
      "execution_count": null,
      "metadata": {
        "colab": {
          "base_uri": "https://localhost:8080/"
        },
        "id": "alg6fUu2kdZK",
        "outputId": "69bc08f4-8704-454a-b441-230bade0d32d"
      },
      "outputs": [
        {
          "output_type": "stream",
          "name": "stdout",
          "text": [
            "Epoch 1/20\n",
            "\u001b[1m887/887\u001b[0m \u001b[32m━━━━━━━━━━━━━━━━━━━━\u001b[0m\u001b[37m\u001b[0m \u001b[1m17s\u001b[0m 15ms/step - accuracy: 0.0069 - loss: 10.4643 - val_accuracy: 0.0091 - val_loss: 10.5080\n",
            "Epoch 2/20\n",
            "\u001b[1m887/887\u001b[0m \u001b[32m━━━━━━━━━━━━━━━━━━━━\u001b[0m\u001b[37m\u001b[0m \u001b[1m13s\u001b[0m 15ms/step - accuracy: 0.0094 - loss: 9.7648 - val_accuracy: 0.0122 - val_loss: 10.9145\n",
            "Epoch 3/20\n",
            "\u001b[1m887/887\u001b[0m \u001b[32m━━━━━━━━━━━━━━━━━━━━\u001b[0m\u001b[37m\u001b[0m \u001b[1m21s\u001b[0m 16ms/step - accuracy: 0.0236 - loss: 9.2753 - val_accuracy: 0.0252 - val_loss: 11.5444\n",
            "Epoch 4/20\n",
            "\u001b[1m887/887\u001b[0m \u001b[32m━━━━━━━━━━━━━━━━━━━━\u001b[0m\u001b[37m\u001b[0m \u001b[1m19s\u001b[0m 15ms/step - accuracy: 0.0337 - loss: 8.8285 - val_accuracy: 0.0345 - val_loss: 12.1878\n",
            "Epoch 5/20\n",
            "\u001b[1m887/887\u001b[0m \u001b[32m━━━━━━━━━━━━━━━━━━━━\u001b[0m\u001b[37m\u001b[0m \u001b[1m20s\u001b[0m 14ms/step - accuracy: 0.0458 - loss: 8.3634 - val_accuracy: 0.0375 - val_loss: 12.8088\n",
            "Epoch 6/20\n",
            "\u001b[1m887/887\u001b[0m \u001b[32m━━━━━━━━━━━━━━━━━━━━\u001b[0m\u001b[37m\u001b[0m \u001b[1m21s\u001b[0m 15ms/step - accuracy: 0.0536 - loss: 7.9146 - val_accuracy: 0.0486 - val_loss: 13.6713\n",
            "Epoch 7/20\n",
            "\u001b[1m887/887\u001b[0m \u001b[32m━━━━━━━━━━━━━━━━━━━━\u001b[0m\u001b[37m\u001b[0m \u001b[1m20s\u001b[0m 14ms/step - accuracy: 0.0664 - loss: 7.3375 - val_accuracy: 0.0559 - val_loss: 14.5626\n",
            "Epoch 8/20\n",
            "\u001b[1m887/887\u001b[0m \u001b[32m━━━━━━━━━━━━━━━━━━━━\u001b[0m\u001b[37m\u001b[0m \u001b[1m20s\u001b[0m 14ms/step - accuracy: 0.0816 - loss: 6.7291 - val_accuracy: 0.0687 - val_loss: 15.8123\n",
            "Epoch 9/20\n",
            "\u001b[1m887/887\u001b[0m \u001b[32m━━━━━━━━━━━━━━━━━━━━\u001b[0m\u001b[37m\u001b[0m \u001b[1m21s\u001b[0m 15ms/step - accuracy: 0.1006 - loss: 6.1352 - val_accuracy: 0.0724 - val_loss: 17.3000\n",
            "Epoch 10/20\n",
            "\u001b[1m887/887\u001b[0m \u001b[32m━━━━━━━━━━━━━━━━━━━━\u001b[0m\u001b[37m\u001b[0m \u001b[1m20s\u001b[0m 14ms/step - accuracy: 0.1157 - loss: 5.5761 - val_accuracy: 0.0777 - val_loss: 18.7468\n",
            "Epoch 11/20\n",
            "\u001b[1m887/887\u001b[0m \u001b[32m━━━━━━━━━━━━━━━━━━━━\u001b[0m\u001b[37m\u001b[0m \u001b[1m13s\u001b[0m 15ms/step - accuracy: 0.1419 - loss: 5.0121 - val_accuracy: 0.0867 - val_loss: 19.9014\n",
            "Epoch 12/20\n",
            "\u001b[1m887/887\u001b[0m \u001b[32m━━━━━━━━━━━━━━━━━━━━\u001b[0m\u001b[37m\u001b[0m \u001b[1m21s\u001b[0m 15ms/step - accuracy: 0.1674 - loss: 4.5067 - val_accuracy: 0.0932 - val_loss: 21.3488\n",
            "Epoch 13/20\n",
            "\u001b[1m887/887\u001b[0m \u001b[32m━━━━━━━━━━━━━━━━━━━━\u001b[0m\u001b[37m\u001b[0m \u001b[1m13s\u001b[0m 15ms/step - accuracy: 0.1936 - loss: 4.1182 - val_accuracy: 0.1006 - val_loss: 22.7905\n",
            "Epoch 14/20\n",
            "\u001b[1m887/887\u001b[0m \u001b[32m━━━━━━━━━━━━━━━━━━━━\u001b[0m\u001b[37m\u001b[0m \u001b[1m20s\u001b[0m 14ms/step - accuracy: 0.2252 - loss: 3.7567 - val_accuracy: 0.1080 - val_loss: 23.8786\n",
            "Epoch 15/20\n",
            "\u001b[1m887/887\u001b[0m \u001b[32m━━━━━━━━━━━━━━━━━━━━\u001b[0m\u001b[37m\u001b[0m \u001b[1m20s\u001b[0m 14ms/step - accuracy: 0.2602 - loss: 3.4335 - val_accuracy: 0.1132 - val_loss: 25.1465\n",
            "Epoch 16/20\n",
            "\u001b[1m887/887\u001b[0m \u001b[32m━━━━━━━━━━━━━━━━━━━━\u001b[0m\u001b[37m\u001b[0m \u001b[1m21s\u001b[0m 15ms/step - accuracy: 0.2972 - loss: 3.1769 - val_accuracy: 0.1152 - val_loss: 25.9277\n",
            "Epoch 17/20\n",
            "\u001b[1m887/887\u001b[0m \u001b[32m━━━━━━━━━━━━━━━━━━━━\u001b[0m\u001b[37m\u001b[0m \u001b[1m20s\u001b[0m 15ms/step - accuracy: 0.3330 - loss: 2.9333 - val_accuracy: 0.1220 - val_loss: 26.9772\n",
            "Epoch 18/20\n",
            "\u001b[1m887/887\u001b[0m \u001b[32m━━━━━━━━━━━━━━━━━━━━\u001b[0m\u001b[37m\u001b[0m \u001b[1m21s\u001b[0m 15ms/step - accuracy: 0.3594 - loss: 2.7235 - val_accuracy: 0.1240 - val_loss: 28.1341\n",
            "Epoch 19/20\n",
            "\u001b[1m887/887\u001b[0m \u001b[32m━━━━━━━━━━━━━━━━━━━━\u001b[0m\u001b[37m\u001b[0m \u001b[1m20s\u001b[0m 14ms/step - accuracy: 0.3923 - loss: 2.5345 - val_accuracy: 0.1274 - val_loss: 28.9808\n",
            "Epoch 20/20\n",
            "\u001b[1m887/887\u001b[0m \u001b[32m━━━━━━━━━━━━━━━━━━━━\u001b[0m\u001b[37m\u001b[0m \u001b[1m20s\u001b[0m 14ms/step - accuracy: 0.4248 - loss: 2.3544 - val_accuracy: 0.1312 - val_loss: 30.1065\n"
          ]
        },
        {
          "output_type": "execute_result",
          "data": {
            "text/plain": [
              "<keras.src.callbacks.history.History at 0x7a8df83883d0>"
            ]
          },
          "metadata": {},
          "execution_count": 34
        }
      ],
      "source": [
        "# Train the model\n",
        "model.fit(padded_sequences, df_cleaned[\"title_index\"].values, epochs=20, batch_size=50, validation_split=0.2)\n"
      ]
    },
    {
      "cell_type": "code",
      "execution_count": null,
      "metadata": {
        "id": "HkarXrLuro5n"
      },
      "outputs": [],
      "source": [
        "# Function for Job Recommendation\n",
        "def recommend_jobs(input_text, top_n=5):\n",
        "    seq = tokenizer.texts_to_sequences([input_text])\n",
        "    padded = pad_sequences(seq, maxlen=20)\n",
        "    predictions = model.predict(padded)[0]\n",
        "    top_indices = np.argsort(predictions)[-top_n:][::-1]\n",
        "    recommended_jobs = df_cleaned[\"title\"].astype('category').cat.categories[top_indices]\n",
        "    return recommended_jobs\n"
      ]
    },
    {
      "cell_type": "code",
      "execution_count": null,
      "metadata": {
        "id": "GLMfjMFhq6KK",
        "colab": {
          "base_uri": "https://localhost:8080/"
        },
        "outputId": "fde04489-24ca-4718-fdbc-4ebd98293508"
      },
      "outputs": [
        {
          "output_type": "stream",
          "name": "stdout",
          "text": [
            "\u001b[1m1/1\u001b[0m \u001b[32m━━━━━━━━━━━━━━━━━━━━\u001b[0m\u001b[37m\u001b[0m \u001b[1m0s\u001b[0m 29ms/step\n",
            "Index(['Software Engineer', 'Machine Learning', 'Network Engineer',\n",
            "       'AI Engineer', 'Blockchain Architect'],\n",
            "      dtype='object')\n"
          ]
        }
      ],
      "source": [
        "# Example Usage\n",
        "print(recommend_jobs(\"Software Engineer\"))\n"
      ]
    },
    {
      "cell_type": "markdown",
      "metadata": {
        "id": "C3Jl0Y7jrpgL"
      },
      "source": []
    },
    {
      "cell_type": "code",
      "source": [
        "model.save(\"JOB Recommendartion model.keras\")\n"
      ],
      "metadata": {
        "id": "nr2TIALNubC-"
      },
      "execution_count": null,
      "outputs": []
    },
    {
      "cell_type": "markdown",
      "source": [
        "# TASK 5\n",
        "\n",
        "# Track Changes in Job Market Dynamics Over Months"
      ],
      "metadata": {
        "id": "oKO2xp2lNtJJ"
      }
    },
    {
      "cell_type": "code",
      "execution_count": null,
      "metadata": {
        "id": "BmjMmk1CuBu3",
        "colab": {
          "base_uri": "https://localhost:8080/",
          "height": 542
        },
        "outputId": "86486458-18f1-4d30-c51d-615477b6b504"
      },
      "outputs": [
        {
          "output_type": "display_data",
          "data": {
            "text/html": [
              "<html>\n",
              "<head><meta charset=\"utf-8\" /></head>\n",
              "<body>\n",
              "    <div>            <script src=\"https://cdnjs.cloudflare.com/ajax/libs/mathjax/2.7.5/MathJax.js?config=TeX-AMS-MML_SVG\"></script><script type=\"text/javascript\">if (window.MathJax && window.MathJax.Hub && window.MathJax.Hub.Config) {window.MathJax.Hub.Config({SVG: {font: \"STIX-Web\"}});}</script>                <script type=\"text/javascript\">window.PlotlyConfig = {MathJaxConfig: 'local'};</script>\n",
              "        <script charset=\"utf-8\" src=\"https://cdn.plot.ly/plotly-2.35.2.min.js\"></script>                <div id=\"1340b1ac-8d79-4316-85f5-47306aa1ffe1\" class=\"plotly-graph-div\" style=\"height:525px; width:100%;\"></div>            <script type=\"text/javascript\">                                    window.PLOTLYENV=window.PLOTLYENV || {};                                    if (document.getElementById(\"1340b1ac-8d79-4316-85f5-47306aa1ffe1\")) {                    Plotly.newPlot(                        \"1340b1ac-8d79-4316-85f5-47306aa1ffe1\",                        [{\"hovertemplate\":\"published_date=%{x}\\u003cbr\\u003eNumber of Job Postings=%{y}\\u003cextra\\u003e\\u003c\\u002fextra\\u003e\",\"legendgroup\":\"\",\"line\":{\"color\":\"#636efa\",\"dash\":\"solid\"},\"marker\":{\"symbol\":\"circle\"},\"mode\":\"lines\",\"name\":\"\",\"orientation\":\"v\",\"showlegend\":false,\"x\":[\"2023-11-30T00:00:00+00:00\",\"2023-12-31T00:00:00+00:00\",\"2024-01-31T00:00:00+00:00\",\"2024-02-29T00:00:00+00:00\",\"2024-03-31T00:00:00+00:00\"],\"xaxis\":\"x\",\"y\":[1,1,28,23138,32270],\"yaxis\":\"y\",\"type\":\"scatter\"}],                        {\"template\":{\"data\":{\"histogram2dcontour\":[{\"type\":\"histogram2dcontour\",\"colorbar\":{\"outlinewidth\":0,\"ticks\":\"\"},\"colorscale\":[[0.0,\"#0d0887\"],[0.1111111111111111,\"#46039f\"],[0.2222222222222222,\"#7201a8\"],[0.3333333333333333,\"#9c179e\"],[0.4444444444444444,\"#bd3786\"],[0.5555555555555556,\"#d8576b\"],[0.6666666666666666,\"#ed7953\"],[0.7777777777777778,\"#fb9f3a\"],[0.8888888888888888,\"#fdca26\"],[1.0,\"#f0f921\"]]}],\"choropleth\":[{\"type\":\"choropleth\",\"colorbar\":{\"outlinewidth\":0,\"ticks\":\"\"}}],\"histogram2d\":[{\"type\":\"histogram2d\",\"colorbar\":{\"outlinewidth\":0,\"ticks\":\"\"},\"colorscale\":[[0.0,\"#0d0887\"],[0.1111111111111111,\"#46039f\"],[0.2222222222222222,\"#7201a8\"],[0.3333333333333333,\"#9c179e\"],[0.4444444444444444,\"#bd3786\"],[0.5555555555555556,\"#d8576b\"],[0.6666666666666666,\"#ed7953\"],[0.7777777777777778,\"#fb9f3a\"],[0.8888888888888888,\"#fdca26\"],[1.0,\"#f0f921\"]]}],\"heatmap\":[{\"type\":\"heatmap\",\"colorbar\":{\"outlinewidth\":0,\"ticks\":\"\"},\"colorscale\":[[0.0,\"#0d0887\"],[0.1111111111111111,\"#46039f\"],[0.2222222222222222,\"#7201a8\"],[0.3333333333333333,\"#9c179e\"],[0.4444444444444444,\"#bd3786\"],[0.5555555555555556,\"#d8576b\"],[0.6666666666666666,\"#ed7953\"],[0.7777777777777778,\"#fb9f3a\"],[0.8888888888888888,\"#fdca26\"],[1.0,\"#f0f921\"]]}],\"heatmapgl\":[{\"type\":\"heatmapgl\",\"colorbar\":{\"outlinewidth\":0,\"ticks\":\"\"},\"colorscale\":[[0.0,\"#0d0887\"],[0.1111111111111111,\"#46039f\"],[0.2222222222222222,\"#7201a8\"],[0.3333333333333333,\"#9c179e\"],[0.4444444444444444,\"#bd3786\"],[0.5555555555555556,\"#d8576b\"],[0.6666666666666666,\"#ed7953\"],[0.7777777777777778,\"#fb9f3a\"],[0.8888888888888888,\"#fdca26\"],[1.0,\"#f0f921\"]]}],\"contourcarpet\":[{\"type\":\"contourcarpet\",\"colorbar\":{\"outlinewidth\":0,\"ticks\":\"\"}}],\"contour\":[{\"type\":\"contour\",\"colorbar\":{\"outlinewidth\":0,\"ticks\":\"\"},\"colorscale\":[[0.0,\"#0d0887\"],[0.1111111111111111,\"#46039f\"],[0.2222222222222222,\"#7201a8\"],[0.3333333333333333,\"#9c179e\"],[0.4444444444444444,\"#bd3786\"],[0.5555555555555556,\"#d8576b\"],[0.6666666666666666,\"#ed7953\"],[0.7777777777777778,\"#fb9f3a\"],[0.8888888888888888,\"#fdca26\"],[1.0,\"#f0f921\"]]}],\"surface\":[{\"type\":\"surface\",\"colorbar\":{\"outlinewidth\":0,\"ticks\":\"\"},\"colorscale\":[[0.0,\"#0d0887\"],[0.1111111111111111,\"#46039f\"],[0.2222222222222222,\"#7201a8\"],[0.3333333333333333,\"#9c179e\"],[0.4444444444444444,\"#bd3786\"],[0.5555555555555556,\"#d8576b\"],[0.6666666666666666,\"#ed7953\"],[0.7777777777777778,\"#fb9f3a\"],[0.8888888888888888,\"#fdca26\"],[1.0,\"#f0f921\"]]}],\"mesh3d\":[{\"type\":\"mesh3d\",\"colorbar\":{\"outlinewidth\":0,\"ticks\":\"\"}}],\"scatter\":[{\"fillpattern\":{\"fillmode\":\"overlay\",\"size\":10,\"solidity\":0.2},\"type\":\"scatter\"}],\"parcoords\":[{\"type\":\"parcoords\",\"line\":{\"colorbar\":{\"outlinewidth\":0,\"ticks\":\"\"}}}],\"scatterpolargl\":[{\"type\":\"scatterpolargl\",\"marker\":{\"colorbar\":{\"outlinewidth\":0,\"ticks\":\"\"}}}],\"bar\":[{\"error_x\":{\"color\":\"#2a3f5f\"},\"error_y\":{\"color\":\"#2a3f5f\"},\"marker\":{\"line\":{\"color\":\"#E5ECF6\",\"width\":0.5},\"pattern\":{\"fillmode\":\"overlay\",\"size\":10,\"solidity\":0.2}},\"type\":\"bar\"}],\"scattergeo\":[{\"type\":\"scattergeo\",\"marker\":{\"colorbar\":{\"outlinewidth\":0,\"ticks\":\"\"}}}],\"scatterpolar\":[{\"type\":\"scatterpolar\",\"marker\":{\"colorbar\":{\"outlinewidth\":0,\"ticks\":\"\"}}}],\"histogram\":[{\"marker\":{\"pattern\":{\"fillmode\":\"overlay\",\"size\":10,\"solidity\":0.2}},\"type\":\"histogram\"}],\"scattergl\":[{\"type\":\"scattergl\",\"marker\":{\"colorbar\":{\"outlinewidth\":0,\"ticks\":\"\"}}}],\"scatter3d\":[{\"type\":\"scatter3d\",\"line\":{\"colorbar\":{\"outlinewidth\":0,\"ticks\":\"\"}},\"marker\":{\"colorbar\":{\"outlinewidth\":0,\"ticks\":\"\"}}}],\"scattermapbox\":[{\"type\":\"scattermapbox\",\"marker\":{\"colorbar\":{\"outlinewidth\":0,\"ticks\":\"\"}}}],\"scatterternary\":[{\"type\":\"scatterternary\",\"marker\":{\"colorbar\":{\"outlinewidth\":0,\"ticks\":\"\"}}}],\"scattercarpet\":[{\"type\":\"scattercarpet\",\"marker\":{\"colorbar\":{\"outlinewidth\":0,\"ticks\":\"\"}}}],\"carpet\":[{\"aaxis\":{\"endlinecolor\":\"#2a3f5f\",\"gridcolor\":\"white\",\"linecolor\":\"white\",\"minorgridcolor\":\"white\",\"startlinecolor\":\"#2a3f5f\"},\"baxis\":{\"endlinecolor\":\"#2a3f5f\",\"gridcolor\":\"white\",\"linecolor\":\"white\",\"minorgridcolor\":\"white\",\"startlinecolor\":\"#2a3f5f\"},\"type\":\"carpet\"}],\"table\":[{\"cells\":{\"fill\":{\"color\":\"#EBF0F8\"},\"line\":{\"color\":\"white\"}},\"header\":{\"fill\":{\"color\":\"#C8D4E3\"},\"line\":{\"color\":\"white\"}},\"type\":\"table\"}],\"barpolar\":[{\"marker\":{\"line\":{\"color\":\"#E5ECF6\",\"width\":0.5},\"pattern\":{\"fillmode\":\"overlay\",\"size\":10,\"solidity\":0.2}},\"type\":\"barpolar\"}],\"pie\":[{\"automargin\":true,\"type\":\"pie\"}]},\"layout\":{\"autotypenumbers\":\"strict\",\"colorway\":[\"#636efa\",\"#EF553B\",\"#00cc96\",\"#ab63fa\",\"#FFA15A\",\"#19d3f3\",\"#FF6692\",\"#B6E880\",\"#FF97FF\",\"#FECB52\"],\"font\":{\"color\":\"#2a3f5f\"},\"hovermode\":\"closest\",\"hoverlabel\":{\"align\":\"left\"},\"paper_bgcolor\":\"white\",\"plot_bgcolor\":\"#E5ECF6\",\"polar\":{\"bgcolor\":\"#E5ECF6\",\"angularaxis\":{\"gridcolor\":\"white\",\"linecolor\":\"white\",\"ticks\":\"\"},\"radialaxis\":{\"gridcolor\":\"white\",\"linecolor\":\"white\",\"ticks\":\"\"}},\"ternary\":{\"bgcolor\":\"#E5ECF6\",\"aaxis\":{\"gridcolor\":\"white\",\"linecolor\":\"white\",\"ticks\":\"\"},\"baxis\":{\"gridcolor\":\"white\",\"linecolor\":\"white\",\"ticks\":\"\"},\"caxis\":{\"gridcolor\":\"white\",\"linecolor\":\"white\",\"ticks\":\"\"}},\"coloraxis\":{\"colorbar\":{\"outlinewidth\":0,\"ticks\":\"\"}},\"colorscale\":{\"sequential\":[[0.0,\"#0d0887\"],[0.1111111111111111,\"#46039f\"],[0.2222222222222222,\"#7201a8\"],[0.3333333333333333,\"#9c179e\"],[0.4444444444444444,\"#bd3786\"],[0.5555555555555556,\"#d8576b\"],[0.6666666666666666,\"#ed7953\"],[0.7777777777777778,\"#fb9f3a\"],[0.8888888888888888,\"#fdca26\"],[1.0,\"#f0f921\"]],\"sequentialminus\":[[0.0,\"#0d0887\"],[0.1111111111111111,\"#46039f\"],[0.2222222222222222,\"#7201a8\"],[0.3333333333333333,\"#9c179e\"],[0.4444444444444444,\"#bd3786\"],[0.5555555555555556,\"#d8576b\"],[0.6666666666666666,\"#ed7953\"],[0.7777777777777778,\"#fb9f3a\"],[0.8888888888888888,\"#fdca26\"],[1.0,\"#f0f921\"]],\"diverging\":[[0,\"#8e0152\"],[0.1,\"#c51b7d\"],[0.2,\"#de77ae\"],[0.3,\"#f1b6da\"],[0.4,\"#fde0ef\"],[0.5,\"#f7f7f7\"],[0.6,\"#e6f5d0\"],[0.7,\"#b8e186\"],[0.8,\"#7fbc41\"],[0.9,\"#4d9221\"],[1,\"#276419\"]]},\"xaxis\":{\"gridcolor\":\"white\",\"linecolor\":\"white\",\"ticks\":\"\",\"title\":{\"standoff\":15},\"zerolinecolor\":\"white\",\"automargin\":true,\"zerolinewidth\":2},\"yaxis\":{\"gridcolor\":\"white\",\"linecolor\":\"white\",\"ticks\":\"\",\"title\":{\"standoff\":15},\"zerolinecolor\":\"white\",\"automargin\":true,\"zerolinewidth\":2},\"scene\":{\"xaxis\":{\"backgroundcolor\":\"#E5ECF6\",\"gridcolor\":\"white\",\"linecolor\":\"white\",\"showbackground\":true,\"ticks\":\"\",\"zerolinecolor\":\"white\",\"gridwidth\":2},\"yaxis\":{\"backgroundcolor\":\"#E5ECF6\",\"gridcolor\":\"white\",\"linecolor\":\"white\",\"showbackground\":true,\"ticks\":\"\",\"zerolinecolor\":\"white\",\"gridwidth\":2},\"zaxis\":{\"backgroundcolor\":\"#E5ECF6\",\"gridcolor\":\"white\",\"linecolor\":\"white\",\"showbackground\":true,\"ticks\":\"\",\"zerolinecolor\":\"white\",\"gridwidth\":2}},\"shapedefaults\":{\"line\":{\"color\":\"#2a3f5f\"}},\"annotationdefaults\":{\"arrowcolor\":\"#2a3f5f\",\"arrowhead\":0,\"arrowwidth\":1},\"geo\":{\"bgcolor\":\"white\",\"landcolor\":\"#E5ECF6\",\"subunitcolor\":\"white\",\"showland\":true,\"showlakes\":true,\"lakecolor\":\"white\"},\"title\":{\"x\":0.05},\"mapbox\":{\"style\":\"light\"}}},\"xaxis\":{\"anchor\":\"y\",\"domain\":[0.0,1.0],\"title\":{\"text\":\"published_date\"}},\"yaxis\":{\"anchor\":\"x\",\"domain\":[0.0,1.0],\"title\":{\"text\":\"Number of Job Postings\"}},\"legend\":{\"tracegroupgap\":0},\"title\":{\"text\":\"Monthly Job Market Trends\"}},                        {\"responsive\": true}                    ).then(function(){\n",
              "                            \n",
              "var gd = document.getElementById('1340b1ac-8d79-4316-85f5-47306aa1ffe1');\n",
              "var x = new MutationObserver(function (mutations, observer) {{\n",
              "        var display = window.getComputedStyle(gd).display;\n",
              "        if (!display || display === 'none') {{\n",
              "            console.log([gd, 'removed!']);\n",
              "            Plotly.purge(gd);\n",
              "            observer.disconnect();\n",
              "        }}\n",
              "}});\n",
              "\n",
              "// Listen for the removal of the full notebook cells\n",
              "var notebookContainer = gd.closest('#notebook-container');\n",
              "if (notebookContainer) {{\n",
              "    x.observe(notebookContainer, {childList: true});\n",
              "}}\n",
              "\n",
              "// Listen for the clearing of the current output cell\n",
              "var outputEl = gd.closest('.output');\n",
              "if (outputEl) {{\n",
              "    x.observe(outputEl, {childList: true});\n",
              "}}\n",
              "\n",
              "                        })                };                            </script>        </div>\n",
              "</body>\n",
              "</html>"
            ]
          },
          "metadata": {}
        }
      ],
      "source": [
        "# Track Changes in Job Market Dynamics Over Months\n",
        "df_monthly_trends = df_cleaned.groupby(pd.Grouper(key=\"published_date\", freq=\"ME\")).size().reset_index(name=\"job_postings\")\n",
        "fig5 = px.line(df_monthly_trends, x=\"published_date\", y=\"job_postings\", title=\"Monthly Job Market Trends\",\n",
        "               labels={\"date_posted\": \"Month\", \"job_postings\": \"Number of Job Postings\"})\n",
        "fig5.show()\n"
      ]
    },
    {
      "cell_type": "markdown",
      "source": [
        "# Insights from the Monthly Job Market Trends Graph\n",
        "\n",
        "1.Steady Growth in Job Postings\n",
        "\n",
        "*The number of job postings has significantly increased over time.\n",
        "\n",
        "*Initially, from December 2023 to late January 2024, job postings were minimal or absent.\n",
        "\n",
        "*From February 2024 onwards, there's a sharp and continuous increase in job postings.\n",
        "\n",
        "2.Possible Reasons for the Trend\n",
        "\n",
        "*Seasonal Hiring: The increase from February to March might be due to companies opening new positions after the holiday season.\n",
        "\n",
        "*Market Recovery: A growing job market could indicate economic recovery or increased demand in specific industries.\n",
        "\n",
        "*Hiring Cycles: Many companies plan new hiring budgets at the start of the year, leading to a surge in job postings.\n",
        "\n",
        "3.Future Predictions\n",
        "\n",
        "*If the trend continues, March and April may see even higher job postings.\n",
        "\n",
        "*The job market is currently in an expansion phase, which is beneficial for job seekers."
      ],
      "metadata": {
        "id": "3kP4z9Sio4uo"
      }
    },
    {
      "cell_type": "markdown",
      "source": [
        "# TASK 6\n",
        "\n",
        "# Investigate Trends in the Remote Work Landscape"
      ],
      "metadata": {
        "id": "KD9HjiUhN_x1"
      }
    },
    {
      "cell_type": "code",
      "execution_count": null,
      "metadata": {
        "id": "w-fr08dYnfjY",
        "colab": {
          "base_uri": "https://localhost:8080/",
          "height": 542
        },
        "outputId": "fc5a323f-28b8-4b05-a9fa-83a62c8f7e95"
      },
      "outputs": [
        {
          "output_type": "display_data",
          "data": {
            "text/html": [
              "<html>\n",
              "<head><meta charset=\"utf-8\" /></head>\n",
              "<body>\n",
              "    <div>            <script src=\"https://cdnjs.cloudflare.com/ajax/libs/mathjax/2.7.5/MathJax.js?config=TeX-AMS-MML_SVG\"></script><script type=\"text/javascript\">if (window.MathJax && window.MathJax.Hub && window.MathJax.Hub.Config) {window.MathJax.Hub.Config({SVG: {font: \"STIX-Web\"}});}</script>                <script type=\"text/javascript\">window.PlotlyConfig = {MathJaxConfig: 'local'};</script>\n",
              "        <script charset=\"utf-8\" src=\"https://cdn.plot.ly/plotly-2.35.2.min.js\"></script>                <div id=\"0c2df024-c290-404f-bb22-3a686d7ea693\" class=\"plotly-graph-div\" style=\"height:525px; width:100%;\"></div>            <script type=\"text/javascript\">                                    window.PLOTLYENV=window.PLOTLYENV || {};                                    if (document.getElementById(\"0c2df024-c290-404f-bb22-3a686d7ea693\")) {                    Plotly.newPlot(                        \"0c2df024-c290-404f-bb22-3a686d7ea693\",                        [{\"hovertemplate\":\"country=United States\\u003cbr\\u003eMonth=%{x}\\u003cbr\\u003eNumber of Remote Job Postings=%{y}\\u003cextra\\u003e\\u003c\\u002fextra\\u003e\",\"legendgroup\":\"United States\",\"line\":{\"color\":\"#636efa\",\"dash\":\"solid\"},\"marker\":{\"symbol\":\"circle\"},\"mode\":\"lines\",\"name\":\"United States\",\"orientation\":\"v\",\"showlegend\":true,\"x\":[\"2023-11-30T00:00:00+00:00\",\"2023-12-31T00:00:00+00:00\",\"2024-01-31T00:00:00+00:00\",\"2024-02-29T00:00:00+00:00\",\"2024-03-31T00:00:00+00:00\"],\"xaxis\":\"x\",\"y\":[1,1,16,9656,13537],\"yaxis\":\"y\",\"type\":\"scatter\"},{\"hovertemplate\":\"country=China\\u003cbr\\u003eMonth=%{x}\\u003cbr\\u003eNumber of Remote Job Postings=%{y}\\u003cextra\\u003e\\u003c\\u002fextra\\u003e\",\"legendgroup\":\"China\",\"line\":{\"color\":\"#EF553B\",\"dash\":\"solid\"},\"marker\":{\"symbol\":\"circle\"},\"mode\":\"lines\",\"name\":\"China\",\"orientation\":\"v\",\"showlegend\":true,\"x\":[\"2024-01-31T00:00:00+00:00\",\"2024-02-29T00:00:00+00:00\",\"2024-03-31T00:00:00+00:00\"],\"xaxis\":\"x\",\"y\":[1,66,153],\"yaxis\":\"y\",\"type\":\"scatter\"},{\"hovertemplate\":\"country=Hong Kong\\u003cbr\\u003eMonth=%{x}\\u003cbr\\u003eNumber of Remote Job Postings=%{y}\\u003cextra\\u003e\\u003c\\u002fextra\\u003e\",\"legendgroup\":\"Hong Kong\",\"line\":{\"color\":\"#00cc96\",\"dash\":\"solid\"},\"marker\":{\"symbol\":\"circle\"},\"mode\":\"lines\",\"name\":\"Hong Kong\",\"orientation\":\"v\",\"showlegend\":true,\"x\":[\"2024-01-31T00:00:00+00:00\",\"2024-02-29T00:00:00+00:00\",\"2024-03-31T00:00:00+00:00\"],\"xaxis\":\"x\",\"y\":[1,111,148],\"yaxis\":\"y\",\"type\":\"scatter\"},{\"hovertemplate\":\"country=India\\u003cbr\\u003eMonth=%{x}\\u003cbr\\u003eNumber of Remote Job Postings=%{y}\\u003cextra\\u003e\\u003c\\u002fextra\\u003e\",\"legendgroup\":\"India\",\"line\":{\"color\":\"#ab63fa\",\"dash\":\"solid\"},\"marker\":{\"symbol\":\"circle\"},\"mode\":\"lines\",\"name\":\"India\",\"orientation\":\"v\",\"showlegend\":true,\"x\":[\"2024-01-31T00:00:00+00:00\",\"2024-02-29T00:00:00+00:00\",\"2024-03-31T00:00:00+00:00\"],\"xaxis\":\"x\",\"y\":[1,1981,2821],\"yaxis\":\"y\",\"type\":\"scatter\"},{\"hovertemplate\":\"country=Israel\\u003cbr\\u003eMonth=%{x}\\u003cbr\\u003eNumber of Remote Job Postings=%{y}\\u003cextra\\u003e\\u003c\\u002fextra\\u003e\",\"legendgroup\":\"Israel\",\"line\":{\"color\":\"#FFA15A\",\"dash\":\"solid\"},\"marker\":{\"symbol\":\"circle\"},\"mode\":\"lines\",\"name\":\"Israel\",\"orientation\":\"v\",\"showlegend\":true,\"x\":[\"2024-01-31T00:00:00+00:00\",\"2024-02-29T00:00:00+00:00\",\"2024-03-31T00:00:00+00:00\"],\"xaxis\":\"x\",\"y\":[2,202,307],\"yaxis\":\"y\",\"type\":\"scatter\"},{\"hovertemplate\":\"country=Netherlands\\u003cbr\\u003eMonth=%{x}\\u003cbr\\u003eNumber of Remote Job Postings=%{y}\\u003cextra\\u003e\\u003c\\u002fextra\\u003e\",\"legendgroup\":\"Netherlands\",\"line\":{\"color\":\"#19d3f3\",\"dash\":\"solid\"},\"marker\":{\"symbol\":\"circle\"},\"mode\":\"lines\",\"name\":\"Netherlands\",\"orientation\":\"v\",\"showlegend\":true,\"x\":[\"2024-01-31T00:00:00+00:00\",\"2024-02-29T00:00:00+00:00\",\"2024-03-31T00:00:00+00:00\"],\"xaxis\":\"x\",\"y\":[1,370,460],\"yaxis\":\"y\",\"type\":\"scatter\"},{\"hovertemplate\":\"country=Singapore\\u003cbr\\u003eMonth=%{x}\\u003cbr\\u003eNumber of Remote Job Postings=%{y}\\u003cextra\\u003e\\u003c\\u002fextra\\u003e\",\"legendgroup\":\"Singapore\",\"line\":{\"color\":\"#FF6692\",\"dash\":\"solid\"},\"marker\":{\"symbol\":\"circle\"},\"mode\":\"lines\",\"name\":\"Singapore\",\"orientation\":\"v\",\"showlegend\":true,\"x\":[\"2024-01-31T00:00:00+00:00\",\"2024-02-29T00:00:00+00:00\",\"2024-03-31T00:00:00+00:00\"],\"xaxis\":\"x\",\"y\":[1,225,277],\"yaxis\":\"y\",\"type\":\"scatter\"},{\"hovertemplate\":\"country=Turkey\\u003cbr\\u003eMonth=%{x}\\u003cbr\\u003eNumber of Remote Job Postings=%{y}\\u003cextra\\u003e\\u003c\\u002fextra\\u003e\",\"legendgroup\":\"Turkey\",\"line\":{\"color\":\"#B6E880\",\"dash\":\"solid\"},\"marker\":{\"symbol\":\"circle\"},\"mode\":\"lines\",\"name\":\"Turkey\",\"orientation\":\"v\",\"showlegend\":true,\"x\":[\"2024-01-31T00:00:00+00:00\",\"2024-02-29T00:00:00+00:00\",\"2024-03-31T00:00:00+00:00\"],\"xaxis\":\"x\",\"y\":[1,95,141],\"yaxis\":\"y\",\"type\":\"scatter\"},{\"hovertemplate\":\"country=Ukraine\\u003cbr\\u003eMonth=%{x}\\u003cbr\\u003eNumber of Remote Job Postings=%{y}\\u003cextra\\u003e\\u003c\\u002fextra\\u003e\",\"legendgroup\":\"Ukraine\",\"line\":{\"color\":\"#FF97FF\",\"dash\":\"solid\"},\"marker\":{\"symbol\":\"circle\"},\"mode\":\"lines\",\"name\":\"Ukraine\",\"orientation\":\"v\",\"showlegend\":true,\"x\":[\"2024-01-31T00:00:00+00:00\",\"2024-02-29T00:00:00+00:00\",\"2024-03-31T00:00:00+00:00\"],\"xaxis\":\"x\",\"y\":[1,238,286],\"yaxis\":\"y\",\"type\":\"scatter\"},{\"hovertemplate\":\"country=United Kingdom\\u003cbr\\u003eMonth=%{x}\\u003cbr\\u003eNumber of Remote Job Postings=%{y}\\u003cextra\\u003e\\u003c\\u002fextra\\u003e\",\"legendgroup\":\"United Kingdom\",\"line\":{\"color\":\"#FECB52\",\"dash\":\"solid\"},\"marker\":{\"symbol\":\"circle\"},\"mode\":\"lines\",\"name\":\"United Kingdom\",\"orientation\":\"v\",\"showlegend\":true,\"x\":[\"2024-01-31T00:00:00+00:00\",\"2024-02-29T00:00:00+00:00\",\"2024-03-31T00:00:00+00:00\"],\"xaxis\":\"x\",\"y\":[3,1910,2664],\"yaxis\":\"y\",\"type\":\"scatter\"},{\"hovertemplate\":\"country=Albania\\u003cbr\\u003eMonth=%{x}\\u003cbr\\u003eNumber of Remote Job Postings=%{y}\\u003cextra\\u003e\\u003c\\u002fextra\\u003e\",\"legendgroup\":\"Albania\",\"line\":{\"color\":\"#636efa\",\"dash\":\"solid\"},\"marker\":{\"symbol\":\"circle\"},\"mode\":\"lines\",\"name\":\"Albania\",\"orientation\":\"v\",\"showlegend\":true,\"x\":[\"2024-02-29T00:00:00+00:00\",\"2024-03-31T00:00:00+00:00\"],\"xaxis\":\"x\",\"y\":[20,38],\"yaxis\":\"y\",\"type\":\"scatter\"},{\"hovertemplate\":\"country=Algeria\\u003cbr\\u003eMonth=%{x}\\u003cbr\\u003eNumber of Remote Job Postings=%{y}\\u003cextra\\u003e\\u003c\\u002fextra\\u003e\",\"legendgroup\":\"Algeria\",\"line\":{\"color\":\"#EF553B\",\"dash\":\"solid\"},\"marker\":{\"symbol\":\"circle\"},\"mode\":\"lines\",\"name\":\"Algeria\",\"orientation\":\"v\",\"showlegend\":true,\"x\":[\"2024-02-29T00:00:00+00:00\",\"2024-03-31T00:00:00+00:00\"],\"xaxis\":\"x\",\"y\":[17,30],\"yaxis\":\"y\",\"type\":\"scatter\"},{\"hovertemplate\":\"country=American Samoa\\u003cbr\\u003eMonth=%{x}\\u003cbr\\u003eNumber of Remote Job Postings=%{y}\\u003cextra\\u003e\\u003c\\u002fextra\\u003e\",\"legendgroup\":\"American Samoa\",\"line\":{\"color\":\"#00cc96\",\"dash\":\"solid\"},\"marker\":{\"symbol\":\"circle\"},\"mode\":\"lines\",\"name\":\"American Samoa\",\"orientation\":\"v\",\"showlegend\":true,\"x\":[\"2024-02-29T00:00:00+00:00\"],\"xaxis\":\"x\",\"y\":[1],\"yaxis\":\"y\",\"type\":\"scatter\"},{\"hovertemplate\":\"country=Andorra\\u003cbr\\u003eMonth=%{x}\\u003cbr\\u003eNumber of Remote Job Postings=%{y}\\u003cextra\\u003e\\u003c\\u002fextra\\u003e\",\"legendgroup\":\"Andorra\",\"line\":{\"color\":\"#ab63fa\",\"dash\":\"solid\"},\"marker\":{\"symbol\":\"circle\"},\"mode\":\"lines\",\"name\":\"Andorra\",\"orientation\":\"v\",\"showlegend\":true,\"x\":[\"2024-02-29T00:00:00+00:00\",\"2024-03-31T00:00:00+00:00\"],\"xaxis\":\"x\",\"y\":[2,1],\"yaxis\":\"y\",\"type\":\"scatter\"},{\"hovertemplate\":\"country=Angola\\u003cbr\\u003eMonth=%{x}\\u003cbr\\u003eNumber of Remote Job Postings=%{y}\\u003cextra\\u003e\\u003c\\u002fextra\\u003e\",\"legendgroup\":\"Angola\",\"line\":{\"color\":\"#FFA15A\",\"dash\":\"solid\"},\"marker\":{\"symbol\":\"circle\"},\"mode\":\"lines\",\"name\":\"Angola\",\"orientation\":\"v\",\"showlegend\":true,\"x\":[\"2024-02-29T00:00:00+00:00\"],\"xaxis\":\"x\",\"y\":[1],\"yaxis\":\"y\",\"type\":\"scatter\"},{\"hovertemplate\":\"country=Anguilla\\u003cbr\\u003eMonth=%{x}\\u003cbr\\u003eNumber of Remote Job Postings=%{y}\\u003cextra\\u003e\\u003c\\u002fextra\\u003e\",\"legendgroup\":\"Anguilla\",\"line\":{\"color\":\"#19d3f3\",\"dash\":\"solid\"},\"marker\":{\"symbol\":\"circle\"},\"mode\":\"lines\",\"name\":\"Anguilla\",\"orientation\":\"v\",\"showlegend\":true,\"x\":[\"2024-02-29T00:00:00+00:00\"],\"xaxis\":\"x\",\"y\":[2],\"yaxis\":\"y\",\"type\":\"scatter\"},{\"hovertemplate\":\"country=Argentina\\u003cbr\\u003eMonth=%{x}\\u003cbr\\u003eNumber of Remote Job Postings=%{y}\\u003cextra\\u003e\\u003c\\u002fextra\\u003e\",\"legendgroup\":\"Argentina\",\"line\":{\"color\":\"#FF6692\",\"dash\":\"solid\"},\"marker\":{\"symbol\":\"circle\"},\"mode\":\"lines\",\"name\":\"Argentina\",\"orientation\":\"v\",\"showlegend\":true,\"x\":[\"2024-02-29T00:00:00+00:00\",\"2024-03-31T00:00:00+00:00\"],\"xaxis\":\"x\",\"y\":[48,52],\"yaxis\":\"y\",\"type\":\"scatter\"},{\"hovertemplate\":\"country=Armenia\\u003cbr\\u003eMonth=%{x}\\u003cbr\\u003eNumber of Remote Job Postings=%{y}\\u003cextra\\u003e\\u003c\\u002fextra\\u003e\",\"legendgroup\":\"Armenia\",\"line\":{\"color\":\"#B6E880\",\"dash\":\"solid\"},\"marker\":{\"symbol\":\"circle\"},\"mode\":\"lines\",\"name\":\"Armenia\",\"orientation\":\"v\",\"showlegend\":true,\"x\":[\"2024-02-29T00:00:00+00:00\",\"2024-03-31T00:00:00+00:00\"],\"xaxis\":\"x\",\"y\":[34,59],\"yaxis\":\"y\",\"type\":\"scatter\"},{\"hovertemplate\":\"country=Australia\\u003cbr\\u003eMonth=%{x}\\u003cbr\\u003eNumber of Remote Job Postings=%{y}\\u003cextra\\u003e\\u003c\\u002fextra\\u003e\",\"legendgroup\":\"Australia\",\"line\":{\"color\":\"#FF97FF\",\"dash\":\"solid\"},\"marker\":{\"symbol\":\"circle\"},\"mode\":\"lines\",\"name\":\"Australia\",\"orientation\":\"v\",\"showlegend\":true,\"x\":[\"2024-02-29T00:00:00+00:00\",\"2024-03-31T00:00:00+00:00\"],\"xaxis\":\"x\",\"y\":[1105,1578],\"yaxis\":\"y\",\"type\":\"scatter\"},{\"hovertemplate\":\"country=Austria\\u003cbr\\u003eMonth=%{x}\\u003cbr\\u003eNumber of Remote Job Postings=%{y}\\u003cextra\\u003e\\u003c\\u002fextra\\u003e\",\"legendgroup\":\"Austria\",\"line\":{\"color\":\"#FECB52\",\"dash\":\"solid\"},\"marker\":{\"symbol\":\"circle\"},\"mode\":\"lines\",\"name\":\"Austria\",\"orientation\":\"v\",\"showlegend\":true,\"x\":[\"2024-02-29T00:00:00+00:00\",\"2024-03-31T00:00:00+00:00\"],\"xaxis\":\"x\",\"y\":[64,85],\"yaxis\":\"y\",\"type\":\"scatter\"},{\"hovertemplate\":\"country=Azerbaijan\\u003cbr\\u003eMonth=%{x}\\u003cbr\\u003eNumber of Remote Job Postings=%{y}\\u003cextra\\u003e\\u003c\\u002fextra\\u003e\",\"legendgroup\":\"Azerbaijan\",\"line\":{\"color\":\"#636efa\",\"dash\":\"solid\"},\"marker\":{\"symbol\":\"circle\"},\"mode\":\"lines\",\"name\":\"Azerbaijan\",\"orientation\":\"v\",\"showlegend\":true,\"x\":[\"2024-02-29T00:00:00+00:00\",\"2024-03-31T00:00:00+00:00\"],\"xaxis\":\"x\",\"y\":[7,10],\"yaxis\":\"y\",\"type\":\"scatter\"},{\"hovertemplate\":\"country=Bahamas\\u003cbr\\u003eMonth=%{x}\\u003cbr\\u003eNumber of Remote Job Postings=%{y}\\u003cextra\\u003e\\u003c\\u002fextra\\u003e\",\"legendgroup\":\"Bahamas\",\"line\":{\"color\":\"#EF553B\",\"dash\":\"solid\"},\"marker\":{\"symbol\":\"circle\"},\"mode\":\"lines\",\"name\":\"Bahamas\",\"orientation\":\"v\",\"showlegend\":true,\"x\":[\"2024-02-29T00:00:00+00:00\",\"2024-03-31T00:00:00+00:00\"],\"xaxis\":\"x\",\"y\":[2,4],\"yaxis\":\"y\",\"type\":\"scatter\"},{\"hovertemplate\":\"country=Bahrain\\u003cbr\\u003eMonth=%{x}\\u003cbr\\u003eNumber of Remote Job Postings=%{y}\\u003cextra\\u003e\\u003c\\u002fextra\\u003e\",\"legendgroup\":\"Bahrain\",\"line\":{\"color\":\"#00cc96\",\"dash\":\"solid\"},\"marker\":{\"symbol\":\"circle\"},\"mode\":\"lines\",\"name\":\"Bahrain\",\"orientation\":\"v\",\"showlegend\":true,\"x\":[\"2024-02-29T00:00:00+00:00\",\"2024-03-31T00:00:00+00:00\"],\"xaxis\":\"x\",\"y\":[30,37],\"yaxis\":\"y\",\"type\":\"scatter\"},{\"hovertemplate\":\"country=Bangladesh\\u003cbr\\u003eMonth=%{x}\\u003cbr\\u003eNumber of Remote Job Postings=%{y}\\u003cextra\\u003e\\u003c\\u002fextra\\u003e\",\"legendgroup\":\"Bangladesh\",\"line\":{\"color\":\"#ab63fa\",\"dash\":\"solid\"},\"marker\":{\"symbol\":\"circle\"},\"mode\":\"lines\",\"name\":\"Bangladesh\",\"orientation\":\"v\",\"showlegend\":true,\"x\":[\"2024-02-29T00:00:00+00:00\",\"2024-03-31T00:00:00+00:00\"],\"xaxis\":\"x\",\"y\":[202,161],\"yaxis\":\"y\",\"type\":\"scatter\"},{\"hovertemplate\":\"country=Belgium\\u003cbr\\u003eMonth=%{x}\\u003cbr\\u003eNumber of Remote Job Postings=%{y}\\u003cextra\\u003e\\u003c\\u002fextra\\u003e\",\"legendgroup\":\"Belgium\",\"line\":{\"color\":\"#FFA15A\",\"dash\":\"solid\"},\"marker\":{\"symbol\":\"circle\"},\"mode\":\"lines\",\"name\":\"Belgium\",\"orientation\":\"v\",\"showlegend\":true,\"x\":[\"2024-02-29T00:00:00+00:00\",\"2024-03-31T00:00:00+00:00\"],\"xaxis\":\"x\",\"y\":[85,111],\"yaxis\":\"y\",\"type\":\"scatter\"},{\"hovertemplate\":\"country=Belize\\u003cbr\\u003eMonth=%{x}\\u003cbr\\u003eNumber of Remote Job Postings=%{y}\\u003cextra\\u003e\\u003c\\u002fextra\\u003e\",\"legendgroup\":\"Belize\",\"line\":{\"color\":\"#19d3f3\",\"dash\":\"solid\"},\"marker\":{\"symbol\":\"circle\"},\"mode\":\"lines\",\"name\":\"Belize\",\"orientation\":\"v\",\"showlegend\":true,\"x\":[\"2024-02-29T00:00:00+00:00\",\"2024-03-31T00:00:00+00:00\"],\"xaxis\":\"x\",\"y\":[4,3],\"yaxis\":\"y\",\"type\":\"scatter\"},{\"hovertemplate\":\"country=Benin\\u003cbr\\u003eMonth=%{x}\\u003cbr\\u003eNumber of Remote Job Postings=%{y}\\u003cextra\\u003e\\u003c\\u002fextra\\u003e\",\"legendgroup\":\"Benin\",\"line\":{\"color\":\"#FF6692\",\"dash\":\"solid\"},\"marker\":{\"symbol\":\"circle\"},\"mode\":\"lines\",\"name\":\"Benin\",\"orientation\":\"v\",\"showlegend\":true,\"x\":[\"2024-02-29T00:00:00+00:00\",\"2024-03-31T00:00:00+00:00\"],\"xaxis\":\"x\",\"y\":[1,2],\"yaxis\":\"y\",\"type\":\"scatter\"},{\"hovertemplate\":\"country=Bermuda\\u003cbr\\u003eMonth=%{x}\\u003cbr\\u003eNumber of Remote Job Postings=%{y}\\u003cextra\\u003e\\u003c\\u002fextra\\u003e\",\"legendgroup\":\"Bermuda\",\"line\":{\"color\":\"#B6E880\",\"dash\":\"solid\"},\"marker\":{\"symbol\":\"circle\"},\"mode\":\"lines\",\"name\":\"Bermuda\",\"orientation\":\"v\",\"showlegend\":true,\"x\":[\"2024-02-29T00:00:00+00:00\",\"2024-03-31T00:00:00+00:00\"],\"xaxis\":\"x\",\"y\":[2,2],\"yaxis\":\"y\",\"type\":\"scatter\"},{\"hovertemplate\":\"country=Bolivia\\u003cbr\\u003eMonth=%{x}\\u003cbr\\u003eNumber of Remote Job Postings=%{y}\\u003cextra\\u003e\\u003c\\u002fextra\\u003e\",\"legendgroup\":\"Bolivia\",\"line\":{\"color\":\"#FF97FF\",\"dash\":\"solid\"},\"marker\":{\"symbol\":\"circle\"},\"mode\":\"lines\",\"name\":\"Bolivia\",\"orientation\":\"v\",\"showlegend\":true,\"x\":[\"2024-02-29T00:00:00+00:00\"],\"xaxis\":\"x\",\"y\":[1],\"yaxis\":\"y\",\"type\":\"scatter\"},{\"hovertemplate\":\"country=Bosnia and Herzegovina\\u003cbr\\u003eMonth=%{x}\\u003cbr\\u003eNumber of Remote Job Postings=%{y}\\u003cextra\\u003e\\u003c\\u002fextra\\u003e\",\"legendgroup\":\"Bosnia and Herzegovina\",\"line\":{\"color\":\"#FECB52\",\"dash\":\"solid\"},\"marker\":{\"symbol\":\"circle\"},\"mode\":\"lines\",\"name\":\"Bosnia and Herzegovina\",\"orientation\":\"v\",\"showlegend\":true,\"x\":[\"2024-02-29T00:00:00+00:00\",\"2024-03-31T00:00:00+00:00\"],\"xaxis\":\"x\",\"y\":[9,18],\"yaxis\":\"y\",\"type\":\"scatter\"},{\"hovertemplate\":\"country=Botswana\\u003cbr\\u003eMonth=%{x}\\u003cbr\\u003eNumber of Remote Job Postings=%{y}\\u003cextra\\u003e\\u003c\\u002fextra\\u003e\",\"legendgroup\":\"Botswana\",\"line\":{\"color\":\"#636efa\",\"dash\":\"solid\"},\"marker\":{\"symbol\":\"circle\"},\"mode\":\"lines\",\"name\":\"Botswana\",\"orientation\":\"v\",\"showlegend\":true,\"x\":[\"2024-02-29T00:00:00+00:00\",\"2024-03-31T00:00:00+00:00\"],\"xaxis\":\"x\",\"y\":[1,2],\"yaxis\":\"y\",\"type\":\"scatter\"},{\"hovertemplate\":\"country=Brazil\\u003cbr\\u003eMonth=%{x}\\u003cbr\\u003eNumber of Remote Job Postings=%{y}\\u003cextra\\u003e\\u003c\\u002fextra\\u003e\",\"legendgroup\":\"Brazil\",\"line\":{\"color\":\"#EF553B\",\"dash\":\"solid\"},\"marker\":{\"symbol\":\"circle\"},\"mode\":\"lines\",\"name\":\"Brazil\",\"orientation\":\"v\",\"showlegend\":true,\"x\":[\"2024-02-29T00:00:00+00:00\",\"2024-03-31T00:00:00+00:00\"],\"xaxis\":\"x\",\"y\":[54,78],\"yaxis\":\"y\",\"type\":\"scatter\"},{\"hovertemplate\":\"country=Brunei Darussalam\\u003cbr\\u003eMonth=%{x}\\u003cbr\\u003eNumber of Remote Job Postings=%{y}\\u003cextra\\u003e\\u003c\\u002fextra\\u003e\",\"legendgroup\":\"Brunei Darussalam\",\"line\":{\"color\":\"#00cc96\",\"dash\":\"solid\"},\"marker\":{\"symbol\":\"circle\"},\"mode\":\"lines\",\"name\":\"Brunei Darussalam\",\"orientation\":\"v\",\"showlegend\":true,\"x\":[\"2024-02-29T00:00:00+00:00\",\"2024-03-31T00:00:00+00:00\"],\"xaxis\":\"x\",\"y\":[3,3],\"yaxis\":\"y\",\"type\":\"scatter\"},{\"hovertemplate\":\"country=Bulgaria\\u003cbr\\u003eMonth=%{x}\\u003cbr\\u003eNumber of Remote Job Postings=%{y}\\u003cextra\\u003e\\u003c\\u002fextra\\u003e\",\"legendgroup\":\"Bulgaria\",\"line\":{\"color\":\"#ab63fa\",\"dash\":\"solid\"},\"marker\":{\"symbol\":\"circle\"},\"mode\":\"lines\",\"name\":\"Bulgaria\",\"orientation\":\"v\",\"showlegend\":true,\"x\":[\"2024-02-29T00:00:00+00:00\",\"2024-03-31T00:00:00+00:00\"],\"xaxis\":\"x\",\"y\":[39,69],\"yaxis\":\"y\",\"type\":\"scatter\"},{\"hovertemplate\":\"country=Cambodia\\u003cbr\\u003eMonth=%{x}\\u003cbr\\u003eNumber of Remote Job Postings=%{y}\\u003cextra\\u003e\\u003c\\u002fextra\\u003e\",\"legendgroup\":\"Cambodia\",\"line\":{\"color\":\"#FFA15A\",\"dash\":\"solid\"},\"marker\":{\"symbol\":\"circle\"},\"mode\":\"lines\",\"name\":\"Cambodia\",\"orientation\":\"v\",\"showlegend\":true,\"x\":[\"2024-02-29T00:00:00+00:00\",\"2024-03-31T00:00:00+00:00\"],\"xaxis\":\"x\",\"y\":[2,5],\"yaxis\":\"y\",\"type\":\"scatter\"},{\"hovertemplate\":\"country=Cameroon\\u003cbr\\u003eMonth=%{x}\\u003cbr\\u003eNumber of Remote Job Postings=%{y}\\u003cextra\\u003e\\u003c\\u002fextra\\u003e\",\"legendgroup\":\"Cameroon\",\"line\":{\"color\":\"#19d3f3\",\"dash\":\"solid\"},\"marker\":{\"symbol\":\"circle\"},\"mode\":\"lines\",\"name\":\"Cameroon\",\"orientation\":\"v\",\"showlegend\":true,\"x\":[\"2024-02-29T00:00:00+00:00\",\"2024-03-31T00:00:00+00:00\"],\"xaxis\":\"x\",\"y\":[8,4],\"yaxis\":\"y\",\"type\":\"scatter\"},{\"hovertemplate\":\"country=Canada\\u003cbr\\u003eMonth=%{x}\\u003cbr\\u003eNumber of Remote Job Postings=%{y}\\u003cextra\\u003e\\u003c\\u002fextra\\u003e\",\"legendgroup\":\"Canada\",\"line\":{\"color\":\"#FF6692\",\"dash\":\"solid\"},\"marker\":{\"symbol\":\"circle\"},\"mode\":\"lines\",\"name\":\"Canada\",\"orientation\":\"v\",\"showlegend\":true,\"x\":[\"2024-02-29T00:00:00+00:00\",\"2024-03-31T00:00:00+00:00\"],\"xaxis\":\"x\",\"y\":[1086,1563],\"yaxis\":\"y\",\"type\":\"scatter\"},{\"hovertemplate\":\"country=Cayman Islands\\u003cbr\\u003eMonth=%{x}\\u003cbr\\u003eNumber of Remote Job Postings=%{y}\\u003cextra\\u003e\\u003c\\u002fextra\\u003e\",\"legendgroup\":\"Cayman Islands\",\"line\":{\"color\":\"#B6E880\",\"dash\":\"solid\"},\"marker\":{\"symbol\":\"circle\"},\"mode\":\"lines\",\"name\":\"Cayman Islands\",\"orientation\":\"v\",\"showlegend\":true,\"x\":[\"2024-02-29T00:00:00+00:00\",\"2024-03-31T00:00:00+00:00\"],\"xaxis\":\"x\",\"y\":[8,7],\"yaxis\":\"y\",\"type\":\"scatter\"},{\"hovertemplate\":\"country=Chile\\u003cbr\\u003eMonth=%{x}\\u003cbr\\u003eNumber of Remote Job Postings=%{y}\\u003cextra\\u003e\\u003c\\u002fextra\\u003e\",\"legendgroup\":\"Chile\",\"line\":{\"color\":\"#FF97FF\",\"dash\":\"solid\"},\"marker\":{\"symbol\":\"circle\"},\"mode\":\"lines\",\"name\":\"Chile\",\"orientation\":\"v\",\"showlegend\":true,\"x\":[\"2024-02-29T00:00:00+00:00\",\"2024-03-31T00:00:00+00:00\"],\"xaxis\":\"x\",\"y\":[15,24],\"yaxis\":\"y\",\"type\":\"scatter\"},{\"hovertemplate\":\"country=Colombia\\u003cbr\\u003eMonth=%{x}\\u003cbr\\u003eNumber of Remote Job Postings=%{y}\\u003cextra\\u003e\\u003c\\u002fextra\\u003e\",\"legendgroup\":\"Colombia\",\"line\":{\"color\":\"#FECB52\",\"dash\":\"solid\"},\"marker\":{\"symbol\":\"circle\"},\"mode\":\"lines\",\"name\":\"Colombia\",\"orientation\":\"v\",\"showlegend\":true,\"x\":[\"2024-02-29T00:00:00+00:00\",\"2024-03-31T00:00:00+00:00\"],\"xaxis\":\"x\",\"y\":[55,90],\"yaxis\":\"y\",\"type\":\"scatter\"},{\"hovertemplate\":\"country=Costa Rica\\u003cbr\\u003eMonth=%{x}\\u003cbr\\u003eNumber of Remote Job Postings=%{y}\\u003cextra\\u003e\\u003c\\u002fextra\\u003e\",\"legendgroup\":\"Costa Rica\",\"line\":{\"color\":\"#636efa\",\"dash\":\"solid\"},\"marker\":{\"symbol\":\"circle\"},\"mode\":\"lines\",\"name\":\"Costa Rica\",\"orientation\":\"v\",\"showlegend\":true,\"x\":[\"2024-02-29T00:00:00+00:00\",\"2024-03-31T00:00:00+00:00\"],\"xaxis\":\"x\",\"y\":[31,20],\"yaxis\":\"y\",\"type\":\"scatter\"},{\"hovertemplate\":\"country=Cote d&#039;Ivoire\\u003cbr\\u003eMonth=%{x}\\u003cbr\\u003eNumber of Remote Job Postings=%{y}\\u003cextra\\u003e\\u003c\\u002fextra\\u003e\",\"legendgroup\":\"Cote d&#039;Ivoire\",\"line\":{\"color\":\"#EF553B\",\"dash\":\"solid\"},\"marker\":{\"symbol\":\"circle\"},\"mode\":\"lines\",\"name\":\"Cote d&#039;Ivoire\",\"orientation\":\"v\",\"showlegend\":true,\"x\":[\"2024-02-29T00:00:00+00:00\",\"2024-03-31T00:00:00+00:00\"],\"xaxis\":\"x\",\"y\":[2,6],\"yaxis\":\"y\",\"type\":\"scatter\"},{\"hovertemplate\":\"country=Croatia\\u003cbr\\u003eMonth=%{x}\\u003cbr\\u003eNumber of Remote Job Postings=%{y}\\u003cextra\\u003e\\u003c\\u002fextra\\u003e\",\"legendgroup\":\"Croatia\",\"line\":{\"color\":\"#00cc96\",\"dash\":\"solid\"},\"marker\":{\"symbol\":\"circle\"},\"mode\":\"lines\",\"name\":\"Croatia\",\"orientation\":\"v\",\"showlegend\":true,\"x\":[\"2024-02-29T00:00:00+00:00\",\"2024-03-31T00:00:00+00:00\"],\"xaxis\":\"x\",\"y\":[20,31],\"yaxis\":\"y\",\"type\":\"scatter\"},{\"hovertemplate\":\"country=Cyprus\\u003cbr\\u003eMonth=%{x}\\u003cbr\\u003eNumber of Remote Job Postings=%{y}\\u003cextra\\u003e\\u003c\\u002fextra\\u003e\",\"legendgroup\":\"Cyprus\",\"line\":{\"color\":\"#ab63fa\",\"dash\":\"solid\"},\"marker\":{\"symbol\":\"circle\"},\"mode\":\"lines\",\"name\":\"Cyprus\",\"orientation\":\"v\",\"showlegend\":true,\"x\":[\"2024-02-29T00:00:00+00:00\",\"2024-03-31T00:00:00+00:00\"],\"xaxis\":\"x\",\"y\":[47,73],\"yaxis\":\"y\",\"type\":\"scatter\"},{\"hovertemplate\":\"country=Czech Republic\\u003cbr\\u003eMonth=%{x}\\u003cbr\\u003eNumber of Remote Job Postings=%{y}\\u003cextra\\u003e\\u003c\\u002fextra\\u003e\",\"legendgroup\":\"Czech Republic\",\"line\":{\"color\":\"#FFA15A\",\"dash\":\"solid\"},\"marker\":{\"symbol\":\"circle\"},\"mode\":\"lines\",\"name\":\"Czech Republic\",\"orientation\":\"v\",\"showlegend\":true,\"x\":[\"2024-02-29T00:00:00+00:00\",\"2024-03-31T00:00:00+00:00\"],\"xaxis\":\"x\",\"y\":[48,64],\"yaxis\":\"y\",\"type\":\"scatter\"},{\"hovertemplate\":\"country=Denmark\\u003cbr\\u003eMonth=%{x}\\u003cbr\\u003eNumber of Remote Job Postings=%{y}\\u003cextra\\u003e\\u003c\\u002fextra\\u003e\",\"legendgroup\":\"Denmark\",\"line\":{\"color\":\"#19d3f3\",\"dash\":\"solid\"},\"marker\":{\"symbol\":\"circle\"},\"mode\":\"lines\",\"name\":\"Denmark\",\"orientation\":\"v\",\"showlegend\":true,\"x\":[\"2024-02-29T00:00:00+00:00\",\"2024-03-31T00:00:00+00:00\"],\"xaxis\":\"x\",\"y\":[85,110],\"yaxis\":\"y\",\"type\":\"scatter\"},{\"hovertemplate\":\"country=Dominican Republic\\u003cbr\\u003eMonth=%{x}\\u003cbr\\u003eNumber of Remote Job Postings=%{y}\\u003cextra\\u003e\\u003c\\u002fextra\\u003e\",\"legendgroup\":\"Dominican Republic\",\"line\":{\"color\":\"#FF6692\",\"dash\":\"solid\"},\"marker\":{\"symbol\":\"circle\"},\"mode\":\"lines\",\"name\":\"Dominican Republic\",\"orientation\":\"v\",\"showlegend\":true,\"x\":[\"2024-02-29T00:00:00+00:00\",\"2024-03-31T00:00:00+00:00\"],\"xaxis\":\"x\",\"y\":[10,14],\"yaxis\":\"y\",\"type\":\"scatter\"},{\"hovertemplate\":\"country=Ecuador\\u003cbr\\u003eMonth=%{x}\\u003cbr\\u003eNumber of Remote Job Postings=%{y}\\u003cextra\\u003e\\u003c\\u002fextra\\u003e\",\"legendgroup\":\"Ecuador\",\"line\":{\"color\":\"#B6E880\",\"dash\":\"solid\"},\"marker\":{\"symbol\":\"circle\"},\"mode\":\"lines\",\"name\":\"Ecuador\",\"orientation\":\"v\",\"showlegend\":true,\"x\":[\"2024-02-29T00:00:00+00:00\",\"2024-03-31T00:00:00+00:00\"],\"xaxis\":\"x\",\"y\":[5,12],\"yaxis\":\"y\",\"type\":\"scatter\"},{\"hovertemplate\":\"country=Egypt\\u003cbr\\u003eMonth=%{x}\\u003cbr\\u003eNumber of Remote Job Postings=%{y}\\u003cextra\\u003e\\u003c\\u002fextra\\u003e\",\"legendgroup\":\"Egypt\",\"line\":{\"color\":\"#FF97FF\",\"dash\":\"solid\"},\"marker\":{\"symbol\":\"circle\"},\"mode\":\"lines\",\"name\":\"Egypt\",\"orientation\":\"v\",\"showlegend\":true,\"x\":[\"2024-02-29T00:00:00+00:00\",\"2024-03-31T00:00:00+00:00\"],\"xaxis\":\"x\",\"y\":[90,150],\"yaxis\":\"y\",\"type\":\"scatter\"},{\"hovertemplate\":\"country=El Salvador\\u003cbr\\u003eMonth=%{x}\\u003cbr\\u003eNumber of Remote Job Postings=%{y}\\u003cextra\\u003e\\u003c\\u002fextra\\u003e\",\"legendgroup\":\"El Salvador\",\"line\":{\"color\":\"#FECB52\",\"dash\":\"solid\"},\"marker\":{\"symbol\":\"circle\"},\"mode\":\"lines\",\"name\":\"El Salvador\",\"orientation\":\"v\",\"showlegend\":true,\"x\":[\"2024-02-29T00:00:00+00:00\",\"2024-03-31T00:00:00+00:00\"],\"xaxis\":\"x\",\"y\":[1,9],\"yaxis\":\"y\",\"type\":\"scatter\"},{\"hovertemplate\":\"country=Estonia\\u003cbr\\u003eMonth=%{x}\\u003cbr\\u003eNumber of Remote Job Postings=%{y}\\u003cextra\\u003e\\u003c\\u002fextra\\u003e\",\"legendgroup\":\"Estonia\",\"line\":{\"color\":\"#636efa\",\"dash\":\"solid\"},\"marker\":{\"symbol\":\"circle\"},\"mode\":\"lines\",\"name\":\"Estonia\",\"orientation\":\"v\",\"showlegend\":true,\"x\":[\"2024-02-29T00:00:00+00:00\",\"2024-03-31T00:00:00+00:00\"],\"xaxis\":\"x\",\"y\":[60,54],\"yaxis\":\"y\",\"type\":\"scatter\"},{\"hovertemplate\":\"country=Ethiopia\\u003cbr\\u003eMonth=%{x}\\u003cbr\\u003eNumber of Remote Job Postings=%{y}\\u003cextra\\u003e\\u003c\\u002fextra\\u003e\",\"legendgroup\":\"Ethiopia\",\"line\":{\"color\":\"#EF553B\",\"dash\":\"solid\"},\"marker\":{\"symbol\":\"circle\"},\"mode\":\"lines\",\"name\":\"Ethiopia\",\"orientation\":\"v\",\"showlegend\":true,\"x\":[\"2024-02-29T00:00:00+00:00\",\"2024-03-31T00:00:00+00:00\"],\"xaxis\":\"x\",\"y\":[31,42],\"yaxis\":\"y\",\"type\":\"scatter\"},{\"hovertemplate\":\"country=Finland\\u003cbr\\u003eMonth=%{x}\\u003cbr\\u003eNumber of Remote Job Postings=%{y}\\u003cextra\\u003e\\u003c\\u002fextra\\u003e\",\"legendgroup\":\"Finland\",\"line\":{\"color\":\"#00cc96\",\"dash\":\"solid\"},\"marker\":{\"symbol\":\"circle\"},\"mode\":\"lines\",\"name\":\"Finland\",\"orientation\":\"v\",\"showlegend\":true,\"x\":[\"2024-02-29T00:00:00+00:00\",\"2024-03-31T00:00:00+00:00\"],\"xaxis\":\"x\",\"y\":[41,47],\"yaxis\":\"y\",\"type\":\"scatter\"},{\"hovertemplate\":\"country=France\\u003cbr\\u003eMonth=%{x}\\u003cbr\\u003eNumber of Remote Job Postings=%{y}\\u003cextra\\u003e\\u003c\\u002fextra\\u003e\",\"legendgroup\":\"France\",\"line\":{\"color\":\"#ab63fa\",\"dash\":\"solid\"},\"marker\":{\"symbol\":\"circle\"},\"mode\":\"lines\",\"name\":\"France\",\"orientation\":\"v\",\"showlegend\":true,\"x\":[\"2024-02-29T00:00:00+00:00\",\"2024-03-31T00:00:00+00:00\"],\"xaxis\":\"x\",\"y\":[243,331],\"yaxis\":\"y\",\"type\":\"scatter\"},{\"hovertemplate\":\"country=French Polynesia\\u003cbr\\u003eMonth=%{x}\\u003cbr\\u003eNumber of Remote Job Postings=%{y}\\u003cextra\\u003e\\u003c\\u002fextra\\u003e\",\"legendgroup\":\"French Polynesia\",\"line\":{\"color\":\"#FFA15A\",\"dash\":\"solid\"},\"marker\":{\"symbol\":\"circle\"},\"mode\":\"lines\",\"name\":\"French Polynesia\",\"orientation\":\"v\",\"showlegend\":true,\"x\":[\"2024-02-29T00:00:00+00:00\",\"2024-03-31T00:00:00+00:00\"],\"xaxis\":\"x\",\"y\":[1,1],\"yaxis\":\"y\",\"type\":\"scatter\"},{\"hovertemplate\":\"country=Georgia\\u003cbr\\u003eMonth=%{x}\\u003cbr\\u003eNumber of Remote Job Postings=%{y}\\u003cextra\\u003e\\u003c\\u002fextra\\u003e\",\"legendgroup\":\"Georgia\",\"line\":{\"color\":\"#19d3f3\",\"dash\":\"solid\"},\"marker\":{\"symbol\":\"circle\"},\"mode\":\"lines\",\"name\":\"Georgia\",\"orientation\":\"v\",\"showlegend\":true,\"x\":[\"2024-02-29T00:00:00+00:00\",\"2024-03-31T00:00:00+00:00\"],\"xaxis\":\"x\",\"y\":[30,46],\"yaxis\":\"y\",\"type\":\"scatter\"},{\"hovertemplate\":\"country=Germany\\u003cbr\\u003eMonth=%{x}\\u003cbr\\u003eNumber of Remote Job Postings=%{y}\\u003cextra\\u003e\\u003c\\u002fextra\\u003e\",\"legendgroup\":\"Germany\",\"line\":{\"color\":\"#FF6692\",\"dash\":\"solid\"},\"marker\":{\"symbol\":\"circle\"},\"mode\":\"lines\",\"name\":\"Germany\",\"orientation\":\"v\",\"showlegend\":true,\"x\":[\"2024-02-29T00:00:00+00:00\",\"2024-03-31T00:00:00+00:00\"],\"xaxis\":\"x\",\"y\":[497,672],\"yaxis\":\"y\",\"type\":\"scatter\"},{\"hovertemplate\":\"country=Ghana\\u003cbr\\u003eMonth=%{x}\\u003cbr\\u003eNumber of Remote Job Postings=%{y}\\u003cextra\\u003e\\u003c\\u002fextra\\u003e\",\"legendgroup\":\"Ghana\",\"line\":{\"color\":\"#B6E880\",\"dash\":\"solid\"},\"marker\":{\"symbol\":\"circle\"},\"mode\":\"lines\",\"name\":\"Ghana\",\"orientation\":\"v\",\"showlegend\":true,\"x\":[\"2024-02-29T00:00:00+00:00\",\"2024-03-31T00:00:00+00:00\"],\"xaxis\":\"x\",\"y\":[10,7],\"yaxis\":\"y\",\"type\":\"scatter\"},{\"hovertemplate\":\"country=Gibraltar\\u003cbr\\u003eMonth=%{x}\\u003cbr\\u003eNumber of Remote Job Postings=%{y}\\u003cextra\\u003e\\u003c\\u002fextra\\u003e\",\"legendgroup\":\"Gibraltar\",\"line\":{\"color\":\"#FF97FF\",\"dash\":\"solid\"},\"marker\":{\"symbol\":\"circle\"},\"mode\":\"lines\",\"name\":\"Gibraltar\",\"orientation\":\"v\",\"showlegend\":true,\"x\":[\"2024-02-29T00:00:00+00:00\",\"2024-03-31T00:00:00+00:00\"],\"xaxis\":\"x\",\"y\":[4,5],\"yaxis\":\"y\",\"type\":\"scatter\"},{\"hovertemplate\":\"country=Greece\\u003cbr\\u003eMonth=%{x}\\u003cbr\\u003eNumber of Remote Job Postings=%{y}\\u003cextra\\u003e\\u003c\\u002fextra\\u003e\",\"legendgroup\":\"Greece\",\"line\":{\"color\":\"#FECB52\",\"dash\":\"solid\"},\"marker\":{\"symbol\":\"circle\"},\"mode\":\"lines\",\"name\":\"Greece\",\"orientation\":\"v\",\"showlegend\":true,\"x\":[\"2024-02-29T00:00:00+00:00\",\"2024-03-31T00:00:00+00:00\"],\"xaxis\":\"x\",\"y\":[51,72],\"yaxis\":\"y\",\"type\":\"scatter\"},{\"hovertemplate\":\"country=Guadeloupe\\u003cbr\\u003eMonth=%{x}\\u003cbr\\u003eNumber of Remote Job Postings=%{y}\\u003cextra\\u003e\\u003c\\u002fextra\\u003e\",\"legendgroup\":\"Guadeloupe\",\"line\":{\"color\":\"#636efa\",\"dash\":\"solid\"},\"marker\":{\"symbol\":\"circle\"},\"mode\":\"lines\",\"name\":\"Guadeloupe\",\"orientation\":\"v\",\"showlegend\":true,\"x\":[\"2024-02-29T00:00:00+00:00\",\"2024-03-31T00:00:00+00:00\"],\"xaxis\":\"x\",\"y\":[1,1],\"yaxis\":\"y\",\"type\":\"scatter\"},{\"hovertemplate\":\"country=Guam\\u003cbr\\u003eMonth=%{x}\\u003cbr\\u003eNumber of Remote Job Postings=%{y}\\u003cextra\\u003e\\u003c\\u002fextra\\u003e\",\"legendgroup\":\"Guam\",\"line\":{\"color\":\"#EF553B\",\"dash\":\"solid\"},\"marker\":{\"symbol\":\"circle\"},\"mode\":\"lines\",\"name\":\"Guam\",\"orientation\":\"v\",\"showlegend\":true,\"x\":[\"2024-02-29T00:00:00+00:00\",\"2024-03-31T00:00:00+00:00\"],\"xaxis\":\"x\",\"y\":[1,2],\"yaxis\":\"y\",\"type\":\"scatter\"},{\"hovertemplate\":\"country=Guatemala\\u003cbr\\u003eMonth=%{x}\\u003cbr\\u003eNumber of Remote Job Postings=%{y}\\u003cextra\\u003e\\u003c\\u002fextra\\u003e\",\"legendgroup\":\"Guatemala\",\"line\":{\"color\":\"#00cc96\",\"dash\":\"solid\"},\"marker\":{\"symbol\":\"circle\"},\"mode\":\"lines\",\"name\":\"Guatemala\",\"orientation\":\"v\",\"showlegend\":true,\"x\":[\"2024-02-29T00:00:00+00:00\",\"2024-03-31T00:00:00+00:00\"],\"xaxis\":\"x\",\"y\":[4,5],\"yaxis\":\"y\",\"type\":\"scatter\"},{\"hovertemplate\":\"country=Haiti\\u003cbr\\u003eMonth=%{x}\\u003cbr\\u003eNumber of Remote Job Postings=%{y}\\u003cextra\\u003e\\u003c\\u002fextra\\u003e\",\"legendgroup\":\"Haiti\",\"line\":{\"color\":\"#ab63fa\",\"dash\":\"solid\"},\"marker\":{\"symbol\":\"circle\"},\"mode\":\"lines\",\"name\":\"Haiti\",\"orientation\":\"v\",\"showlegend\":true,\"x\":[\"2024-02-29T00:00:00+00:00\",\"2024-03-31T00:00:00+00:00\"],\"xaxis\":\"x\",\"y\":[2,1],\"yaxis\":\"y\",\"type\":\"scatter\"},{\"hovertemplate\":\"country=Honduras\\u003cbr\\u003eMonth=%{x}\\u003cbr\\u003eNumber of Remote Job Postings=%{y}\\u003cextra\\u003e\\u003c\\u002fextra\\u003e\",\"legendgroup\":\"Honduras\",\"line\":{\"color\":\"#FFA15A\",\"dash\":\"solid\"},\"marker\":{\"symbol\":\"circle\"},\"mode\":\"lines\",\"name\":\"Honduras\",\"orientation\":\"v\",\"showlegend\":true,\"x\":[\"2024-02-29T00:00:00+00:00\",\"2024-03-31T00:00:00+00:00\"],\"xaxis\":\"x\",\"y\":[4,14],\"yaxis\":\"y\",\"type\":\"scatter\"},{\"hovertemplate\":\"country=Hungary\\u003cbr\\u003eMonth=%{x}\\u003cbr\\u003eNumber of Remote Job Postings=%{y}\\u003cextra\\u003e\\u003c\\u002fextra\\u003e\",\"legendgroup\":\"Hungary\",\"line\":{\"color\":\"#19d3f3\",\"dash\":\"solid\"},\"marker\":{\"symbol\":\"circle\"},\"mode\":\"lines\",\"name\":\"Hungary\",\"orientation\":\"v\",\"showlegend\":true,\"x\":[\"2024-02-29T00:00:00+00:00\",\"2024-03-31T00:00:00+00:00\"],\"xaxis\":\"x\",\"y\":[39,72],\"yaxis\":\"y\",\"type\":\"scatter\"},{\"hovertemplate\":\"country=Iceland\\u003cbr\\u003eMonth=%{x}\\u003cbr\\u003eNumber of Remote Job Postings=%{y}\\u003cextra\\u003e\\u003c\\u002fextra\\u003e\",\"legendgroup\":\"Iceland\",\"line\":{\"color\":\"#FF6692\",\"dash\":\"solid\"},\"marker\":{\"symbol\":\"circle\"},\"mode\":\"lines\",\"name\":\"Iceland\",\"orientation\":\"v\",\"showlegend\":true,\"x\":[\"2024-02-29T00:00:00+00:00\",\"2024-03-31T00:00:00+00:00\"],\"xaxis\":\"x\",\"y\":[6,11],\"yaxis\":\"y\",\"type\":\"scatter\"},{\"hovertemplate\":\"country=Indonesia\\u003cbr\\u003eMonth=%{x}\\u003cbr\\u003eNumber of Remote Job Postings=%{y}\\u003cextra\\u003e\\u003c\\u002fextra\\u003e\",\"legendgroup\":\"Indonesia\",\"line\":{\"color\":\"#B6E880\",\"dash\":\"solid\"},\"marker\":{\"symbol\":\"circle\"},\"mode\":\"lines\",\"name\":\"Indonesia\",\"orientation\":\"v\",\"showlegend\":true,\"x\":[\"2024-02-29T00:00:00+00:00\",\"2024-03-31T00:00:00+00:00\"],\"xaxis\":\"x\",\"y\":[68,71],\"yaxis\":\"y\",\"type\":\"scatter\"},{\"hovertemplate\":\"country=Ireland\\u003cbr\\u003eMonth=%{x}\\u003cbr\\u003eNumber of Remote Job Postings=%{y}\\u003cextra\\u003e\\u003c\\u002fextra\\u003e\",\"legendgroup\":\"Ireland\",\"line\":{\"color\":\"#FF97FF\",\"dash\":\"solid\"},\"marker\":{\"symbol\":\"circle\"},\"mode\":\"lines\",\"name\":\"Ireland\",\"orientation\":\"v\",\"showlegend\":true,\"x\":[\"2024-02-29T00:00:00+00:00\",\"2024-03-31T00:00:00+00:00\"],\"xaxis\":\"x\",\"y\":[82,151],\"yaxis\":\"y\",\"type\":\"scatter\"},{\"hovertemplate\":\"country=Isle of Man\\u003cbr\\u003eMonth=%{x}\\u003cbr\\u003eNumber of Remote Job Postings=%{y}\\u003cextra\\u003e\\u003c\\u002fextra\\u003e\",\"legendgroup\":\"Isle of Man\",\"line\":{\"color\":\"#FECB52\",\"dash\":\"solid\"},\"marker\":{\"symbol\":\"circle\"},\"mode\":\"lines\",\"name\":\"Isle of Man\",\"orientation\":\"v\",\"showlegend\":true,\"x\":[\"2024-02-29T00:00:00+00:00\",\"2024-03-31T00:00:00+00:00\"],\"xaxis\":\"x\",\"y\":[5,6],\"yaxis\":\"y\",\"type\":\"scatter\"},{\"hovertemplate\":\"country=Italy\\u003cbr\\u003eMonth=%{x}\\u003cbr\\u003eNumber of Remote Job Postings=%{y}\\u003cextra\\u003e\\u003c\\u002fextra\\u003e\",\"legendgroup\":\"Italy\",\"line\":{\"color\":\"#636efa\",\"dash\":\"solid\"},\"marker\":{\"symbol\":\"circle\"},\"mode\":\"lines\",\"name\":\"Italy\",\"orientation\":\"v\",\"showlegend\":true,\"x\":[\"2024-02-29T00:00:00+00:00\",\"2024-03-31T00:00:00+00:00\"],\"xaxis\":\"x\",\"y\":[138,202],\"yaxis\":\"y\",\"type\":\"scatter\"},{\"hovertemplate\":\"country=Jamaica\\u003cbr\\u003eMonth=%{x}\\u003cbr\\u003eNumber of Remote Job Postings=%{y}\\u003cextra\\u003e\\u003c\\u002fextra\\u003e\",\"legendgroup\":\"Jamaica\",\"line\":{\"color\":\"#EF553B\",\"dash\":\"solid\"},\"marker\":{\"symbol\":\"circle\"},\"mode\":\"lines\",\"name\":\"Jamaica\",\"orientation\":\"v\",\"showlegend\":true,\"x\":[\"2024-02-29T00:00:00+00:00\",\"2024-03-31T00:00:00+00:00\"],\"xaxis\":\"x\",\"y\":[13,19],\"yaxis\":\"y\",\"type\":\"scatter\"},{\"hovertemplate\":\"country=Japan\\u003cbr\\u003eMonth=%{x}\\u003cbr\\u003eNumber of Remote Job Postings=%{y}\\u003cextra\\u003e\\u003c\\u002fextra\\u003e\",\"legendgroup\":\"Japan\",\"line\":{\"color\":\"#00cc96\",\"dash\":\"solid\"},\"marker\":{\"symbol\":\"circle\"},\"mode\":\"lines\",\"name\":\"Japan\",\"orientation\":\"v\",\"showlegend\":true,\"x\":[\"2024-02-29T00:00:00+00:00\",\"2024-03-31T00:00:00+00:00\"],\"xaxis\":\"x\",\"y\":[45,122],\"yaxis\":\"y\",\"type\":\"scatter\"},{\"hovertemplate\":\"country=Jersey\\u003cbr\\u003eMonth=%{x}\\u003cbr\\u003eNumber of Remote Job Postings=%{y}\\u003cextra\\u003e\\u003c\\u002fextra\\u003e\",\"legendgroup\":\"Jersey\",\"line\":{\"color\":\"#ab63fa\",\"dash\":\"solid\"},\"marker\":{\"symbol\":\"circle\"},\"mode\":\"lines\",\"name\":\"Jersey\",\"orientation\":\"v\",\"showlegend\":true,\"x\":[\"2024-02-29T00:00:00+00:00\",\"2024-03-31T00:00:00+00:00\"],\"xaxis\":\"x\",\"y\":[2,3],\"yaxis\":\"y\",\"type\":\"scatter\"},{\"hovertemplate\":\"country=Jordan\\u003cbr\\u003eMonth=%{x}\\u003cbr\\u003eNumber of Remote Job Postings=%{y}\\u003cextra\\u003e\\u003c\\u002fextra\\u003e\",\"legendgroup\":\"Jordan\",\"line\":{\"color\":\"#FFA15A\",\"dash\":\"solid\"},\"marker\":{\"symbol\":\"circle\"},\"mode\":\"lines\",\"name\":\"Jordan\",\"orientation\":\"v\",\"showlegend\":true,\"x\":[\"2024-02-29T00:00:00+00:00\",\"2024-03-31T00:00:00+00:00\"],\"xaxis\":\"x\",\"y\":[29,34],\"yaxis\":\"y\",\"type\":\"scatter\"},{\"hovertemplate\":\"country=Kazakhstan\\u003cbr\\u003eMonth=%{x}\\u003cbr\\u003eNumber of Remote Job Postings=%{y}\\u003cextra\\u003e\\u003c\\u002fextra\\u003e\",\"legendgroup\":\"Kazakhstan\",\"line\":{\"color\":\"#19d3f3\",\"dash\":\"solid\"},\"marker\":{\"symbol\":\"circle\"},\"mode\":\"lines\",\"name\":\"Kazakhstan\",\"orientation\":\"v\",\"showlegend\":true,\"x\":[\"2024-02-29T00:00:00+00:00\",\"2024-03-31T00:00:00+00:00\"],\"xaxis\":\"x\",\"y\":[10,19],\"yaxis\":\"y\",\"type\":\"scatter\"},{\"hovertemplate\":\"country=Kenya\\u003cbr\\u003eMonth=%{x}\\u003cbr\\u003eNumber of Remote Job Postings=%{y}\\u003cextra\\u003e\\u003c\\u002fextra\\u003e\",\"legendgroup\":\"Kenya\",\"line\":{\"color\":\"#FF6692\",\"dash\":\"solid\"},\"marker\":{\"symbol\":\"circle\"},\"mode\":\"lines\",\"name\":\"Kenya\",\"orientation\":\"v\",\"showlegend\":true,\"x\":[\"2024-02-29T00:00:00+00:00\",\"2024-03-31T00:00:00+00:00\"],\"xaxis\":\"x\",\"y\":[62,85],\"yaxis\":\"y\",\"type\":\"scatter\"},{\"hovertemplate\":\"country=Kuwait\\u003cbr\\u003eMonth=%{x}\\u003cbr\\u003eNumber of Remote Job Postings=%{y}\\u003cextra\\u003e\\u003c\\u002fextra\\u003e\",\"legendgroup\":\"Kuwait\",\"line\":{\"color\":\"#B6E880\",\"dash\":\"solid\"},\"marker\":{\"symbol\":\"circle\"},\"mode\":\"lines\",\"name\":\"Kuwait\",\"orientation\":\"v\",\"showlegend\":true,\"x\":[\"2024-02-29T00:00:00+00:00\",\"2024-03-31T00:00:00+00:00\"],\"xaxis\":\"x\",\"y\":[20,27],\"yaxis\":\"y\",\"type\":\"scatter\"},{\"hovertemplate\":\"country=Kyrgyzstan\\u003cbr\\u003eMonth=%{x}\\u003cbr\\u003eNumber of Remote Job Postings=%{y}\\u003cextra\\u003e\\u003c\\u002fextra\\u003e\",\"legendgroup\":\"Kyrgyzstan\",\"line\":{\"color\":\"#FF97FF\",\"dash\":\"solid\"},\"marker\":{\"symbol\":\"circle\"},\"mode\":\"lines\",\"name\":\"Kyrgyzstan\",\"orientation\":\"v\",\"showlegend\":true,\"x\":[\"2024-02-29T00:00:00+00:00\",\"2024-03-31T00:00:00+00:00\"],\"xaxis\":\"x\",\"y\":[1,2],\"yaxis\":\"y\",\"type\":\"scatter\"},{\"hovertemplate\":\"country=Laos\\u003cbr\\u003eMonth=%{x}\\u003cbr\\u003eNumber of Remote Job Postings=%{y}\\u003cextra\\u003e\\u003c\\u002fextra\\u003e\",\"legendgroup\":\"Laos\",\"line\":{\"color\":\"#FECB52\",\"dash\":\"solid\"},\"marker\":{\"symbol\":\"circle\"},\"mode\":\"lines\",\"name\":\"Laos\",\"orientation\":\"v\",\"showlegend\":true,\"x\":[\"2024-02-29T00:00:00+00:00\",\"2024-03-31T00:00:00+00:00\"],\"xaxis\":\"x\",\"y\":[1,1],\"yaxis\":\"y\",\"type\":\"scatter\"},{\"hovertemplate\":\"country=Latvia\\u003cbr\\u003eMonth=%{x}\\u003cbr\\u003eNumber of Remote Job Postings=%{y}\\u003cextra\\u003e\\u003c\\u002fextra\\u003e\",\"legendgroup\":\"Latvia\",\"line\":{\"color\":\"#636efa\",\"dash\":\"solid\"},\"marker\":{\"symbol\":\"circle\"},\"mode\":\"lines\",\"name\":\"Latvia\",\"orientation\":\"v\",\"showlegend\":true,\"x\":[\"2024-02-29T00:00:00+00:00\",\"2024-03-31T00:00:00+00:00\"],\"xaxis\":\"x\",\"y\":[14,33],\"yaxis\":\"y\",\"type\":\"scatter\"},{\"hovertemplate\":\"country=Lebanon\\u003cbr\\u003eMonth=%{x}\\u003cbr\\u003eNumber of Remote Job Postings=%{y}\\u003cextra\\u003e\\u003c\\u002fextra\\u003e\",\"legendgroup\":\"Lebanon\",\"line\":{\"color\":\"#EF553B\",\"dash\":\"solid\"},\"marker\":{\"symbol\":\"circle\"},\"mode\":\"lines\",\"name\":\"Lebanon\",\"orientation\":\"v\",\"showlegend\":true,\"x\":[\"2024-02-29T00:00:00+00:00\",\"2024-03-31T00:00:00+00:00\"],\"xaxis\":\"x\",\"y\":[41,45],\"yaxis\":\"y\",\"type\":\"scatter\"},{\"hovertemplate\":\"country=Lithuania\\u003cbr\\u003eMonth=%{x}\\u003cbr\\u003eNumber of Remote Job Postings=%{y}\\u003cextra\\u003e\\u003c\\u002fextra\\u003e\",\"legendgroup\":\"Lithuania\",\"line\":{\"color\":\"#00cc96\",\"dash\":\"solid\"},\"marker\":{\"symbol\":\"circle\"},\"mode\":\"lines\",\"name\":\"Lithuania\",\"orientation\":\"v\",\"showlegend\":true,\"x\":[\"2024-02-29T00:00:00+00:00\",\"2024-03-31T00:00:00+00:00\"],\"xaxis\":\"x\",\"y\":[48,70],\"yaxis\":\"y\",\"type\":\"scatter\"},{\"hovertemplate\":\"country=Luxembourg\\u003cbr\\u003eMonth=%{x}\\u003cbr\\u003eNumber of Remote Job Postings=%{y}\\u003cextra\\u003e\\u003c\\u002fextra\\u003e\",\"legendgroup\":\"Luxembourg\",\"line\":{\"color\":\"#ab63fa\",\"dash\":\"solid\"},\"marker\":{\"symbol\":\"circle\"},\"mode\":\"lines\",\"name\":\"Luxembourg\",\"orientation\":\"v\",\"showlegend\":true,\"x\":[\"2024-02-29T00:00:00+00:00\",\"2024-03-31T00:00:00+00:00\"],\"xaxis\":\"x\",\"y\":[11,12],\"yaxis\":\"y\",\"type\":\"scatter\"},{\"hovertemplate\":\"country=Macedonia\\u003cbr\\u003eMonth=%{x}\\u003cbr\\u003eNumber of Remote Job Postings=%{y}\\u003cextra\\u003e\\u003c\\u002fextra\\u003e\",\"legendgroup\":\"Macedonia\",\"line\":{\"color\":\"#FFA15A\",\"dash\":\"solid\"},\"marker\":{\"symbol\":\"circle\"},\"mode\":\"lines\",\"name\":\"Macedonia\",\"orientation\":\"v\",\"showlegend\":true,\"x\":[\"2024-02-29T00:00:00+00:00\",\"2024-03-31T00:00:00+00:00\"],\"xaxis\":\"x\",\"y\":[29,35],\"yaxis\":\"y\",\"type\":\"scatter\"},{\"hovertemplate\":\"country=Malaysia\\u003cbr\\u003eMonth=%{x}\\u003cbr\\u003eNumber of Remote Job Postings=%{y}\\u003cextra\\u003e\\u003c\\u002fextra\\u003e\",\"legendgroup\":\"Malaysia\",\"line\":{\"color\":\"#19d3f3\",\"dash\":\"solid\"},\"marker\":{\"symbol\":\"circle\"},\"mode\":\"lines\",\"name\":\"Malaysia\",\"orientation\":\"v\",\"showlegend\":true,\"x\":[\"2024-02-29T00:00:00+00:00\",\"2024-03-31T00:00:00+00:00\"],\"xaxis\":\"x\",\"y\":[64,113],\"yaxis\":\"y\",\"type\":\"scatter\"},{\"hovertemplate\":\"country=Maldives\\u003cbr\\u003eMonth=%{x}\\u003cbr\\u003eNumber of Remote Job Postings=%{y}\\u003cextra\\u003e\\u003c\\u002fextra\\u003e\",\"legendgroup\":\"Maldives\",\"line\":{\"color\":\"#FF6692\",\"dash\":\"solid\"},\"marker\":{\"symbol\":\"circle\"},\"mode\":\"lines\",\"name\":\"Maldives\",\"orientation\":\"v\",\"showlegend\":true,\"x\":[\"2024-02-29T00:00:00+00:00\",\"2024-03-31T00:00:00+00:00\"],\"xaxis\":\"x\",\"y\":[3,2],\"yaxis\":\"y\",\"type\":\"scatter\"},{\"hovertemplate\":\"country=Malta\\u003cbr\\u003eMonth=%{x}\\u003cbr\\u003eNumber of Remote Job Postings=%{y}\\u003cextra\\u003e\\u003c\\u002fextra\\u003e\",\"legendgroup\":\"Malta\",\"line\":{\"color\":\"#B6E880\",\"dash\":\"solid\"},\"marker\":{\"symbol\":\"circle\"},\"mode\":\"lines\",\"name\":\"Malta\",\"orientation\":\"v\",\"showlegend\":true,\"x\":[\"2024-02-29T00:00:00+00:00\",\"2024-03-31T00:00:00+00:00\"],\"xaxis\":\"x\",\"y\":[52,114],\"yaxis\":\"y\",\"type\":\"scatter\"},{\"hovertemplate\":\"country=Mauritania\\u003cbr\\u003eMonth=%{x}\\u003cbr\\u003eNumber of Remote Job Postings=%{y}\\u003cextra\\u003e\\u003c\\u002fextra\\u003e\",\"legendgroup\":\"Mauritania\",\"line\":{\"color\":\"#FF97FF\",\"dash\":\"solid\"},\"marker\":{\"symbol\":\"circle\"},\"mode\":\"lines\",\"name\":\"Mauritania\",\"orientation\":\"v\",\"showlegend\":true,\"x\":[\"2024-02-29T00:00:00+00:00\",\"2024-03-31T00:00:00+00:00\"],\"xaxis\":\"x\",\"y\":[2,2],\"yaxis\":\"y\",\"type\":\"scatter\"},{\"hovertemplate\":\"country=Mauritius\\u003cbr\\u003eMonth=%{x}\\u003cbr\\u003eNumber of Remote Job Postings=%{y}\\u003cextra\\u003e\\u003c\\u002fextra\\u003e\",\"legendgroup\":\"Mauritius\",\"line\":{\"color\":\"#FECB52\",\"dash\":\"solid\"},\"marker\":{\"symbol\":\"circle\"},\"mode\":\"lines\",\"name\":\"Mauritius\",\"orientation\":\"v\",\"showlegend\":true,\"x\":[\"2024-02-29T00:00:00+00:00\",\"2024-03-31T00:00:00+00:00\"],\"xaxis\":\"x\",\"y\":[6,7],\"yaxis\":\"y\",\"type\":\"scatter\"},{\"hovertemplate\":\"country=Mexico\\u003cbr\\u003eMonth=%{x}\\u003cbr\\u003eNumber of Remote Job Postings=%{y}\\u003cextra\\u003e\\u003c\\u002fextra\\u003e\",\"legendgroup\":\"Mexico\",\"line\":{\"color\":\"#636efa\",\"dash\":\"solid\"},\"marker\":{\"symbol\":\"circle\"},\"mode\":\"lines\",\"name\":\"Mexico\",\"orientation\":\"v\",\"showlegend\":true,\"x\":[\"2024-02-29T00:00:00+00:00\",\"2024-03-31T00:00:00+00:00\"],\"xaxis\":\"x\",\"y\":[66,64],\"yaxis\":\"y\",\"type\":\"scatter\"},{\"hovertemplate\":\"country=Moldova\\u003cbr\\u003eMonth=%{x}\\u003cbr\\u003eNumber of Remote Job Postings=%{y}\\u003cextra\\u003e\\u003c\\u002fextra\\u003e\",\"legendgroup\":\"Moldova\",\"line\":{\"color\":\"#EF553B\",\"dash\":\"solid\"},\"marker\":{\"symbol\":\"circle\"},\"mode\":\"lines\",\"name\":\"Moldova\",\"orientation\":\"v\",\"showlegend\":true,\"x\":[\"2024-02-29T00:00:00+00:00\",\"2024-03-31T00:00:00+00:00\"],\"xaxis\":\"x\",\"y\":[21,26],\"yaxis\":\"y\",\"type\":\"scatter\"},{\"hovertemplate\":\"country=Monaco\\u003cbr\\u003eMonth=%{x}\\u003cbr\\u003eNumber of Remote Job Postings=%{y}\\u003cextra\\u003e\\u003c\\u002fextra\\u003e\",\"legendgroup\":\"Monaco\",\"line\":{\"color\":\"#00cc96\",\"dash\":\"solid\"},\"marker\":{\"symbol\":\"circle\"},\"mode\":\"lines\",\"name\":\"Monaco\",\"orientation\":\"v\",\"showlegend\":true,\"x\":[\"2024-02-29T00:00:00+00:00\",\"2024-03-31T00:00:00+00:00\"],\"xaxis\":\"x\",\"y\":[5,4],\"yaxis\":\"y\",\"type\":\"scatter\"},{\"hovertemplate\":\"country=Mongolia\\u003cbr\\u003eMonth=%{x}\\u003cbr\\u003eNumber of Remote Job Postings=%{y}\\u003cextra\\u003e\\u003c\\u002fextra\\u003e\",\"legendgroup\":\"Mongolia\",\"line\":{\"color\":\"#ab63fa\",\"dash\":\"solid\"},\"marker\":{\"symbol\":\"circle\"},\"mode\":\"lines\",\"name\":\"Mongolia\",\"orientation\":\"v\",\"showlegend\":true,\"x\":[\"2024-02-29T00:00:00+00:00\",\"2024-03-31T00:00:00+00:00\"],\"xaxis\":\"x\",\"y\":[2,4],\"yaxis\":\"y\",\"type\":\"scatter\"},{\"hovertemplate\":\"country=Montenegro\\u003cbr\\u003eMonth=%{x}\\u003cbr\\u003eNumber of Remote Job Postings=%{y}\\u003cextra\\u003e\\u003c\\u002fextra\\u003e\",\"legendgroup\":\"Montenegro\",\"line\":{\"color\":\"#FFA15A\",\"dash\":\"solid\"},\"marker\":{\"symbol\":\"circle\"},\"mode\":\"lines\",\"name\":\"Montenegro\",\"orientation\":\"v\",\"showlegend\":true,\"x\":[\"2024-02-29T00:00:00+00:00\",\"2024-03-31T00:00:00+00:00\"],\"xaxis\":\"x\",\"y\":[12,9],\"yaxis\":\"y\",\"type\":\"scatter\"},{\"hovertemplate\":\"country=Morocco\\u003cbr\\u003eMonth=%{x}\\u003cbr\\u003eNumber of Remote Job Postings=%{y}\\u003cextra\\u003e\\u003c\\u002fextra\\u003e\",\"legendgroup\":\"Morocco\",\"line\":{\"color\":\"#19d3f3\",\"dash\":\"solid\"},\"marker\":{\"symbol\":\"circle\"},\"mode\":\"lines\",\"name\":\"Morocco\",\"orientation\":\"v\",\"showlegend\":true,\"x\":[\"2024-02-29T00:00:00+00:00\",\"2024-03-31T00:00:00+00:00\"],\"xaxis\":\"x\",\"y\":[59,66],\"yaxis\":\"y\",\"type\":\"scatter\"},{\"hovertemplate\":\"country=Myanmar\\u003cbr\\u003eMonth=%{x}\\u003cbr\\u003eNumber of Remote Job Postings=%{y}\\u003cextra\\u003e\\u003c\\u002fextra\\u003e\",\"legendgroup\":\"Myanmar\",\"line\":{\"color\":\"#FF6692\",\"dash\":\"solid\"},\"marker\":{\"symbol\":\"circle\"},\"mode\":\"lines\",\"name\":\"Myanmar\",\"orientation\":\"v\",\"showlegend\":true,\"x\":[\"2024-02-29T00:00:00+00:00\",\"2024-03-31T00:00:00+00:00\"],\"xaxis\":\"x\",\"y\":[1,3],\"yaxis\":\"y\",\"type\":\"scatter\"},{\"hovertemplate\":\"country=Nepal\\u003cbr\\u003eMonth=%{x}\\u003cbr\\u003eNumber of Remote Job Postings=%{y}\\u003cextra\\u003e\\u003c\\u002fextra\\u003e\",\"legendgroup\":\"Nepal\",\"line\":{\"color\":\"#B6E880\",\"dash\":\"solid\"},\"marker\":{\"symbol\":\"circle\"},\"mode\":\"lines\",\"name\":\"Nepal\",\"orientation\":\"v\",\"showlegend\":true,\"x\":[\"2024-02-29T00:00:00+00:00\",\"2024-03-31T00:00:00+00:00\"],\"xaxis\":\"x\",\"y\":[21,18],\"yaxis\":\"y\",\"type\":\"scatter\"},{\"hovertemplate\":\"country=New Zealand\\u003cbr\\u003eMonth=%{x}\\u003cbr\\u003eNumber of Remote Job Postings=%{y}\\u003cextra\\u003e\\u003c\\u002fextra\\u003e\",\"legendgroup\":\"New Zealand\",\"line\":{\"color\":\"#FF97FF\",\"dash\":\"solid\"},\"marker\":{\"symbol\":\"circle\"},\"mode\":\"lines\",\"name\":\"New Zealand\",\"orientation\":\"v\",\"showlegend\":true,\"x\":[\"2024-02-29T00:00:00+00:00\",\"2024-03-31T00:00:00+00:00\"],\"xaxis\":\"x\",\"y\":[87,143],\"yaxis\":\"y\",\"type\":\"scatter\"},{\"hovertemplate\":\"country=Nicaragua\\u003cbr\\u003eMonth=%{x}\\u003cbr\\u003eNumber of Remote Job Postings=%{y}\\u003cextra\\u003e\\u003c\\u002fextra\\u003e\",\"legendgroup\":\"Nicaragua\",\"line\":{\"color\":\"#FECB52\",\"dash\":\"solid\"},\"marker\":{\"symbol\":\"circle\"},\"mode\":\"lines\",\"name\":\"Nicaragua\",\"orientation\":\"v\",\"showlegend\":true,\"x\":[\"2024-02-29T00:00:00+00:00\",\"2024-03-31T00:00:00+00:00\"],\"xaxis\":\"x\",\"y\":[3,1],\"yaxis\":\"y\",\"type\":\"scatter\"},{\"hovertemplate\":\"country=Nigeria\\u003cbr\\u003eMonth=%{x}\\u003cbr\\u003eNumber of Remote Job Postings=%{y}\\u003cextra\\u003e\\u003c\\u002fextra\\u003e\",\"legendgroup\":\"Nigeria\",\"line\":{\"color\":\"#636efa\",\"dash\":\"solid\"},\"marker\":{\"symbol\":\"circle\"},\"mode\":\"lines\",\"name\":\"Nigeria\",\"orientation\":\"v\",\"showlegend\":true,\"x\":[\"2024-02-29T00:00:00+00:00\",\"2024-03-31T00:00:00+00:00\"],\"xaxis\":\"x\",\"y\":[118,123],\"yaxis\":\"y\",\"type\":\"scatter\"},{\"hovertemplate\":\"country=Norway\\u003cbr\\u003eMonth=%{x}\\u003cbr\\u003eNumber of Remote Job Postings=%{y}\\u003cextra\\u003e\\u003c\\u002fextra\\u003e\",\"legendgroup\":\"Norway\",\"line\":{\"color\":\"#EF553B\",\"dash\":\"solid\"},\"marker\":{\"symbol\":\"circle\"},\"mode\":\"lines\",\"name\":\"Norway\",\"orientation\":\"v\",\"showlegend\":true,\"x\":[\"2024-02-29T00:00:00+00:00\",\"2024-03-31T00:00:00+00:00\"],\"xaxis\":\"x\",\"y\":[55,66],\"yaxis\":\"y\",\"type\":\"scatter\"},{\"hovertemplate\":\"country=Oman\\u003cbr\\u003eMonth=%{x}\\u003cbr\\u003eNumber of Remote Job Postings=%{y}\\u003cextra\\u003e\\u003c\\u002fextra\\u003e\",\"legendgroup\":\"Oman\",\"line\":{\"color\":\"#00cc96\",\"dash\":\"solid\"},\"marker\":{\"symbol\":\"circle\"},\"mode\":\"lines\",\"name\":\"Oman\",\"orientation\":\"v\",\"showlegend\":true,\"x\":[\"2024-02-29T00:00:00+00:00\",\"2024-03-31T00:00:00+00:00\"],\"xaxis\":\"x\",\"y\":[19,17],\"yaxis\":\"y\",\"type\":\"scatter\"},{\"hovertemplate\":\"country=Pakistan\\u003cbr\\u003eMonth=%{x}\\u003cbr\\u003eNumber of Remote Job Postings=%{y}\\u003cextra\\u003e\\u003c\\u002fextra\\u003e\",\"legendgroup\":\"Pakistan\",\"line\":{\"color\":\"#ab63fa\",\"dash\":\"solid\"},\"marker\":{\"symbol\":\"circle\"},\"mode\":\"lines\",\"name\":\"Pakistan\",\"orientation\":\"v\",\"showlegend\":true,\"x\":[\"2024-02-29T00:00:00+00:00\",\"2024-03-31T00:00:00+00:00\"],\"xaxis\":\"x\",\"y\":[737,727],\"yaxis\":\"y\",\"type\":\"scatter\"},{\"hovertemplate\":\"country=Palestinian Territories\\u003cbr\\u003eMonth=%{x}\\u003cbr\\u003eNumber of Remote Job Postings=%{y}\\u003cextra\\u003e\\u003c\\u002fextra\\u003e\",\"legendgroup\":\"Palestinian Territories\",\"line\":{\"color\":\"#FFA15A\",\"dash\":\"solid\"},\"marker\":{\"symbol\":\"circle\"},\"mode\":\"lines\",\"name\":\"Palestinian Territories\",\"orientation\":\"v\",\"showlegend\":true,\"x\":[\"2024-02-29T00:00:00+00:00\",\"2024-03-31T00:00:00+00:00\"],\"xaxis\":\"x\",\"y\":[8,11],\"yaxis\":\"y\",\"type\":\"scatter\"},{\"hovertemplate\":\"country=Panama\\u003cbr\\u003eMonth=%{x}\\u003cbr\\u003eNumber of Remote Job Postings=%{y}\\u003cextra\\u003e\\u003c\\u002fextra\\u003e\",\"legendgroup\":\"Panama\",\"line\":{\"color\":\"#19d3f3\",\"dash\":\"solid\"},\"marker\":{\"symbol\":\"circle\"},\"mode\":\"lines\",\"name\":\"Panama\",\"orientation\":\"v\",\"showlegend\":true,\"x\":[\"2024-02-29T00:00:00+00:00\",\"2024-03-31T00:00:00+00:00\"],\"xaxis\":\"x\",\"y\":[9,16],\"yaxis\":\"y\",\"type\":\"scatter\"},{\"hovertemplate\":\"country=Papua New Guinea\\u003cbr\\u003eMonth=%{x}\\u003cbr\\u003eNumber of Remote Job Postings=%{y}\\u003cextra\\u003e\\u003c\\u002fextra\\u003e\",\"legendgroup\":\"Papua New Guinea\",\"line\":{\"color\":\"#FF6692\",\"dash\":\"solid\"},\"marker\":{\"symbol\":\"circle\"},\"mode\":\"lines\",\"name\":\"Papua New Guinea\",\"orientation\":\"v\",\"showlegend\":true,\"x\":[\"2024-02-29T00:00:00+00:00\",\"2024-03-31T00:00:00+00:00\"],\"xaxis\":\"x\",\"y\":[1,3],\"yaxis\":\"y\",\"type\":\"scatter\"},{\"hovertemplate\":\"country=Paraguay\\u003cbr\\u003eMonth=%{x}\\u003cbr\\u003eNumber of Remote Job Postings=%{y}\\u003cextra\\u003e\\u003c\\u002fextra\\u003e\",\"legendgroup\":\"Paraguay\",\"line\":{\"color\":\"#B6E880\",\"dash\":\"solid\"},\"marker\":{\"symbol\":\"circle\"},\"mode\":\"lines\",\"name\":\"Paraguay\",\"orientation\":\"v\",\"showlegend\":true,\"x\":[\"2024-02-29T00:00:00+00:00\",\"2024-03-31T00:00:00+00:00\"],\"xaxis\":\"x\",\"y\":[3,6],\"yaxis\":\"y\",\"type\":\"scatter\"},{\"hovertemplate\":\"country=Peru\\u003cbr\\u003eMonth=%{x}\\u003cbr\\u003eNumber of Remote Job Postings=%{y}\\u003cextra\\u003e\\u003c\\u002fextra\\u003e\",\"legendgroup\":\"Peru\",\"line\":{\"color\":\"#FF97FF\",\"dash\":\"solid\"},\"marker\":{\"symbol\":\"circle\"},\"mode\":\"lines\",\"name\":\"Peru\",\"orientation\":\"v\",\"showlegend\":true,\"x\":[\"2024-02-29T00:00:00+00:00\",\"2024-03-31T00:00:00+00:00\"],\"xaxis\":\"x\",\"y\":[29,24],\"yaxis\":\"y\",\"type\":\"scatter\"},{\"hovertemplate\":\"country=Philippines\\u003cbr\\u003eMonth=%{x}\\u003cbr\\u003eNumber of Remote Job Postings=%{y}\\u003cextra\\u003e\\u003c\\u002fextra\\u003e\",\"legendgroup\":\"Philippines\",\"line\":{\"color\":\"#FECB52\",\"dash\":\"solid\"},\"marker\":{\"symbol\":\"circle\"},\"mode\":\"lines\",\"name\":\"Philippines\",\"orientation\":\"v\",\"showlegend\":true,\"x\":[\"2024-02-29T00:00:00+00:00\",\"2024-03-31T00:00:00+00:00\"],\"xaxis\":\"x\",\"y\":[186,324],\"yaxis\":\"y\",\"type\":\"scatter\"},{\"hovertemplate\":\"country=Poland\\u003cbr\\u003eMonth=%{x}\\u003cbr\\u003eNumber of Remote Job Postings=%{y}\\u003cextra\\u003e\\u003c\\u002fextra\\u003e\",\"legendgroup\":\"Poland\",\"line\":{\"color\":\"#636efa\",\"dash\":\"solid\"},\"marker\":{\"symbol\":\"circle\"},\"mode\":\"lines\",\"name\":\"Poland\",\"orientation\":\"v\",\"showlegend\":true,\"x\":[\"2024-02-29T00:00:00+00:00\",\"2024-03-31T00:00:00+00:00\"],\"xaxis\":\"x\",\"y\":[102,154],\"yaxis\":\"y\",\"type\":\"scatter\"},{\"hovertemplate\":\"country=Portugal\\u003cbr\\u003eMonth=%{x}\\u003cbr\\u003eNumber of Remote Job Postings=%{y}\\u003cextra\\u003e\\u003c\\u002fextra\\u003e\",\"legendgroup\":\"Portugal\",\"line\":{\"color\":\"#EF553B\",\"dash\":\"solid\"},\"marker\":{\"symbol\":\"circle\"},\"mode\":\"lines\",\"name\":\"Portugal\",\"orientation\":\"v\",\"showlegend\":true,\"x\":[\"2024-02-29T00:00:00+00:00\",\"2024-03-31T00:00:00+00:00\"],\"xaxis\":\"x\",\"y\":[81,124],\"yaxis\":\"y\",\"type\":\"scatter\"},{\"hovertemplate\":\"country=Puerto Rico\\u003cbr\\u003eMonth=%{x}\\u003cbr\\u003eNumber of Remote Job Postings=%{y}\\u003cextra\\u003e\\u003c\\u002fextra\\u003e\",\"legendgroup\":\"Puerto Rico\",\"line\":{\"color\":\"#00cc96\",\"dash\":\"solid\"},\"marker\":{\"symbol\":\"circle\"},\"mode\":\"lines\",\"name\":\"Puerto Rico\",\"orientation\":\"v\",\"showlegend\":true,\"x\":[\"2024-02-29T00:00:00+00:00\",\"2024-03-31T00:00:00+00:00\"],\"xaxis\":\"x\",\"y\":[17,38],\"yaxis\":\"y\",\"type\":\"scatter\"},{\"hovertemplate\":\"country=Qatar\\u003cbr\\u003eMonth=%{x}\\u003cbr\\u003eNumber of Remote Job Postings=%{y}\\u003cextra\\u003e\\u003c\\u002fextra\\u003e\",\"legendgroup\":\"Qatar\",\"line\":{\"color\":\"#ab63fa\",\"dash\":\"solid\"},\"marker\":{\"symbol\":\"circle\"},\"mode\":\"lines\",\"name\":\"Qatar\",\"orientation\":\"v\",\"showlegend\":true,\"x\":[\"2024-02-29T00:00:00+00:00\",\"2024-03-31T00:00:00+00:00\"],\"xaxis\":\"x\",\"y\":[30,48],\"yaxis\":\"y\",\"type\":\"scatter\"},{\"hovertemplate\":\"country=Reunion\\u003cbr\\u003eMonth=%{x}\\u003cbr\\u003eNumber of Remote Job Postings=%{y}\\u003cextra\\u003e\\u003c\\u002fextra\\u003e\",\"legendgroup\":\"Reunion\",\"line\":{\"color\":\"#FFA15A\",\"dash\":\"solid\"},\"marker\":{\"symbol\":\"circle\"},\"mode\":\"lines\",\"name\":\"Reunion\",\"orientation\":\"v\",\"showlegend\":true,\"x\":[\"2024-02-29T00:00:00+00:00\"],\"xaxis\":\"x\",\"y\":[1],\"yaxis\":\"y\",\"type\":\"scatter\"},{\"hovertemplate\":\"country=Romania\\u003cbr\\u003eMonth=%{x}\\u003cbr\\u003eNumber of Remote Job Postings=%{y}\\u003cextra\\u003e\\u003c\\u002fextra\\u003e\",\"legendgroup\":\"Romania\",\"line\":{\"color\":\"#19d3f3\",\"dash\":\"solid\"},\"marker\":{\"symbol\":\"circle\"},\"mode\":\"lines\",\"name\":\"Romania\",\"orientation\":\"v\",\"showlegend\":true,\"x\":[\"2024-02-29T00:00:00+00:00\",\"2024-03-31T00:00:00+00:00\"],\"xaxis\":\"x\",\"y\":[58,122],\"yaxis\":\"y\",\"type\":\"scatter\"},{\"hovertemplate\":\"country=Rwanda\\u003cbr\\u003eMonth=%{x}\\u003cbr\\u003eNumber of Remote Job Postings=%{y}\\u003cextra\\u003e\\u003c\\u002fextra\\u003e\",\"legendgroup\":\"Rwanda\",\"line\":{\"color\":\"#FF6692\",\"dash\":\"solid\"},\"marker\":{\"symbol\":\"circle\"},\"mode\":\"lines\",\"name\":\"Rwanda\",\"orientation\":\"v\",\"showlegend\":true,\"x\":[\"2024-02-29T00:00:00+00:00\",\"2024-03-31T00:00:00+00:00\"],\"xaxis\":\"x\",\"y\":[4,6],\"yaxis\":\"y\",\"type\":\"scatter\"},{\"hovertemplate\":\"country=Saint Lucia\\u003cbr\\u003eMonth=%{x}\\u003cbr\\u003eNumber of Remote Job Postings=%{y}\\u003cextra\\u003e\\u003c\\u002fextra\\u003e\",\"legendgroup\":\"Saint Lucia\",\"line\":{\"color\":\"#B6E880\",\"dash\":\"solid\"},\"marker\":{\"symbol\":\"circle\"},\"mode\":\"lines\",\"name\":\"Saint Lucia\",\"orientation\":\"v\",\"showlegend\":true,\"x\":[\"2024-02-29T00:00:00+00:00\",\"2024-03-31T00:00:00+00:00\"],\"xaxis\":\"x\",\"y\":[2,6],\"yaxis\":\"y\",\"type\":\"scatter\"},{\"hovertemplate\":\"country=Saudi Arabia\\u003cbr\\u003eMonth=%{x}\\u003cbr\\u003eNumber of Remote Job Postings=%{y}\\u003cextra\\u003e\\u003c\\u002fextra\\u003e\",\"legendgroup\":\"Saudi Arabia\",\"line\":{\"color\":\"#FF97FF\",\"dash\":\"solid\"},\"marker\":{\"symbol\":\"circle\"},\"mode\":\"lines\",\"name\":\"Saudi Arabia\",\"orientation\":\"v\",\"showlegend\":true,\"x\":[\"2024-02-29T00:00:00+00:00\",\"2024-03-31T00:00:00+00:00\"],\"xaxis\":\"x\",\"y\":[127,208],\"yaxis\":\"y\",\"type\":\"scatter\"},{\"hovertemplate\":\"country=Senegal\\u003cbr\\u003eMonth=%{x}\\u003cbr\\u003eNumber of Remote Job Postings=%{y}\\u003cextra\\u003e\\u003c\\u002fextra\\u003e\",\"legendgroup\":\"Senegal\",\"line\":{\"color\":\"#FECB52\",\"dash\":\"solid\"},\"marker\":{\"symbol\":\"circle\"},\"mode\":\"lines\",\"name\":\"Senegal\",\"orientation\":\"v\",\"showlegend\":true,\"x\":[\"2024-02-29T00:00:00+00:00\",\"2024-03-31T00:00:00+00:00\"],\"xaxis\":\"x\",\"y\":[4,1],\"yaxis\":\"y\",\"type\":\"scatter\"},{\"hovertemplate\":\"country=Serbia\\u003cbr\\u003eMonth=%{x}\\u003cbr\\u003eNumber of Remote Job Postings=%{y}\\u003cextra\\u003e\\u003c\\u002fextra\\u003e\",\"legendgroup\":\"Serbia\",\"line\":{\"color\":\"#636efa\",\"dash\":\"solid\"},\"marker\":{\"symbol\":\"circle\"},\"mode\":\"lines\",\"name\":\"Serbia\",\"orientation\":\"v\",\"showlegend\":true,\"x\":[\"2024-02-29T00:00:00+00:00\",\"2024-03-31T00:00:00+00:00\"],\"xaxis\":\"x\",\"y\":[30,51],\"yaxis\":\"y\",\"type\":\"scatter\"},{\"hovertemplate\":\"country=Seychelles\\u003cbr\\u003eMonth=%{x}\\u003cbr\\u003eNumber of Remote Job Postings=%{y}\\u003cextra\\u003e\\u003c\\u002fextra\\u003e\",\"legendgroup\":\"Seychelles\",\"line\":{\"color\":\"#EF553B\",\"dash\":\"solid\"},\"marker\":{\"symbol\":\"circle\"},\"mode\":\"lines\",\"name\":\"Seychelles\",\"orientation\":\"v\",\"showlegend\":true,\"x\":[\"2024-02-29T00:00:00+00:00\",\"2024-03-31T00:00:00+00:00\"],\"xaxis\":\"x\",\"y\":[3,4],\"yaxis\":\"y\",\"type\":\"scatter\"},{\"hovertemplate\":\"country=Sierra Leone\\u003cbr\\u003eMonth=%{x}\\u003cbr\\u003eNumber of Remote Job Postings=%{y}\\u003cextra\\u003e\\u003c\\u002fextra\\u003e\",\"legendgroup\":\"Sierra Leone\",\"line\":{\"color\":\"#00cc96\",\"dash\":\"solid\"},\"marker\":{\"symbol\":\"circle\"},\"mode\":\"lines\",\"name\":\"Sierra Leone\",\"orientation\":\"v\",\"showlegend\":true,\"x\":[\"2024-02-29T00:00:00+00:00\",\"2024-03-31T00:00:00+00:00\"],\"xaxis\":\"x\",\"y\":[1,1],\"yaxis\":\"y\",\"type\":\"scatter\"},{\"hovertemplate\":\"country=Slovakia\\u003cbr\\u003eMonth=%{x}\\u003cbr\\u003eNumber of Remote Job Postings=%{y}\\u003cextra\\u003e\\u003c\\u002fextra\\u003e\",\"legendgroup\":\"Slovakia\",\"line\":{\"color\":\"#ab63fa\",\"dash\":\"solid\"},\"marker\":{\"symbol\":\"circle\"},\"mode\":\"lines\",\"name\":\"Slovakia\",\"orientation\":\"v\",\"showlegend\":true,\"x\":[\"2024-02-29T00:00:00+00:00\",\"2024-03-31T00:00:00+00:00\"],\"xaxis\":\"x\",\"y\":[19,23],\"yaxis\":\"y\",\"type\":\"scatter\"},{\"hovertemplate\":\"country=Slovenia\\u003cbr\\u003eMonth=%{x}\\u003cbr\\u003eNumber of Remote Job Postings=%{y}\\u003cextra\\u003e\\u003c\\u002fextra\\u003e\",\"legendgroup\":\"Slovenia\",\"line\":{\"color\":\"#FFA15A\",\"dash\":\"solid\"},\"marker\":{\"symbol\":\"circle\"},\"mode\":\"lines\",\"name\":\"Slovenia\",\"orientation\":\"v\",\"showlegend\":true,\"x\":[\"2024-02-29T00:00:00+00:00\",\"2024-03-31T00:00:00+00:00\"],\"xaxis\":\"x\",\"y\":[27,30],\"yaxis\":\"y\",\"type\":\"scatter\"},{\"hovertemplate\":\"country=Somalia\\u003cbr\\u003eMonth=%{x}\\u003cbr\\u003eNumber of Remote Job Postings=%{y}\\u003cextra\\u003e\\u003c\\u002fextra\\u003e\",\"legendgroup\":\"Somalia\",\"line\":{\"color\":\"#19d3f3\",\"dash\":\"solid\"},\"marker\":{\"symbol\":\"circle\"},\"mode\":\"lines\",\"name\":\"Somalia\",\"orientation\":\"v\",\"showlegend\":true,\"x\":[\"2024-02-29T00:00:00+00:00\",\"2024-03-31T00:00:00+00:00\"],\"xaxis\":\"x\",\"y\":[4,4],\"yaxis\":\"y\",\"type\":\"scatter\"},{\"hovertemplate\":\"country=South Africa\\u003cbr\\u003eMonth=%{x}\\u003cbr\\u003eNumber of Remote Job Postings=%{y}\\u003cextra\\u003e\\u003c\\u002fextra\\u003e\",\"legendgroup\":\"South Africa\",\"line\":{\"color\":\"#FF6692\",\"dash\":\"solid\"},\"marker\":{\"symbol\":\"circle\"},\"mode\":\"lines\",\"name\":\"South Africa\",\"orientation\":\"v\",\"showlegend\":true,\"x\":[\"2024-02-29T00:00:00+00:00\",\"2024-03-31T00:00:00+00:00\"],\"xaxis\":\"x\",\"y\":[96,136],\"yaxis\":\"y\",\"type\":\"scatter\"},{\"hovertemplate\":\"country=South Korea\\u003cbr\\u003eMonth=%{x}\\u003cbr\\u003eNumber of Remote Job Postings=%{y}\\u003cextra\\u003e\\u003c\\u002fextra\\u003e\",\"legendgroup\":\"South Korea\",\"line\":{\"color\":\"#B6E880\",\"dash\":\"solid\"},\"marker\":{\"symbol\":\"circle\"},\"mode\":\"lines\",\"name\":\"South Korea\",\"orientation\":\"v\",\"showlegend\":true,\"x\":[\"2024-02-29T00:00:00+00:00\",\"2024-03-31T00:00:00+00:00\"],\"xaxis\":\"x\",\"y\":[75,118],\"yaxis\":\"y\",\"type\":\"scatter\"},{\"hovertemplate\":\"country=Spain\\u003cbr\\u003eMonth=%{x}\\u003cbr\\u003eNumber of Remote Job Postings=%{y}\\u003cextra\\u003e\\u003c\\u002fextra\\u003e\",\"legendgroup\":\"Spain\",\"line\":{\"color\":\"#FF97FF\",\"dash\":\"solid\"},\"marker\":{\"symbol\":\"circle\"},\"mode\":\"lines\",\"name\":\"Spain\",\"orientation\":\"v\",\"showlegend\":true,\"x\":[\"2024-02-29T00:00:00+00:00\",\"2024-03-31T00:00:00+00:00\"],\"xaxis\":\"x\",\"y\":[184,282],\"yaxis\":\"y\",\"type\":\"scatter\"},{\"hovertemplate\":\"country=Sri Lanka\\u003cbr\\u003eMonth=%{x}\\u003cbr\\u003eNumber of Remote Job Postings=%{y}\\u003cextra\\u003e\\u003c\\u002fextra\\u003e\",\"legendgroup\":\"Sri Lanka\",\"line\":{\"color\":\"#FECB52\",\"dash\":\"solid\"},\"marker\":{\"symbol\":\"circle\"},\"mode\":\"lines\",\"name\":\"Sri Lanka\",\"orientation\":\"v\",\"showlegend\":true,\"x\":[\"2024-02-29T00:00:00+00:00\",\"2024-03-31T00:00:00+00:00\"],\"xaxis\":\"x\",\"y\":[32,43],\"yaxis\":\"y\",\"type\":\"scatter\"},{\"hovertemplate\":\"country=Swaziland\\u003cbr\\u003eMonth=%{x}\\u003cbr\\u003eNumber of Remote Job Postings=%{y}\\u003cextra\\u003e\\u003c\\u002fextra\\u003e\",\"legendgroup\":\"Swaziland\",\"line\":{\"color\":\"#636efa\",\"dash\":\"solid\"},\"marker\":{\"symbol\":\"circle\"},\"mode\":\"lines\",\"name\":\"Swaziland\",\"orientation\":\"v\",\"showlegend\":true,\"x\":[\"2024-02-29T00:00:00+00:00\"],\"xaxis\":\"x\",\"y\":[1],\"yaxis\":\"y\",\"type\":\"scatter\"},{\"hovertemplate\":\"country=Sweden\\u003cbr\\u003eMonth=%{x}\\u003cbr\\u003eNumber of Remote Job Postings=%{y}\\u003cextra\\u003e\\u003c\\u002fextra\\u003e\",\"legendgroup\":\"Sweden\",\"line\":{\"color\":\"#EF553B\",\"dash\":\"solid\"},\"marker\":{\"symbol\":\"circle\"},\"mode\":\"lines\",\"name\":\"Sweden\",\"orientation\":\"v\",\"showlegend\":true,\"x\":[\"2024-02-29T00:00:00+00:00\",\"2024-03-31T00:00:00+00:00\"],\"xaxis\":\"x\",\"y\":[113,147],\"yaxis\":\"y\",\"type\":\"scatter\"},{\"hovertemplate\":\"country=Switzerland\\u003cbr\\u003eMonth=%{x}\\u003cbr\\u003eNumber of Remote Job Postings=%{y}\\u003cextra\\u003e\\u003c\\u002fextra\\u003e\",\"legendgroup\":\"Switzerland\",\"line\":{\"color\":\"#00cc96\",\"dash\":\"solid\"},\"marker\":{\"symbol\":\"circle\"},\"mode\":\"lines\",\"name\":\"Switzerland\",\"orientation\":\"v\",\"showlegend\":true,\"x\":[\"2024-02-29T00:00:00+00:00\",\"2024-03-31T00:00:00+00:00\"],\"xaxis\":\"x\",\"y\":[133,185],\"yaxis\":\"y\",\"type\":\"scatter\"},{\"hovertemplate\":\"country=Taiwan\\u003cbr\\u003eMonth=%{x}\\u003cbr\\u003eNumber of Remote Job Postings=%{y}\\u003cextra\\u003e\\u003c\\u002fextra\\u003e\",\"legendgroup\":\"Taiwan\",\"line\":{\"color\":\"#ab63fa\",\"dash\":\"solid\"},\"marker\":{\"symbol\":\"circle\"},\"mode\":\"lines\",\"name\":\"Taiwan\",\"orientation\":\"v\",\"showlegend\":true,\"x\":[\"2024-02-29T00:00:00+00:00\",\"2024-03-31T00:00:00+00:00\"],\"xaxis\":\"x\",\"y\":[5,20],\"yaxis\":\"y\",\"type\":\"scatter\"},{\"hovertemplate\":\"country=Tanzania\\u003cbr\\u003eMonth=%{x}\\u003cbr\\u003eNumber of Remote Job Postings=%{y}\\u003cextra\\u003e\\u003c\\u002fextra\\u003e\",\"legendgroup\":\"Tanzania\",\"line\":{\"color\":\"#FFA15A\",\"dash\":\"solid\"},\"marker\":{\"symbol\":\"circle\"},\"mode\":\"lines\",\"name\":\"Tanzania\",\"orientation\":\"v\",\"showlegend\":true,\"x\":[\"2024-02-29T00:00:00+00:00\",\"2024-03-31T00:00:00+00:00\"],\"xaxis\":\"x\",\"y\":[11,10],\"yaxis\":\"y\",\"type\":\"scatter\"},{\"hovertemplate\":\"country=Thailand\\u003cbr\\u003eMonth=%{x}\\u003cbr\\u003eNumber of Remote Job Postings=%{y}\\u003cextra\\u003e\\u003c\\u002fextra\\u003e\",\"legendgroup\":\"Thailand\",\"line\":{\"color\":\"#19d3f3\",\"dash\":\"solid\"},\"marker\":{\"symbol\":\"circle\"},\"mode\":\"lines\",\"name\":\"Thailand\",\"orientation\":\"v\",\"showlegend\":true,\"x\":[\"2024-02-29T00:00:00+00:00\",\"2024-03-31T00:00:00+00:00\"],\"xaxis\":\"x\",\"y\":[58,91],\"yaxis\":\"y\",\"type\":\"scatter\"},{\"hovertemplate\":\"country=Togo\\u003cbr\\u003eMonth=%{x}\\u003cbr\\u003eNumber of Remote Job Postings=%{y}\\u003cextra\\u003e\\u003c\\u002fextra\\u003e\",\"legendgroup\":\"Togo\",\"line\":{\"color\":\"#FF6692\",\"dash\":\"solid\"},\"marker\":{\"symbol\":\"circle\"},\"mode\":\"lines\",\"name\":\"Togo\",\"orientation\":\"v\",\"showlegend\":true,\"x\":[\"2024-02-29T00:00:00+00:00\",\"2024-03-31T00:00:00+00:00\"],\"xaxis\":\"x\",\"y\":[4,1],\"yaxis\":\"y\",\"type\":\"scatter\"},{\"hovertemplate\":\"country=Trinidad and Tobago\\u003cbr\\u003eMonth=%{x}\\u003cbr\\u003eNumber of Remote Job Postings=%{y}\\u003cextra\\u003e\\u003c\\u002fextra\\u003e\",\"legendgroup\":\"Trinidad and Tobago\",\"line\":{\"color\":\"#B6E880\",\"dash\":\"solid\"},\"marker\":{\"symbol\":\"circle\"},\"mode\":\"lines\",\"name\":\"Trinidad and Tobago\",\"orientation\":\"v\",\"showlegend\":true,\"x\":[\"2024-02-29T00:00:00+00:00\",\"2024-03-31T00:00:00+00:00\"],\"xaxis\":\"x\",\"y\":[5,17],\"yaxis\":\"y\",\"type\":\"scatter\"},{\"hovertemplate\":\"country=Tunisia\\u003cbr\\u003eMonth=%{x}\\u003cbr\\u003eNumber of Remote Job Postings=%{y}\\u003cextra\\u003e\\u003c\\u002fextra\\u003e\",\"legendgroup\":\"Tunisia\",\"line\":{\"color\":\"#FF97FF\",\"dash\":\"solid\"},\"marker\":{\"symbol\":\"circle\"},\"mode\":\"lines\",\"name\":\"Tunisia\",\"orientation\":\"v\",\"showlegend\":true,\"x\":[\"2024-02-29T00:00:00+00:00\",\"2024-03-31T00:00:00+00:00\"],\"xaxis\":\"x\",\"y\":[17,24],\"yaxis\":\"y\",\"type\":\"scatter\"},{\"hovertemplate\":\"country=Uganda\\u003cbr\\u003eMonth=%{x}\\u003cbr\\u003eNumber of Remote Job Postings=%{y}\\u003cextra\\u003e\\u003c\\u002fextra\\u003e\",\"legendgroup\":\"Uganda\",\"line\":{\"color\":\"#FECB52\",\"dash\":\"solid\"},\"marker\":{\"symbol\":\"circle\"},\"mode\":\"lines\",\"name\":\"Uganda\",\"orientation\":\"v\",\"showlegend\":true,\"x\":[\"2024-02-29T00:00:00+00:00\",\"2024-03-31T00:00:00+00:00\"],\"xaxis\":\"x\",\"y\":[35,30],\"yaxis\":\"y\",\"type\":\"scatter\"},{\"hovertemplate\":\"country=United Arab Emirates\\u003cbr\\u003eMonth=%{x}\\u003cbr\\u003eNumber of Remote Job Postings=%{y}\\u003cextra\\u003e\\u003c\\u002fextra\\u003e\",\"legendgroup\":\"United Arab Emirates\",\"line\":{\"color\":\"#636efa\",\"dash\":\"solid\"},\"marker\":{\"symbol\":\"circle\"},\"mode\":\"lines\",\"name\":\"United Arab Emirates\",\"orientation\":\"v\",\"showlegend\":true,\"x\":[\"2024-02-29T00:00:00+00:00\",\"2024-03-31T00:00:00+00:00\"],\"xaxis\":\"x\",\"y\":[409,605],\"yaxis\":\"y\",\"type\":\"scatter\"},{\"hovertemplate\":\"country=Uruguay\\u003cbr\\u003eMonth=%{x}\\u003cbr\\u003eNumber of Remote Job Postings=%{y}\\u003cextra\\u003e\\u003c\\u002fextra\\u003e\",\"legendgroup\":\"Uruguay\",\"line\":{\"color\":\"#EF553B\",\"dash\":\"solid\"},\"marker\":{\"symbol\":\"circle\"},\"mode\":\"lines\",\"name\":\"Uruguay\",\"orientation\":\"v\",\"showlegend\":true,\"x\":[\"2024-02-29T00:00:00+00:00\",\"2024-03-31T00:00:00+00:00\"],\"xaxis\":\"x\",\"y\":[12,17],\"yaxis\":\"y\",\"type\":\"scatter\"},{\"hovertemplate\":\"country=Uzbekistan\\u003cbr\\u003eMonth=%{x}\\u003cbr\\u003eNumber of Remote Job Postings=%{y}\\u003cextra\\u003e\\u003c\\u002fextra\\u003e\",\"legendgroup\":\"Uzbekistan\",\"line\":{\"color\":\"#00cc96\",\"dash\":\"solid\"},\"marker\":{\"symbol\":\"circle\"},\"mode\":\"lines\",\"name\":\"Uzbekistan\",\"orientation\":\"v\",\"showlegend\":true,\"x\":[\"2024-02-29T00:00:00+00:00\",\"2024-03-31T00:00:00+00:00\"],\"xaxis\":\"x\",\"y\":[18,15],\"yaxis\":\"y\",\"type\":\"scatter\"},{\"hovertemplate\":\"country=Venezuela\\u003cbr\\u003eMonth=%{x}\\u003cbr\\u003eNumber of Remote Job Postings=%{y}\\u003cextra\\u003e\\u003c\\u002fextra\\u003e\",\"legendgroup\":\"Venezuela\",\"line\":{\"color\":\"#ab63fa\",\"dash\":\"solid\"},\"marker\":{\"symbol\":\"circle\"},\"mode\":\"lines\",\"name\":\"Venezuela\",\"orientation\":\"v\",\"showlegend\":true,\"x\":[\"2024-02-29T00:00:00+00:00\",\"2024-03-31T00:00:00+00:00\"],\"xaxis\":\"x\",\"y\":[15,11],\"yaxis\":\"y\",\"type\":\"scatter\"},{\"hovertemplate\":\"country=Vietnam\\u003cbr\\u003eMonth=%{x}\\u003cbr\\u003eNumber of Remote Job Postings=%{y}\\u003cextra\\u003e\\u003c\\u002fextra\\u003e\",\"legendgroup\":\"Vietnam\",\"line\":{\"color\":\"#FFA15A\",\"dash\":\"solid\"},\"marker\":{\"symbol\":\"circle\"},\"mode\":\"lines\",\"name\":\"Vietnam\",\"orientation\":\"v\",\"showlegend\":true,\"x\":[\"2024-02-29T00:00:00+00:00\",\"2024-03-31T00:00:00+00:00\"],\"xaxis\":\"x\",\"y\":[78,97],\"yaxis\":\"y\",\"type\":\"scatter\"},{\"hovertemplate\":\"country=Yemen\\u003cbr\\u003eMonth=%{x}\\u003cbr\\u003eNumber of Remote Job Postings=%{y}\\u003cextra\\u003e\\u003c\\u002fextra\\u003e\",\"legendgroup\":\"Yemen\",\"line\":{\"color\":\"#19d3f3\",\"dash\":\"solid\"},\"marker\":{\"symbol\":\"circle\"},\"mode\":\"lines\",\"name\":\"Yemen\",\"orientation\":\"v\",\"showlegend\":true,\"x\":[\"2024-02-29T00:00:00+00:00\",\"2024-03-31T00:00:00+00:00\"],\"xaxis\":\"x\",\"y\":[1,1],\"yaxis\":\"y\",\"type\":\"scatter\"},{\"hovertemplate\":\"country=Zambia\\u003cbr\\u003eMonth=%{x}\\u003cbr\\u003eNumber of Remote Job Postings=%{y}\\u003cextra\\u003e\\u003c\\u002fextra\\u003e\",\"legendgroup\":\"Zambia\",\"line\":{\"color\":\"#FF6692\",\"dash\":\"solid\"},\"marker\":{\"symbol\":\"circle\"},\"mode\":\"lines\",\"name\":\"Zambia\",\"orientation\":\"v\",\"showlegend\":true,\"x\":[\"2024-02-29T00:00:00+00:00\",\"2024-03-31T00:00:00+00:00\"],\"xaxis\":\"x\",\"y\":[5,10],\"yaxis\":\"y\",\"type\":\"scatter\"},{\"hovertemplate\":\"country=Zimbabwe\\u003cbr\\u003eMonth=%{x}\\u003cbr\\u003eNumber of Remote Job Postings=%{y}\\u003cextra\\u003e\\u003c\\u002fextra\\u003e\",\"legendgroup\":\"Zimbabwe\",\"line\":{\"color\":\"#B6E880\",\"dash\":\"solid\"},\"marker\":{\"symbol\":\"circle\"},\"mode\":\"lines\",\"name\":\"Zimbabwe\",\"orientation\":\"v\",\"showlegend\":true,\"x\":[\"2024-02-29T00:00:00+00:00\",\"2024-03-31T00:00:00+00:00\"],\"xaxis\":\"x\",\"y\":[7,3],\"yaxis\":\"y\",\"type\":\"scatter\"},{\"hovertemplate\":\"country=Barbados\\u003cbr\\u003eMonth=%{x}\\u003cbr\\u003eNumber of Remote Job Postings=%{y}\\u003cextra\\u003e\\u003c\\u002fextra\\u003e\",\"legendgroup\":\"Barbados\",\"line\":{\"color\":\"#FF97FF\",\"dash\":\"solid\"},\"marker\":{\"symbol\":\"circle\"},\"mode\":\"lines\",\"name\":\"Barbados\",\"orientation\":\"v\",\"showlegend\":true,\"x\":[\"2024-03-31T00:00:00+00:00\"],\"xaxis\":\"x\",\"y\":[2],\"yaxis\":\"y\",\"type\":\"scatter\"},{\"hovertemplate\":\"country=British Virgin Islands\\u003cbr\\u003eMonth=%{x}\\u003cbr\\u003eNumber of Remote Job Postings=%{y}\\u003cextra\\u003e\\u003c\\u002fextra\\u003e\",\"legendgroup\":\"British Virgin Islands\",\"line\":{\"color\":\"#FECB52\",\"dash\":\"solid\"},\"marker\":{\"symbol\":\"circle\"},\"mode\":\"lines\",\"name\":\"British Virgin Islands\",\"orientation\":\"v\",\"showlegend\":true,\"x\":[\"2024-03-31T00:00:00+00:00\"],\"xaxis\":\"x\",\"y\":[4],\"yaxis\":\"y\",\"type\":\"scatter\"},{\"hovertemplate\":\"country=Cocos (Keeling) Islands\\u003cbr\\u003eMonth=%{x}\\u003cbr\\u003eNumber of Remote Job Postings=%{y}\\u003cextra\\u003e\\u003c\\u002fextra\\u003e\",\"legendgroup\":\"Cocos (Keeling) Islands\",\"line\":{\"color\":\"#636efa\",\"dash\":\"solid\"},\"marker\":{\"symbol\":\"circle\"},\"mode\":\"lines\",\"name\":\"Cocos (Keeling) Islands\",\"orientation\":\"v\",\"showlegend\":true,\"x\":[\"2024-03-31T00:00:00+00:00\"],\"xaxis\":\"x\",\"y\":[1],\"yaxis\":\"y\",\"type\":\"scatter\"},{\"hovertemplate\":\"country=Congo\\u003cbr\\u003eMonth=%{x}\\u003cbr\\u003eNumber of Remote Job Postings=%{y}\\u003cextra\\u003e\\u003c\\u002fextra\\u003e\",\"legendgroup\":\"Congo\",\"line\":{\"color\":\"#EF553B\",\"dash\":\"solid\"},\"marker\":{\"symbol\":\"circle\"},\"mode\":\"lines\",\"name\":\"Congo\",\"orientation\":\"v\",\"showlegend\":true,\"x\":[\"2024-03-31T00:00:00+00:00\"],\"xaxis\":\"x\",\"y\":[1],\"yaxis\":\"y\",\"type\":\"scatter\"},{\"hovertemplate\":\"country=Congo, the Democratic Republic of the\\u003cbr\\u003eMonth=%{x}\\u003cbr\\u003eNumber of Remote Job Postings=%{y}\\u003cextra\\u003e\\u003c\\u002fextra\\u003e\",\"legendgroup\":\"Congo, the Democratic Republic of the\",\"line\":{\"color\":\"#00cc96\",\"dash\":\"solid\"},\"marker\":{\"symbol\":\"circle\"},\"mode\":\"lines\",\"name\":\"Congo, the Democratic Republic of the\",\"orientation\":\"v\",\"showlegend\":true,\"x\":[\"2024-03-31T00:00:00+00:00\"],\"xaxis\":\"x\",\"y\":[4],\"yaxis\":\"y\",\"type\":\"scatter\"},{\"hovertemplate\":\"country=Curacao\\u003cbr\\u003eMonth=%{x}\\u003cbr\\u003eNumber of Remote Job Postings=%{y}\\u003cextra\\u003e\\u003c\\u002fextra\\u003e\",\"legendgroup\":\"Curacao\",\"line\":{\"color\":\"#ab63fa\",\"dash\":\"solid\"},\"marker\":{\"symbol\":\"circle\"},\"mode\":\"lines\",\"name\":\"Curacao\",\"orientation\":\"v\",\"showlegend\":true,\"x\":[\"2024-03-31T00:00:00+00:00\"],\"xaxis\":\"x\",\"y\":[3],\"yaxis\":\"y\",\"type\":\"scatter\"},{\"hovertemplate\":\"country=Eritrea\\u003cbr\\u003eMonth=%{x}\\u003cbr\\u003eNumber of Remote Job Postings=%{y}\\u003cextra\\u003e\\u003c\\u002fextra\\u003e\",\"legendgroup\":\"Eritrea\",\"line\":{\"color\":\"#FFA15A\",\"dash\":\"solid\"},\"marker\":{\"symbol\":\"circle\"},\"mode\":\"lines\",\"name\":\"Eritrea\",\"orientation\":\"v\",\"showlegend\":true,\"x\":[\"2024-03-31T00:00:00+00:00\"],\"xaxis\":\"x\",\"y\":[1],\"yaxis\":\"y\",\"type\":\"scatter\"},{\"hovertemplate\":\"country=Faroe Islands\\u003cbr\\u003eMonth=%{x}\\u003cbr\\u003eNumber of Remote Job Postings=%{y}\\u003cextra\\u003e\\u003c\\u002fextra\\u003e\",\"legendgroup\":\"Faroe Islands\",\"line\":{\"color\":\"#19d3f3\",\"dash\":\"solid\"},\"marker\":{\"symbol\":\"circle\"},\"mode\":\"lines\",\"name\":\"Faroe Islands\",\"orientation\":\"v\",\"showlegend\":true,\"x\":[\"2024-03-31T00:00:00+00:00\"],\"xaxis\":\"x\",\"y\":[1],\"yaxis\":\"y\",\"type\":\"scatter\"},{\"hovertemplate\":\"country=Fiji\\u003cbr\\u003eMonth=%{x}\\u003cbr\\u003eNumber of Remote Job Postings=%{y}\\u003cextra\\u003e\\u003c\\u002fextra\\u003e\",\"legendgroup\":\"Fiji\",\"line\":{\"color\":\"#FF6692\",\"dash\":\"solid\"},\"marker\":{\"symbol\":\"circle\"},\"mode\":\"lines\",\"name\":\"Fiji\",\"orientation\":\"v\",\"showlegend\":true,\"x\":[\"2024-03-31T00:00:00+00:00\"],\"xaxis\":\"x\",\"y\":[1],\"yaxis\":\"y\",\"type\":\"scatter\"},{\"hovertemplate\":\"country=French Guiana\\u003cbr\\u003eMonth=%{x}\\u003cbr\\u003eNumber of Remote Job Postings=%{y}\\u003cextra\\u003e\\u003c\\u002fextra\\u003e\",\"legendgroup\":\"French Guiana\",\"line\":{\"color\":\"#B6E880\",\"dash\":\"solid\"},\"marker\":{\"symbol\":\"circle\"},\"mode\":\"lines\",\"name\":\"French Guiana\",\"orientation\":\"v\",\"showlegend\":true,\"x\":[\"2024-03-31T00:00:00+00:00\"],\"xaxis\":\"x\",\"y\":[1],\"yaxis\":\"y\",\"type\":\"scatter\"},{\"hovertemplate\":\"country=Gambia\\u003cbr\\u003eMonth=%{x}\\u003cbr\\u003eNumber of Remote Job Postings=%{y}\\u003cextra\\u003e\\u003c\\u002fextra\\u003e\",\"legendgroup\":\"Gambia\",\"line\":{\"color\":\"#FF97FF\",\"dash\":\"solid\"},\"marker\":{\"symbol\":\"circle\"},\"mode\":\"lines\",\"name\":\"Gambia\",\"orientation\":\"v\",\"showlegend\":true,\"x\":[\"2024-03-31T00:00:00+00:00\"],\"xaxis\":\"x\",\"y\":[2],\"yaxis\":\"y\",\"type\":\"scatter\"},{\"hovertemplate\":\"country=Grenada\\u003cbr\\u003eMonth=%{x}\\u003cbr\\u003eNumber of Remote Job Postings=%{y}\\u003cextra\\u003e\\u003c\\u002fextra\\u003e\",\"legendgroup\":\"Grenada\",\"line\":{\"color\":\"#FECB52\",\"dash\":\"solid\"},\"marker\":{\"symbol\":\"circle\"},\"mode\":\"lines\",\"name\":\"Grenada\",\"orientation\":\"v\",\"showlegend\":true,\"x\":[\"2024-03-31T00:00:00+00:00\"],\"xaxis\":\"x\",\"y\":[5],\"yaxis\":\"y\",\"type\":\"scatter\"},{\"hovertemplate\":\"country=Guyana\\u003cbr\\u003eMonth=%{x}\\u003cbr\\u003eNumber of Remote Job Postings=%{y}\\u003cextra\\u003e\\u003c\\u002fextra\\u003e\",\"legendgroup\":\"Guyana\",\"line\":{\"color\":\"#636efa\",\"dash\":\"solid\"},\"marker\":{\"symbol\":\"circle\"},\"mode\":\"lines\",\"name\":\"Guyana\",\"orientation\":\"v\",\"showlegend\":true,\"x\":[\"2024-03-31T00:00:00+00:00\"],\"xaxis\":\"x\",\"y\":[1],\"yaxis\":\"y\",\"type\":\"scatter\"},{\"hovertemplate\":\"country=Liechtenstein\\u003cbr\\u003eMonth=%{x}\\u003cbr\\u003eNumber of Remote Job Postings=%{y}\\u003cextra\\u003e\\u003c\\u002fextra\\u003e\",\"legendgroup\":\"Liechtenstein\",\"line\":{\"color\":\"#EF553B\",\"dash\":\"solid\"},\"marker\":{\"symbol\":\"circle\"},\"mode\":\"lines\",\"name\":\"Liechtenstein\",\"orientation\":\"v\",\"showlegend\":true,\"x\":[\"2024-03-31T00:00:00+00:00\"],\"xaxis\":\"x\",\"y\":[1],\"yaxis\":\"y\",\"type\":\"scatter\"},{\"hovertemplate\":\"country=Macao\\u003cbr\\u003eMonth=%{x}\\u003cbr\\u003eNumber of Remote Job Postings=%{y}\\u003cextra\\u003e\\u003c\\u002fextra\\u003e\",\"legendgroup\":\"Macao\",\"line\":{\"color\":\"#00cc96\",\"dash\":\"solid\"},\"marker\":{\"symbol\":\"circle\"},\"mode\":\"lines\",\"name\":\"Macao\",\"orientation\":\"v\",\"showlegend\":true,\"x\":[\"2024-03-31T00:00:00+00:00\"],\"xaxis\":\"x\",\"y\":[1],\"yaxis\":\"y\",\"type\":\"scatter\"},{\"hovertemplate\":\"country=Madagascar\\u003cbr\\u003eMonth=%{x}\\u003cbr\\u003eNumber of Remote Job Postings=%{y}\\u003cextra\\u003e\\u003c\\u002fextra\\u003e\",\"legendgroup\":\"Madagascar\",\"line\":{\"color\":\"#ab63fa\",\"dash\":\"solid\"},\"marker\":{\"symbol\":\"circle\"},\"mode\":\"lines\",\"name\":\"Madagascar\",\"orientation\":\"v\",\"showlegend\":true,\"x\":[\"2024-03-31T00:00:00+00:00\"],\"xaxis\":\"x\",\"y\":[3],\"yaxis\":\"y\",\"type\":\"scatter\"},{\"hovertemplate\":\"country=Mali\\u003cbr\\u003eMonth=%{x}\\u003cbr\\u003eNumber of Remote Job Postings=%{y}\\u003cextra\\u003e\\u003c\\u002fextra\\u003e\",\"legendgroup\":\"Mali\",\"line\":{\"color\":\"#FFA15A\",\"dash\":\"solid\"},\"marker\":{\"symbol\":\"circle\"},\"mode\":\"lines\",\"name\":\"Mali\",\"orientation\":\"v\",\"showlegend\":true,\"x\":[\"2024-03-31T00:00:00+00:00\"],\"xaxis\":\"x\",\"y\":[1],\"yaxis\":\"y\",\"type\":\"scatter\"},{\"hovertemplate\":\"country=Mozambique\\u003cbr\\u003eMonth=%{x}\\u003cbr\\u003eNumber of Remote Job Postings=%{y}\\u003cextra\\u003e\\u003c\\u002fextra\\u003e\",\"legendgroup\":\"Mozambique\",\"line\":{\"color\":\"#19d3f3\",\"dash\":\"solid\"},\"marker\":{\"symbol\":\"circle\"},\"mode\":\"lines\",\"name\":\"Mozambique\",\"orientation\":\"v\",\"showlegend\":true,\"x\":[\"2024-03-31T00:00:00+00:00\"],\"xaxis\":\"x\",\"y\":[4],\"yaxis\":\"y\",\"type\":\"scatter\"},{\"hovertemplate\":\"country=Namibia\\u003cbr\\u003eMonth=%{x}\\u003cbr\\u003eNumber of Remote Job Postings=%{y}\\u003cextra\\u003e\\u003c\\u002fextra\\u003e\",\"legendgroup\":\"Namibia\",\"line\":{\"color\":\"#FF6692\",\"dash\":\"solid\"},\"marker\":{\"symbol\":\"circle\"},\"mode\":\"lines\",\"name\":\"Namibia\",\"orientation\":\"v\",\"showlegend\":true,\"x\":[\"2024-03-31T00:00:00+00:00\"],\"xaxis\":\"x\",\"y\":[1],\"yaxis\":\"y\",\"type\":\"scatter\"},{\"hovertemplate\":\"country=Niger\\u003cbr\\u003eMonth=%{x}\\u003cbr\\u003eNumber of Remote Job Postings=%{y}\\u003cextra\\u003e\\u003c\\u002fextra\\u003e\",\"legendgroup\":\"Niger\",\"line\":{\"color\":\"#B6E880\",\"dash\":\"solid\"},\"marker\":{\"symbol\":\"circle\"},\"mode\":\"lines\",\"name\":\"Niger\",\"orientation\":\"v\",\"showlegend\":true,\"x\":[\"2024-03-31T00:00:00+00:00\"],\"xaxis\":\"x\",\"y\":[1],\"yaxis\":\"y\",\"type\":\"scatter\"},{\"hovertemplate\":\"country=Russia\\u003cbr\\u003eMonth=%{x}\\u003cbr\\u003eNumber of Remote Job Postings=%{y}\\u003cextra\\u003e\\u003c\\u002fextra\\u003e\",\"legendgroup\":\"Russia\",\"line\":{\"color\":\"#FF97FF\",\"dash\":\"solid\"},\"marker\":{\"symbol\":\"circle\"},\"mode\":\"lines\",\"name\":\"Russia\",\"orientation\":\"v\",\"showlegend\":true,\"x\":[\"2024-03-31T00:00:00+00:00\"],\"xaxis\":\"x\",\"y\":[3],\"yaxis\":\"y\",\"type\":\"scatter\"},{\"hovertemplate\":\"country=Sint Maarten (Dutch part)\\u003cbr\\u003eMonth=%{x}\\u003cbr\\u003eNumber of Remote Job Postings=%{y}\\u003cextra\\u003e\\u003c\\u002fextra\\u003e\",\"legendgroup\":\"Sint Maarten (Dutch part)\",\"line\":{\"color\":\"#FECB52\",\"dash\":\"solid\"},\"marker\":{\"symbol\":\"circle\"},\"mode\":\"lines\",\"name\":\"Sint Maarten (Dutch part)\",\"orientation\":\"v\",\"showlegend\":true,\"x\":[\"2024-03-31T00:00:00+00:00\"],\"xaxis\":\"x\",\"y\":[2],\"yaxis\":\"y\",\"type\":\"scatter\"},{\"hovertemplate\":\"country=Tajikistan\\u003cbr\\u003eMonth=%{x}\\u003cbr\\u003eNumber of Remote Job Postings=%{y}\\u003cextra\\u003e\\u003c\\u002fextra\\u003e\",\"legendgroup\":\"Tajikistan\",\"line\":{\"color\":\"#636efa\",\"dash\":\"solid\"},\"marker\":{\"symbol\":\"circle\"},\"mode\":\"lines\",\"name\":\"Tajikistan\",\"orientation\":\"v\",\"showlegend\":true,\"x\":[\"2024-03-31T00:00:00+00:00\"],\"xaxis\":\"x\",\"y\":[4],\"yaxis\":\"y\",\"type\":\"scatter\"},{\"hovertemplate\":\"country=Turkmenistan\\u003cbr\\u003eMonth=%{x}\\u003cbr\\u003eNumber of Remote Job Postings=%{y}\\u003cextra\\u003e\\u003c\\u002fextra\\u003e\",\"legendgroup\":\"Turkmenistan\",\"line\":{\"color\":\"#EF553B\",\"dash\":\"solid\"},\"marker\":{\"symbol\":\"circle\"},\"mode\":\"lines\",\"name\":\"Turkmenistan\",\"orientation\":\"v\",\"showlegend\":true,\"x\":[\"2024-03-31T00:00:00+00:00\"],\"xaxis\":\"x\",\"y\":[4],\"yaxis\":\"y\",\"type\":\"scatter\"},{\"hovertemplate\":\"country=Turks and Caicos Islands\\u003cbr\\u003eMonth=%{x}\\u003cbr\\u003eNumber of Remote Job Postings=%{y}\\u003cextra\\u003e\\u003c\\u002fextra\\u003e\",\"legendgroup\":\"Turks and Caicos Islands\",\"line\":{\"color\":\"#00cc96\",\"dash\":\"solid\"},\"marker\":{\"symbol\":\"circle\"},\"mode\":\"lines\",\"name\":\"Turks and Caicos Islands\",\"orientation\":\"v\",\"showlegend\":true,\"x\":[\"2024-03-31T00:00:00+00:00\"],\"xaxis\":\"x\",\"y\":[1],\"yaxis\":\"y\",\"type\":\"scatter\"},{\"hovertemplate\":\"country=United States Virgin Islands\\u003cbr\\u003eMonth=%{x}\\u003cbr\\u003eNumber of Remote Job Postings=%{y}\\u003cextra\\u003e\\u003c\\u002fextra\\u003e\",\"legendgroup\":\"United States Virgin Islands\",\"line\":{\"color\":\"#ab63fa\",\"dash\":\"solid\"},\"marker\":{\"symbol\":\"circle\"},\"mode\":\"lines\",\"name\":\"United States Virgin Islands\",\"orientation\":\"v\",\"showlegend\":true,\"x\":[\"2024-03-31T00:00:00+00:00\"],\"xaxis\":\"x\",\"y\":[2],\"yaxis\":\"y\",\"type\":\"scatter\"}],                        {\"template\":{\"data\":{\"histogram2dcontour\":[{\"type\":\"histogram2dcontour\",\"colorbar\":{\"outlinewidth\":0,\"ticks\":\"\"},\"colorscale\":[[0.0,\"#0d0887\"],[0.1111111111111111,\"#46039f\"],[0.2222222222222222,\"#7201a8\"],[0.3333333333333333,\"#9c179e\"],[0.4444444444444444,\"#bd3786\"],[0.5555555555555556,\"#d8576b\"],[0.6666666666666666,\"#ed7953\"],[0.7777777777777778,\"#fb9f3a\"],[0.8888888888888888,\"#fdca26\"],[1.0,\"#f0f921\"]]}],\"choropleth\":[{\"type\":\"choropleth\",\"colorbar\":{\"outlinewidth\":0,\"ticks\":\"\"}}],\"histogram2d\":[{\"type\":\"histogram2d\",\"colorbar\":{\"outlinewidth\":0,\"ticks\":\"\"},\"colorscale\":[[0.0,\"#0d0887\"],[0.1111111111111111,\"#46039f\"],[0.2222222222222222,\"#7201a8\"],[0.3333333333333333,\"#9c179e\"],[0.4444444444444444,\"#bd3786\"],[0.5555555555555556,\"#d8576b\"],[0.6666666666666666,\"#ed7953\"],[0.7777777777777778,\"#fb9f3a\"],[0.8888888888888888,\"#fdca26\"],[1.0,\"#f0f921\"]]}],\"heatmap\":[{\"type\":\"heatmap\",\"colorbar\":{\"outlinewidth\":0,\"ticks\":\"\"},\"colorscale\":[[0.0,\"#0d0887\"],[0.1111111111111111,\"#46039f\"],[0.2222222222222222,\"#7201a8\"],[0.3333333333333333,\"#9c179e\"],[0.4444444444444444,\"#bd3786\"],[0.5555555555555556,\"#d8576b\"],[0.6666666666666666,\"#ed7953\"],[0.7777777777777778,\"#fb9f3a\"],[0.8888888888888888,\"#fdca26\"],[1.0,\"#f0f921\"]]}],\"heatmapgl\":[{\"type\":\"heatmapgl\",\"colorbar\":{\"outlinewidth\":0,\"ticks\":\"\"},\"colorscale\":[[0.0,\"#0d0887\"],[0.1111111111111111,\"#46039f\"],[0.2222222222222222,\"#7201a8\"],[0.3333333333333333,\"#9c179e\"],[0.4444444444444444,\"#bd3786\"],[0.5555555555555556,\"#d8576b\"],[0.6666666666666666,\"#ed7953\"],[0.7777777777777778,\"#fb9f3a\"],[0.8888888888888888,\"#fdca26\"],[1.0,\"#f0f921\"]]}],\"contourcarpet\":[{\"type\":\"contourcarpet\",\"colorbar\":{\"outlinewidth\":0,\"ticks\":\"\"}}],\"contour\":[{\"type\":\"contour\",\"colorbar\":{\"outlinewidth\":0,\"ticks\":\"\"},\"colorscale\":[[0.0,\"#0d0887\"],[0.1111111111111111,\"#46039f\"],[0.2222222222222222,\"#7201a8\"],[0.3333333333333333,\"#9c179e\"],[0.4444444444444444,\"#bd3786\"],[0.5555555555555556,\"#d8576b\"],[0.6666666666666666,\"#ed7953\"],[0.7777777777777778,\"#fb9f3a\"],[0.8888888888888888,\"#fdca26\"],[1.0,\"#f0f921\"]]}],\"surface\":[{\"type\":\"surface\",\"colorbar\":{\"outlinewidth\":0,\"ticks\":\"\"},\"colorscale\":[[0.0,\"#0d0887\"],[0.1111111111111111,\"#46039f\"],[0.2222222222222222,\"#7201a8\"],[0.3333333333333333,\"#9c179e\"],[0.4444444444444444,\"#bd3786\"],[0.5555555555555556,\"#d8576b\"],[0.6666666666666666,\"#ed7953\"],[0.7777777777777778,\"#fb9f3a\"],[0.8888888888888888,\"#fdca26\"],[1.0,\"#f0f921\"]]}],\"mesh3d\":[{\"type\":\"mesh3d\",\"colorbar\":{\"outlinewidth\":0,\"ticks\":\"\"}}],\"scatter\":[{\"fillpattern\":{\"fillmode\":\"overlay\",\"size\":10,\"solidity\":0.2},\"type\":\"scatter\"}],\"parcoords\":[{\"type\":\"parcoords\",\"line\":{\"colorbar\":{\"outlinewidth\":0,\"ticks\":\"\"}}}],\"scatterpolargl\":[{\"type\":\"scatterpolargl\",\"marker\":{\"colorbar\":{\"outlinewidth\":0,\"ticks\":\"\"}}}],\"bar\":[{\"error_x\":{\"color\":\"#2a3f5f\"},\"error_y\":{\"color\":\"#2a3f5f\"},\"marker\":{\"line\":{\"color\":\"#E5ECF6\",\"width\":0.5},\"pattern\":{\"fillmode\":\"overlay\",\"size\":10,\"solidity\":0.2}},\"type\":\"bar\"}],\"scattergeo\":[{\"type\":\"scattergeo\",\"marker\":{\"colorbar\":{\"outlinewidth\":0,\"ticks\":\"\"}}}],\"scatterpolar\":[{\"type\":\"scatterpolar\",\"marker\":{\"colorbar\":{\"outlinewidth\":0,\"ticks\":\"\"}}}],\"histogram\":[{\"marker\":{\"pattern\":{\"fillmode\":\"overlay\",\"size\":10,\"solidity\":0.2}},\"type\":\"histogram\"}],\"scattergl\":[{\"type\":\"scattergl\",\"marker\":{\"colorbar\":{\"outlinewidth\":0,\"ticks\":\"\"}}}],\"scatter3d\":[{\"type\":\"scatter3d\",\"line\":{\"colorbar\":{\"outlinewidth\":0,\"ticks\":\"\"}},\"marker\":{\"colorbar\":{\"outlinewidth\":0,\"ticks\":\"\"}}}],\"scattermapbox\":[{\"type\":\"scattermapbox\",\"marker\":{\"colorbar\":{\"outlinewidth\":0,\"ticks\":\"\"}}}],\"scatterternary\":[{\"type\":\"scatterternary\",\"marker\":{\"colorbar\":{\"outlinewidth\":0,\"ticks\":\"\"}}}],\"scattercarpet\":[{\"type\":\"scattercarpet\",\"marker\":{\"colorbar\":{\"outlinewidth\":0,\"ticks\":\"\"}}}],\"carpet\":[{\"aaxis\":{\"endlinecolor\":\"#2a3f5f\",\"gridcolor\":\"white\",\"linecolor\":\"white\",\"minorgridcolor\":\"white\",\"startlinecolor\":\"#2a3f5f\"},\"baxis\":{\"endlinecolor\":\"#2a3f5f\",\"gridcolor\":\"white\",\"linecolor\":\"white\",\"minorgridcolor\":\"white\",\"startlinecolor\":\"#2a3f5f\"},\"type\":\"carpet\"}],\"table\":[{\"cells\":{\"fill\":{\"color\":\"#EBF0F8\"},\"line\":{\"color\":\"white\"}},\"header\":{\"fill\":{\"color\":\"#C8D4E3\"},\"line\":{\"color\":\"white\"}},\"type\":\"table\"}],\"barpolar\":[{\"marker\":{\"line\":{\"color\":\"#E5ECF6\",\"width\":0.5},\"pattern\":{\"fillmode\":\"overlay\",\"size\":10,\"solidity\":0.2}},\"type\":\"barpolar\"}],\"pie\":[{\"automargin\":true,\"type\":\"pie\"}]},\"layout\":{\"autotypenumbers\":\"strict\",\"colorway\":[\"#636efa\",\"#EF553B\",\"#00cc96\",\"#ab63fa\",\"#FFA15A\",\"#19d3f3\",\"#FF6692\",\"#B6E880\",\"#FF97FF\",\"#FECB52\"],\"font\":{\"color\":\"#2a3f5f\"},\"hovermode\":\"closest\",\"hoverlabel\":{\"align\":\"left\"},\"paper_bgcolor\":\"white\",\"plot_bgcolor\":\"#E5ECF6\",\"polar\":{\"bgcolor\":\"#E5ECF6\",\"angularaxis\":{\"gridcolor\":\"white\",\"linecolor\":\"white\",\"ticks\":\"\"},\"radialaxis\":{\"gridcolor\":\"white\",\"linecolor\":\"white\",\"ticks\":\"\"}},\"ternary\":{\"bgcolor\":\"#E5ECF6\",\"aaxis\":{\"gridcolor\":\"white\",\"linecolor\":\"white\",\"ticks\":\"\"},\"baxis\":{\"gridcolor\":\"white\",\"linecolor\":\"white\",\"ticks\":\"\"},\"caxis\":{\"gridcolor\":\"white\",\"linecolor\":\"white\",\"ticks\":\"\"}},\"coloraxis\":{\"colorbar\":{\"outlinewidth\":0,\"ticks\":\"\"}},\"colorscale\":{\"sequential\":[[0.0,\"#0d0887\"],[0.1111111111111111,\"#46039f\"],[0.2222222222222222,\"#7201a8\"],[0.3333333333333333,\"#9c179e\"],[0.4444444444444444,\"#bd3786\"],[0.5555555555555556,\"#d8576b\"],[0.6666666666666666,\"#ed7953\"],[0.7777777777777778,\"#fb9f3a\"],[0.8888888888888888,\"#fdca26\"],[1.0,\"#f0f921\"]],\"sequentialminus\":[[0.0,\"#0d0887\"],[0.1111111111111111,\"#46039f\"],[0.2222222222222222,\"#7201a8\"],[0.3333333333333333,\"#9c179e\"],[0.4444444444444444,\"#bd3786\"],[0.5555555555555556,\"#d8576b\"],[0.6666666666666666,\"#ed7953\"],[0.7777777777777778,\"#fb9f3a\"],[0.8888888888888888,\"#fdca26\"],[1.0,\"#f0f921\"]],\"diverging\":[[0,\"#8e0152\"],[0.1,\"#c51b7d\"],[0.2,\"#de77ae\"],[0.3,\"#f1b6da\"],[0.4,\"#fde0ef\"],[0.5,\"#f7f7f7\"],[0.6,\"#e6f5d0\"],[0.7,\"#b8e186\"],[0.8,\"#7fbc41\"],[0.9,\"#4d9221\"],[1,\"#276419\"]]},\"xaxis\":{\"gridcolor\":\"white\",\"linecolor\":\"white\",\"ticks\":\"\",\"title\":{\"standoff\":15},\"zerolinecolor\":\"white\",\"automargin\":true,\"zerolinewidth\":2},\"yaxis\":{\"gridcolor\":\"white\",\"linecolor\":\"white\",\"ticks\":\"\",\"title\":{\"standoff\":15},\"zerolinecolor\":\"white\",\"automargin\":true,\"zerolinewidth\":2},\"scene\":{\"xaxis\":{\"backgroundcolor\":\"#E5ECF6\",\"gridcolor\":\"white\",\"linecolor\":\"white\",\"showbackground\":true,\"ticks\":\"\",\"zerolinecolor\":\"white\",\"gridwidth\":2},\"yaxis\":{\"backgroundcolor\":\"#E5ECF6\",\"gridcolor\":\"white\",\"linecolor\":\"white\",\"showbackground\":true,\"ticks\":\"\",\"zerolinecolor\":\"white\",\"gridwidth\":2},\"zaxis\":{\"backgroundcolor\":\"#E5ECF6\",\"gridcolor\":\"white\",\"linecolor\":\"white\",\"showbackground\":true,\"ticks\":\"\",\"zerolinecolor\":\"white\",\"gridwidth\":2}},\"shapedefaults\":{\"line\":{\"color\":\"#2a3f5f\"}},\"annotationdefaults\":{\"arrowcolor\":\"#2a3f5f\",\"arrowhead\":0,\"arrowwidth\":1},\"geo\":{\"bgcolor\":\"white\",\"landcolor\":\"#E5ECF6\",\"subunitcolor\":\"white\",\"showland\":true,\"showlakes\":true,\"lakecolor\":\"white\"},\"title\":{\"x\":0.05},\"mapbox\":{\"style\":\"light\"}}},\"xaxis\":{\"anchor\":\"y\",\"domain\":[0.0,1.0],\"title\":{\"text\":\"Month\"}},\"yaxis\":{\"anchor\":\"x\",\"domain\":[0.0,1.0],\"title\":{\"text\":\"Number of Remote Job Postings\"}},\"legend\":{\"title\":{\"text\":\"country\"},\"tracegroupgap\":0},\"title\":{\"text\":\"Trends in Remote Work Over Time\"}},                        {\"responsive\": true}                    ).then(function(){\n",
              "                            \n",
              "var gd = document.getElementById('0c2df024-c290-404f-bb22-3a686d7ea693');\n",
              "var x = new MutationObserver(function (mutations, observer) {{\n",
              "        var display = window.getComputedStyle(gd).display;\n",
              "        if (!display || display === 'none') {{\n",
              "            console.log([gd, 'removed!']);\n",
              "            Plotly.purge(gd);\n",
              "            observer.disconnect();\n",
              "        }}\n",
              "}});\n",
              "\n",
              "// Listen for the removal of the full notebook cells\n",
              "var notebookContainer = gd.closest('#notebook-container');\n",
              "if (notebookContainer) {{\n",
              "    x.observe(notebookContainer, {childList: true});\n",
              "}}\n",
              "\n",
              "// Listen for the clearing of the current output cell\n",
              "var outputEl = gd.closest('.output');\n",
              "if (outputEl) {{\n",
              "    x.observe(outputEl, {childList: true});\n",
              "}}\n",
              "\n",
              "                        })                };                            </script>        </div>\n",
              "</body>\n",
              "</html>"
            ]
          },
          "metadata": {}
        }
      ],
      "source": [
        "# Investigate Trends in the Remote Work Landscape\n",
        "df_remote_trends = df_cleaned.groupby([pd.Grouper(key=\"published_date\", freq=\"ME\"), \"country\"]).size().reset_index(name=\"count\")\n",
        "fig6 = px.line(df_remote_trends, x=\"published_date\", y=\"count\", color=\"country\", title=\"Trends in Remote Work Over Time\",\n",
        "               labels={\"published_date\": \"Month\", \"count\": \"Number of Remote Job Postings\", \"remote\": \"Remote Status\"})\n",
        "fig6.show()\n"
      ]
    },
    {
      "cell_type": "markdown",
      "source": [
        "#Insights from the Trends in Remote Work Over Time Graph\n",
        "1.Increase in Remote Job Postings\n",
        "\n",
        "*Initially, from December 2023 to late January 2024, there were very few remote job postings.\n",
        "\n",
        "*Starting in February 2024, remote job postings increased significantly.\n",
        "\n",
        "*The United States (blue line) has the highest number of remote job postings, followed by a few other countries like Netherlands, Israel, and the United Kingdom.\n",
        "\n",
        "2.Country-Specific Trends\n",
        "\n",
        "*The United States dominates remote job postings, showing a sharp and continuous increase.\n",
        "\n",
        "*Other countries, such as Netherlands, Israel, and the United Kingdom, show moderate growth in remote jobs.\n",
        "Several other countries show small but consistent increases in remote job postings.\n",
        "\n",
        "3.Possible Reasons for the Trends\n",
        "\n",
        "*Post-Pandemic Job Market: Companies continue to offer remote work options due to changing work culture.\n",
        "\n",
        "*Tech and IT Sector Growth: Many remote jobs are tech-related, and the US dominates the IT sector.\n",
        "\n",
        "*Global Hiring Trends: Companies may be hiring remote workers from different countries to tap into global talent.\n",
        "\n",
        "4.Future Predictions\n",
        "\n",
        "*Remote job opportunities may continue to grow, especially in tech and service-based industries.\n",
        "\n",
        "*More companies may adopt hybrid or fully remote work models to attract a global workforce."
      ],
      "metadata": {
        "id": "kjcx5zvYnVe_"
      }
    },
    {
      "cell_type": "markdown",
      "source": [
        "# Task 7\n",
        "\n",
        "# Predict Future Job Market Trends"
      ],
      "metadata": {
        "id": "lqCSs7dAO0BH"
      }
    },
    {
      "cell_type": "code",
      "source": [
        "# Predict Future Job Market Trends\n",
        "# Check if enough data points are available for seasonal estimation\n",
        "if len(df_monthly_trends) < 2 * 12:  # 2 full seasonal cycles\n",
        "    # If not enough data, either gather more data or disable seasonal component\n",
        "    future_model = ExponentialSmoothing(df_monthly_trends[\"job_postings\"], trend=\"add\", seasonal=None).fit()  # Disable seasonal component\n",
        "    print(\"Warning: Not enough data for seasonal estimation. Seasonal component disabled.\")\n",
        "else:\n",
        "    future_model = ExponentialSmoothing(df_monthly_trends[\"job_postings\"], trend=\"add\", seasonal=\"add\", seasonal_periods=12).fit()\n",
        "\n",
        "future_predictions = future_model.forecast(12)\n",
        "fig7 = px.line(x=list(df_monthly_trends[\"published_date\"]) + list(pd.date_range(start=df_monthly_trends[\"published_date\"].max(), periods=12, freq=\"ME\")),\n",
        "               y=list(df_monthly_trends[\"job_postings\"]) + list(future_predictions),\n",
        "               title=\"Predicted Future Job Market Trends\",\n",
        "               labels={\"x\": \"Time (Months)\", \"y\": \"Job Postings\"})\n",
        "fig7.show()"
      ],
      "metadata": {
        "colab": {
          "base_uri": "https://localhost:8080/",
          "height": 629
        },
        "id": "T8LhyiZvrzsV",
        "outputId": "df560c8a-be62-4079-b637-8b92aadb2d05"
      },
      "execution_count": null,
      "outputs": [
        {
          "output_type": "stream",
          "name": "stdout",
          "text": [
            "Warning: Not enough data for seasonal estimation. Seasonal component disabled.\n"
          ]
        },
        {
          "output_type": "stream",
          "name": "stderr",
          "text": [
            "/usr/local/lib/python3.11/dist-packages/statsmodels/tsa/holtwinters/model.py:918: ConvergenceWarning:\n",
            "\n",
            "Optimization failed to converge. Check mle_retvals.\n",
            "\n"
          ]
        },
        {
          "output_type": "display_data",
          "data": {
            "text/html": [
              "<html>\n",
              "<head><meta charset=\"utf-8\" /></head>\n",
              "<body>\n",
              "    <div>            <script src=\"https://cdnjs.cloudflare.com/ajax/libs/mathjax/2.7.5/MathJax.js?config=TeX-AMS-MML_SVG\"></script><script type=\"text/javascript\">if (window.MathJax && window.MathJax.Hub && window.MathJax.Hub.Config) {window.MathJax.Hub.Config({SVG: {font: \"STIX-Web\"}});}</script>                <script type=\"text/javascript\">window.PlotlyConfig = {MathJaxConfig: 'local'};</script>\n",
              "        <script charset=\"utf-8\" src=\"https://cdn.plot.ly/plotly-2.35.2.min.js\"></script>                <div id=\"e87df8f5-2885-42b2-87cb-eb322b41f8c7\" class=\"plotly-graph-div\" style=\"height:525px; width:100%;\"></div>            <script type=\"text/javascript\">                                    window.PLOTLYENV=window.PLOTLYENV || {};                                    if (document.getElementById(\"e87df8f5-2885-42b2-87cb-eb322b41f8c7\")) {                    Plotly.newPlot(                        \"e87df8f5-2885-42b2-87cb-eb322b41f8c7\",                        [{\"hovertemplate\":\"Time (Months)=%{x}\\u003cbr\\u003eJob Postings=%{y}\\u003cextra\\u003e\\u003c\\u002fextra\\u003e\",\"legendgroup\":\"\",\"line\":{\"color\":\"#636efa\",\"dash\":\"solid\"},\"marker\":{\"symbol\":\"circle\"},\"mode\":\"lines\",\"name\":\"\",\"orientation\":\"v\",\"showlegend\":false,\"x\":[\"2023-11-30T00:00:00+00:00\",\"2023-12-31T00:00:00+00:00\",\"2024-01-31T00:00:00+00:00\",\"2024-02-29T00:00:00+00:00\",\"2024-03-31T00:00:00+00:00\",\"2024-03-31T00:00:00+00:00\",\"2024-04-30T00:00:00+00:00\",\"2024-05-31T00:00:00+00:00\",\"2024-06-30T00:00:00+00:00\",\"2024-07-31T00:00:00+00:00\",\"2024-08-31T00:00:00+00:00\",\"2024-09-30T00:00:00+00:00\",\"2024-10-31T00:00:00+00:00\",\"2024-11-30T00:00:00+00:00\",\"2024-12-31T00:00:00+00:00\",\"2025-01-31T00:00:00+00:00\",\"2025-02-28T00:00:00+00:00\"],\"xaxis\":\"x\",\"y\":[1.0,0.0,24.0,20450.0,28646.0,38978.3093847618,49210.7420937702,59443.17480277861,69675.607511787,79908.04022079542,90140.47292980381,100372.90563881223,110605.33834782062,120837.77105682902,131070.20376583743,141302.63647484584,151535.06918385424],\"yaxis\":\"y\",\"type\":\"scatter\"}],                        {\"template\":{\"data\":{\"histogram2dcontour\":[{\"type\":\"histogram2dcontour\",\"colorbar\":{\"outlinewidth\":0,\"ticks\":\"\"},\"colorscale\":[[0.0,\"#0d0887\"],[0.1111111111111111,\"#46039f\"],[0.2222222222222222,\"#7201a8\"],[0.3333333333333333,\"#9c179e\"],[0.4444444444444444,\"#bd3786\"],[0.5555555555555556,\"#d8576b\"],[0.6666666666666666,\"#ed7953\"],[0.7777777777777778,\"#fb9f3a\"],[0.8888888888888888,\"#fdca26\"],[1.0,\"#f0f921\"]]}],\"choropleth\":[{\"type\":\"choropleth\",\"colorbar\":{\"outlinewidth\":0,\"ticks\":\"\"}}],\"histogram2d\":[{\"type\":\"histogram2d\",\"colorbar\":{\"outlinewidth\":0,\"ticks\":\"\"},\"colorscale\":[[0.0,\"#0d0887\"],[0.1111111111111111,\"#46039f\"],[0.2222222222222222,\"#7201a8\"],[0.3333333333333333,\"#9c179e\"],[0.4444444444444444,\"#bd3786\"],[0.5555555555555556,\"#d8576b\"],[0.6666666666666666,\"#ed7953\"],[0.7777777777777778,\"#fb9f3a\"],[0.8888888888888888,\"#fdca26\"],[1.0,\"#f0f921\"]]}],\"heatmap\":[{\"type\":\"heatmap\",\"colorbar\":{\"outlinewidth\":0,\"ticks\":\"\"},\"colorscale\":[[0.0,\"#0d0887\"],[0.1111111111111111,\"#46039f\"],[0.2222222222222222,\"#7201a8\"],[0.3333333333333333,\"#9c179e\"],[0.4444444444444444,\"#bd3786\"],[0.5555555555555556,\"#d8576b\"],[0.6666666666666666,\"#ed7953\"],[0.7777777777777778,\"#fb9f3a\"],[0.8888888888888888,\"#fdca26\"],[1.0,\"#f0f921\"]]}],\"heatmapgl\":[{\"type\":\"heatmapgl\",\"colorbar\":{\"outlinewidth\":0,\"ticks\":\"\"},\"colorscale\":[[0.0,\"#0d0887\"],[0.1111111111111111,\"#46039f\"],[0.2222222222222222,\"#7201a8\"],[0.3333333333333333,\"#9c179e\"],[0.4444444444444444,\"#bd3786\"],[0.5555555555555556,\"#d8576b\"],[0.6666666666666666,\"#ed7953\"],[0.7777777777777778,\"#fb9f3a\"],[0.8888888888888888,\"#fdca26\"],[1.0,\"#f0f921\"]]}],\"contourcarpet\":[{\"type\":\"contourcarpet\",\"colorbar\":{\"outlinewidth\":0,\"ticks\":\"\"}}],\"contour\":[{\"type\":\"contour\",\"colorbar\":{\"outlinewidth\":0,\"ticks\":\"\"},\"colorscale\":[[0.0,\"#0d0887\"],[0.1111111111111111,\"#46039f\"],[0.2222222222222222,\"#7201a8\"],[0.3333333333333333,\"#9c179e\"],[0.4444444444444444,\"#bd3786\"],[0.5555555555555556,\"#d8576b\"],[0.6666666666666666,\"#ed7953\"],[0.7777777777777778,\"#fb9f3a\"],[0.8888888888888888,\"#fdca26\"],[1.0,\"#f0f921\"]]}],\"surface\":[{\"type\":\"surface\",\"colorbar\":{\"outlinewidth\":0,\"ticks\":\"\"},\"colorscale\":[[0.0,\"#0d0887\"],[0.1111111111111111,\"#46039f\"],[0.2222222222222222,\"#7201a8\"],[0.3333333333333333,\"#9c179e\"],[0.4444444444444444,\"#bd3786\"],[0.5555555555555556,\"#d8576b\"],[0.6666666666666666,\"#ed7953\"],[0.7777777777777778,\"#fb9f3a\"],[0.8888888888888888,\"#fdca26\"],[1.0,\"#f0f921\"]]}],\"mesh3d\":[{\"type\":\"mesh3d\",\"colorbar\":{\"outlinewidth\":0,\"ticks\":\"\"}}],\"scatter\":[{\"fillpattern\":{\"fillmode\":\"overlay\",\"size\":10,\"solidity\":0.2},\"type\":\"scatter\"}],\"parcoords\":[{\"type\":\"parcoords\",\"line\":{\"colorbar\":{\"outlinewidth\":0,\"ticks\":\"\"}}}],\"scatterpolargl\":[{\"type\":\"scatterpolargl\",\"marker\":{\"colorbar\":{\"outlinewidth\":0,\"ticks\":\"\"}}}],\"bar\":[{\"error_x\":{\"color\":\"#2a3f5f\"},\"error_y\":{\"color\":\"#2a3f5f\"},\"marker\":{\"line\":{\"color\":\"#E5ECF6\",\"width\":0.5},\"pattern\":{\"fillmode\":\"overlay\",\"size\":10,\"solidity\":0.2}},\"type\":\"bar\"}],\"scattergeo\":[{\"type\":\"scattergeo\",\"marker\":{\"colorbar\":{\"outlinewidth\":0,\"ticks\":\"\"}}}],\"scatterpolar\":[{\"type\":\"scatterpolar\",\"marker\":{\"colorbar\":{\"outlinewidth\":0,\"ticks\":\"\"}}}],\"histogram\":[{\"marker\":{\"pattern\":{\"fillmode\":\"overlay\",\"size\":10,\"solidity\":0.2}},\"type\":\"histogram\"}],\"scattergl\":[{\"type\":\"scattergl\",\"marker\":{\"colorbar\":{\"outlinewidth\":0,\"ticks\":\"\"}}}],\"scatter3d\":[{\"type\":\"scatter3d\",\"line\":{\"colorbar\":{\"outlinewidth\":0,\"ticks\":\"\"}},\"marker\":{\"colorbar\":{\"outlinewidth\":0,\"ticks\":\"\"}}}],\"scattermapbox\":[{\"type\":\"scattermapbox\",\"marker\":{\"colorbar\":{\"outlinewidth\":0,\"ticks\":\"\"}}}],\"scatterternary\":[{\"type\":\"scatterternary\",\"marker\":{\"colorbar\":{\"outlinewidth\":0,\"ticks\":\"\"}}}],\"scattercarpet\":[{\"type\":\"scattercarpet\",\"marker\":{\"colorbar\":{\"outlinewidth\":0,\"ticks\":\"\"}}}],\"carpet\":[{\"aaxis\":{\"endlinecolor\":\"#2a3f5f\",\"gridcolor\":\"white\",\"linecolor\":\"white\",\"minorgridcolor\":\"white\",\"startlinecolor\":\"#2a3f5f\"},\"baxis\":{\"endlinecolor\":\"#2a3f5f\",\"gridcolor\":\"white\",\"linecolor\":\"white\",\"minorgridcolor\":\"white\",\"startlinecolor\":\"#2a3f5f\"},\"type\":\"carpet\"}],\"table\":[{\"cells\":{\"fill\":{\"color\":\"#EBF0F8\"},\"line\":{\"color\":\"white\"}},\"header\":{\"fill\":{\"color\":\"#C8D4E3\"},\"line\":{\"color\":\"white\"}},\"type\":\"table\"}],\"barpolar\":[{\"marker\":{\"line\":{\"color\":\"#E5ECF6\",\"width\":0.5},\"pattern\":{\"fillmode\":\"overlay\",\"size\":10,\"solidity\":0.2}},\"type\":\"barpolar\"}],\"pie\":[{\"automargin\":true,\"type\":\"pie\"}]},\"layout\":{\"autotypenumbers\":\"strict\",\"colorway\":[\"#636efa\",\"#EF553B\",\"#00cc96\",\"#ab63fa\",\"#FFA15A\",\"#19d3f3\",\"#FF6692\",\"#B6E880\",\"#FF97FF\",\"#FECB52\"],\"font\":{\"color\":\"#2a3f5f\"},\"hovermode\":\"closest\",\"hoverlabel\":{\"align\":\"left\"},\"paper_bgcolor\":\"white\",\"plot_bgcolor\":\"#E5ECF6\",\"polar\":{\"bgcolor\":\"#E5ECF6\",\"angularaxis\":{\"gridcolor\":\"white\",\"linecolor\":\"white\",\"ticks\":\"\"},\"radialaxis\":{\"gridcolor\":\"white\",\"linecolor\":\"white\",\"ticks\":\"\"}},\"ternary\":{\"bgcolor\":\"#E5ECF6\",\"aaxis\":{\"gridcolor\":\"white\",\"linecolor\":\"white\",\"ticks\":\"\"},\"baxis\":{\"gridcolor\":\"white\",\"linecolor\":\"white\",\"ticks\":\"\"},\"caxis\":{\"gridcolor\":\"white\",\"linecolor\":\"white\",\"ticks\":\"\"}},\"coloraxis\":{\"colorbar\":{\"outlinewidth\":0,\"ticks\":\"\"}},\"colorscale\":{\"sequential\":[[0.0,\"#0d0887\"],[0.1111111111111111,\"#46039f\"],[0.2222222222222222,\"#7201a8\"],[0.3333333333333333,\"#9c179e\"],[0.4444444444444444,\"#bd3786\"],[0.5555555555555556,\"#d8576b\"],[0.6666666666666666,\"#ed7953\"],[0.7777777777777778,\"#fb9f3a\"],[0.8888888888888888,\"#fdca26\"],[1.0,\"#f0f921\"]],\"sequentialminus\":[[0.0,\"#0d0887\"],[0.1111111111111111,\"#46039f\"],[0.2222222222222222,\"#7201a8\"],[0.3333333333333333,\"#9c179e\"],[0.4444444444444444,\"#bd3786\"],[0.5555555555555556,\"#d8576b\"],[0.6666666666666666,\"#ed7953\"],[0.7777777777777778,\"#fb9f3a\"],[0.8888888888888888,\"#fdca26\"],[1.0,\"#f0f921\"]],\"diverging\":[[0,\"#8e0152\"],[0.1,\"#c51b7d\"],[0.2,\"#de77ae\"],[0.3,\"#f1b6da\"],[0.4,\"#fde0ef\"],[0.5,\"#f7f7f7\"],[0.6,\"#e6f5d0\"],[0.7,\"#b8e186\"],[0.8,\"#7fbc41\"],[0.9,\"#4d9221\"],[1,\"#276419\"]]},\"xaxis\":{\"gridcolor\":\"white\",\"linecolor\":\"white\",\"ticks\":\"\",\"title\":{\"standoff\":15},\"zerolinecolor\":\"white\",\"automargin\":true,\"zerolinewidth\":2},\"yaxis\":{\"gridcolor\":\"white\",\"linecolor\":\"white\",\"ticks\":\"\",\"title\":{\"standoff\":15},\"zerolinecolor\":\"white\",\"automargin\":true,\"zerolinewidth\":2},\"scene\":{\"xaxis\":{\"backgroundcolor\":\"#E5ECF6\",\"gridcolor\":\"white\",\"linecolor\":\"white\",\"showbackground\":true,\"ticks\":\"\",\"zerolinecolor\":\"white\",\"gridwidth\":2},\"yaxis\":{\"backgroundcolor\":\"#E5ECF6\",\"gridcolor\":\"white\",\"linecolor\":\"white\",\"showbackground\":true,\"ticks\":\"\",\"zerolinecolor\":\"white\",\"gridwidth\":2},\"zaxis\":{\"backgroundcolor\":\"#E5ECF6\",\"gridcolor\":\"white\",\"linecolor\":\"white\",\"showbackground\":true,\"ticks\":\"\",\"zerolinecolor\":\"white\",\"gridwidth\":2}},\"shapedefaults\":{\"line\":{\"color\":\"#2a3f5f\"}},\"annotationdefaults\":{\"arrowcolor\":\"#2a3f5f\",\"arrowhead\":0,\"arrowwidth\":1},\"geo\":{\"bgcolor\":\"white\",\"landcolor\":\"#E5ECF6\",\"subunitcolor\":\"white\",\"showland\":true,\"showlakes\":true,\"lakecolor\":\"white\"},\"title\":{\"x\":0.05},\"mapbox\":{\"style\":\"light\"}}},\"xaxis\":{\"anchor\":\"y\",\"domain\":[0.0,1.0],\"title\":{\"text\":\"Time (Months)\"}},\"yaxis\":{\"anchor\":\"x\",\"domain\":[0.0,1.0],\"title\":{\"text\":\"Job Postings\"}},\"legend\":{\"tracegroupgap\":0},\"title\":{\"text\":\"Predicted Future Job Market Trends\"}},                        {\"responsive\": true}                    ).then(function(){\n",
              "                            \n",
              "var gd = document.getElementById('e87df8f5-2885-42b2-87cb-eb322b41f8c7');\n",
              "var x = new MutationObserver(function (mutations, observer) {{\n",
              "        var display = window.getComputedStyle(gd).display;\n",
              "        if (!display || display === 'none') {{\n",
              "            console.log([gd, 'removed!']);\n",
              "            Plotly.purge(gd);\n",
              "            observer.disconnect();\n",
              "        }}\n",
              "}});\n",
              "\n",
              "// Listen for the removal of the full notebook cells\n",
              "var notebookContainer = gd.closest('#notebook-container');\n",
              "if (notebookContainer) {{\n",
              "    x.observe(notebookContainer, {childList: true});\n",
              "}}\n",
              "\n",
              "// Listen for the clearing of the current output cell\n",
              "var outputEl = gd.closest('.output');\n",
              "if (outputEl) {{\n",
              "    x.observe(outputEl, {childList: true});\n",
              "}}\n",
              "\n",
              "                        })                };                            </script>        </div>\n",
              "</body>\n",
              "</html>"
            ]
          },
          "metadata": {}
        }
      ]
    },
    {
      "cell_type": "markdown",
      "source": [],
      "metadata": {
        "id": "GHczddGGnO02"
      }
    },
    {
      "cell_type": "markdown",
      "source": [
        "Analysis of Predicted Future Job Market Trends\n",
        "1. Overall Trend\n",
        "\n",
        "The graph represents predicted job postings over time from January 2024 to early 2025.\n",
        "Initially, job postings were very low, but around March 2024, there is a sharp increase.\n",
        "After March 2024, the number of job postings steadily rises in a linear trend, reaching over 140k job postings by early 2025.\n",
        "2. Key Observations\n",
        "\n",
        "✅ Sudden Growth in Early 2024:\n",
        "\n",
        "The job market appears to recover or expand rapidly during the first few months of 2024.\n",
        "Possible reasons: economic recovery, seasonal hiring trends, or increased demand for jobs post-pandemic.\n",
        "\n",
        "✅ Stable Growth After Initial Surge:\n",
        "\n",
        "After the initial rise, job postings grow steadily at a consistent rate.\n",
        "\n",
        "This suggests a healthy job market expansion with no sudden drops or slowdowns.\n",
        "3. Possible Causes for the Growth\n",
        "\n",
        "📌 Economic Recovery & Business Expansion → Companies expanding hiring post-recession/pandemic.\n",
        "\n",
        "📌 Increase in Remote & Tech Jobs → More businesses adopting flexible/remote work options.\n",
        "\n",
        "📌 Government Policies & Investments → New policies stimulating job creation.\n",
        "\n",
        "📌 AI & Automation Impact → Companies may create new jobs while automating others."
      ],
      "metadata": {
        "id": "5r-vo1c1mVEW"
      }
    },
    {
      "cell_type": "code",
      "source": [
        "!pip install streamlit pyngrok"
      ],
      "metadata": {
        "colab": {
          "base_uri": "https://localhost:8080/"
        },
        "id": "ykuP9dwkw6yZ",
        "outputId": "49f9e204-f3a4-4c73-f8b6-6fa2591000e2"
      },
      "execution_count": null,
      "outputs": [
        {
          "output_type": "stream",
          "name": "stdout",
          "text": [
            "Requirement already satisfied: streamlit in /usr/local/lib/python3.11/dist-packages (1.42.2)\n",
            "Requirement already satisfied: pyngrok in /usr/local/lib/python3.11/dist-packages (7.2.3)\n",
            "Requirement already satisfied: altair<6,>=4.0 in /usr/local/lib/python3.11/dist-packages (from streamlit) (5.5.0)\n",
            "Requirement already satisfied: blinker<2,>=1.0.0 in /usr/local/lib/python3.11/dist-packages (from streamlit) (1.9.0)\n",
            "Requirement already satisfied: cachetools<6,>=4.0 in /usr/local/lib/python3.11/dist-packages (from streamlit) (5.5.1)\n",
            "Requirement already satisfied: click<9,>=7.0 in /usr/local/lib/python3.11/dist-packages (from streamlit) (8.1.8)\n",
            "Requirement already satisfied: numpy<3,>=1.23 in /usr/local/lib/python3.11/dist-packages (from streamlit) (1.26.4)\n",
            "Requirement already satisfied: packaging<25,>=20 in /usr/local/lib/python3.11/dist-packages (from streamlit) (24.2)\n",
            "Requirement already satisfied: pandas<3,>=1.4.0 in /usr/local/lib/python3.11/dist-packages (from streamlit) (2.2.2)\n",
            "Requirement already satisfied: pillow<12,>=7.1.0 in /usr/local/lib/python3.11/dist-packages (from streamlit) (11.1.0)\n",
            "Requirement already satisfied: protobuf<6,>=3.20 in /usr/local/lib/python3.11/dist-packages (from streamlit) (4.25.6)\n",
            "Requirement already satisfied: pyarrow>=7.0 in /usr/local/lib/python3.11/dist-packages (from streamlit) (17.0.0)\n",
            "Requirement already satisfied: requests<3,>=2.27 in /usr/local/lib/python3.11/dist-packages (from streamlit) (2.32.3)\n",
            "Requirement already satisfied: rich<14,>=10.14.0 in /usr/local/lib/python3.11/dist-packages (from streamlit) (13.9.4)\n",
            "Requirement already satisfied: tenacity<10,>=8.1.0 in /usr/local/lib/python3.11/dist-packages (from streamlit) (9.0.0)\n",
            "Requirement already satisfied: toml<2,>=0.10.1 in /usr/local/lib/python3.11/dist-packages (from streamlit) (0.10.2)\n",
            "Requirement already satisfied: typing-extensions<5,>=4.4.0 in /usr/local/lib/python3.11/dist-packages (from streamlit) (4.12.2)\n",
            "Requirement already satisfied: watchdog<7,>=2.1.5 in /usr/local/lib/python3.11/dist-packages (from streamlit) (6.0.0)\n",
            "Requirement already satisfied: gitpython!=3.1.19,<4,>=3.0.7 in /usr/local/lib/python3.11/dist-packages (from streamlit) (3.1.44)\n",
            "Requirement already satisfied: pydeck<1,>=0.8.0b4 in /usr/local/lib/python3.11/dist-packages (from streamlit) (0.9.1)\n",
            "Requirement already satisfied: tornado<7,>=6.0.3 in /usr/local/lib/python3.11/dist-packages (from streamlit) (6.4.2)\n",
            "Requirement already satisfied: PyYAML>=5.1 in /usr/local/lib/python3.11/dist-packages (from pyngrok) (6.0.2)\n",
            "Requirement already satisfied: jinja2 in /usr/local/lib/python3.11/dist-packages (from altair<6,>=4.0->streamlit) (3.1.5)\n",
            "Requirement already satisfied: jsonschema>=3.0 in /usr/local/lib/python3.11/dist-packages (from altair<6,>=4.0->streamlit) (4.23.0)\n",
            "Requirement already satisfied: narwhals>=1.14.2 in /usr/local/lib/python3.11/dist-packages (from altair<6,>=4.0->streamlit) (1.27.1)\n",
            "Requirement already satisfied: gitdb<5,>=4.0.1 in /usr/local/lib/python3.11/dist-packages (from gitpython!=3.1.19,<4,>=3.0.7->streamlit) (4.0.12)\n",
            "Requirement already satisfied: python-dateutil>=2.8.2 in /usr/local/lib/python3.11/dist-packages (from pandas<3,>=1.4.0->streamlit) (2.8.2)\n",
            "Requirement already satisfied: pytz>=2020.1 in /usr/local/lib/python3.11/dist-packages (from pandas<3,>=1.4.0->streamlit) (2025.1)\n",
            "Requirement already satisfied: tzdata>=2022.7 in /usr/local/lib/python3.11/dist-packages (from pandas<3,>=1.4.0->streamlit) (2025.1)\n",
            "Requirement already satisfied: charset-normalizer<4,>=2 in /usr/local/lib/python3.11/dist-packages (from requests<3,>=2.27->streamlit) (3.4.1)\n",
            "Requirement already satisfied: idna<4,>=2.5 in /usr/local/lib/python3.11/dist-packages (from requests<3,>=2.27->streamlit) (3.10)\n",
            "Requirement already satisfied: urllib3<3,>=1.21.1 in /usr/local/lib/python3.11/dist-packages (from requests<3,>=2.27->streamlit) (2.3.0)\n",
            "Requirement already satisfied: certifi>=2017.4.17 in /usr/local/lib/python3.11/dist-packages (from requests<3,>=2.27->streamlit) (2025.1.31)\n",
            "Requirement already satisfied: markdown-it-py>=2.2.0 in /usr/local/lib/python3.11/dist-packages (from rich<14,>=10.14.0->streamlit) (3.0.0)\n",
            "Requirement already satisfied: pygments<3.0.0,>=2.13.0 in /usr/local/lib/python3.11/dist-packages (from rich<14,>=10.14.0->streamlit) (2.18.0)\n",
            "Requirement already satisfied: smmap<6,>=3.0.1 in /usr/local/lib/python3.11/dist-packages (from gitdb<5,>=4.0.1->gitpython!=3.1.19,<4,>=3.0.7->streamlit) (5.0.2)\n",
            "Requirement already satisfied: MarkupSafe>=2.0 in /usr/local/lib/python3.11/dist-packages (from jinja2->altair<6,>=4.0->streamlit) (3.0.2)\n",
            "Requirement already satisfied: attrs>=22.2.0 in /usr/local/lib/python3.11/dist-packages (from jsonschema>=3.0->altair<6,>=4.0->streamlit) (25.1.0)\n",
            "Requirement already satisfied: jsonschema-specifications>=2023.03.6 in /usr/local/lib/python3.11/dist-packages (from jsonschema>=3.0->altair<6,>=4.0->streamlit) (2024.10.1)\n",
            "Requirement already satisfied: referencing>=0.28.4 in /usr/local/lib/python3.11/dist-packages (from jsonschema>=3.0->altair<6,>=4.0->streamlit) (0.36.2)\n",
            "Requirement already satisfied: rpds-py>=0.7.1 in /usr/local/lib/python3.11/dist-packages (from jsonschema>=3.0->altair<6,>=4.0->streamlit) (0.22.3)\n",
            "Requirement already satisfied: mdurl~=0.1 in /usr/local/lib/python3.11/dist-packages (from markdown-it-py>=2.2.0->rich<14,>=10.14.0->streamlit) (0.1.2)\n",
            "Requirement already satisfied: six>=1.5 in /usr/local/lib/python3.11/dist-packages (from python-dateutil>=2.8.2->pandas<3,>=1.4.0->streamlit) (1.17.0)\n"
          ]
        }
      ]
    },
    {
      "cell_type": "code",
      "source": [
        "!streamlit run aap.py & npx localtunnel --port 8501\n"
      ],
      "metadata": {
        "colab": {
          "base_uri": "https://localhost:8080/"
        },
        "id": "6JbnnhFbycBP",
        "outputId": "c2d49599-24dc-403d-f389-dd452a6ba505"
      },
      "execution_count": null,
      "outputs": [
        {
          "output_type": "stream",
          "name": "stdout",
          "text": [
            "Usage: streamlit run [OPTIONS] TARGET [ARGS]...\n",
            "Try 'streamlit run --help' for help.\n",
            "\n",
            "Error: Invalid value: File does not exist: aap.py\n",
            "\u001b[1G\u001b[0K⠙\u001b[1G\u001b[0K⠹\u001b[1G\u001b[0K⠸\u001b[1G\u001b[0K⠼\u001b[1G\u001b[0K⠴\u001b[1G\u001b[0Kyour url is: https://stupid-donuts-sit.loca.lt\n",
            "^C\n"
          ]
        }
      ]
    },
    {
      "cell_type": "code",
      "source": [],
      "metadata": {
        "id": "iQHLQmbY5BL4"
      },
      "execution_count": null,
      "outputs": []
    },
    {
      "cell_type": "code",
      "source": [
        "from pyngrok import ngrok\n",
        "\n",
        "# Start Streamlit\n",
        "!streamlit run aap.py &\n",
        "\n",
        "# Create a public URL\n",
        "public_url = ngrok.connect(port=\"8501\")\n",
        "print(f\"Streamlit is live at: {public_url}\")\n",
        "\n"
      ],
      "metadata": {
        "colab": {
          "base_uri": "https://localhost:8080/",
          "height": 555
        },
        "id": "zZbZHCL2y481",
        "outputId": "df7345b3-9501-40eb-cc54-468c48c27029"
      },
      "execution_count": null,
      "outputs": [
        {
          "output_type": "stream",
          "name": "stdout",
          "text": [
            "Usage: streamlit run [OPTIONS] TARGET [ARGS]...\n",
            "Try 'streamlit run --help' for help.\n",
            "\n",
            "Error: Invalid value: File does not exist: aap.py\n"
          ]
        },
        {
          "output_type": "stream",
          "name": "stderr",
          "text": [
            "ERROR:pyngrok.process.ngrok:t=2025-02-26T10:34:53+0000 lvl=eror msg=\"failed to reconnect session\" obj=tunnels.session err=\"authentication failed: Usage of ngrok requires a verified account and authtoken.\\n\\nSign up for an account: https://dashboard.ngrok.com/signup\\nInstall your authtoken: https://dashboard.ngrok.com/get-started/your-authtoken\\r\\n\\r\\nERR_NGROK_4018\\r\\n\"\n",
            "ERROR:pyngrok.process.ngrok:t=2025-02-26T10:34:53+0000 lvl=eror msg=\"session closing\" obj=tunnels.session err=\"authentication failed: Usage of ngrok requires a verified account and authtoken.\\n\\nSign up for an account: https://dashboard.ngrok.com/signup\\nInstall your authtoken: https://dashboard.ngrok.com/get-started/your-authtoken\\r\\n\\r\\nERR_NGROK_4018\\r\\n\"\n",
            "ERROR:pyngrok.process.ngrok:t=2025-02-26T10:34:53+0000 lvl=eror msg=\"terminating with error\" obj=app err=\"authentication failed: Usage of ngrok requires a verified account and authtoken.\\n\\nSign up for an account: https://dashboard.ngrok.com/signup\\nInstall your authtoken: https://dashboard.ngrok.com/get-started/your-authtoken\\r\\n\\r\\nERR_NGROK_4018\\r\\n\"\n",
            "CRITICAL:pyngrok.process.ngrok:t=2025-02-26T10:34:53+0000 lvl=crit msg=\"command failed\" err=\"authentication failed: Usage of ngrok requires a verified account and authtoken.\\n\\nSign up for an account: https://dashboard.ngrok.com/signup\\nInstall your authtoken: https://dashboard.ngrok.com/get-started/your-authtoken\\r\\n\\r\\nERR_NGROK_4018\\r\\n\"\n"
          ]
        },
        {
          "output_type": "error",
          "ename": "PyngrokNgrokError",
          "evalue": "The ngrok process errored on start: authentication failed: Usage of ngrok requires a verified account and authtoken.\\n\\nSign up for an account: https://dashboard.ngrok.com/signup\\nInstall your authtoken: https://dashboard.ngrok.com/get-started/your-authtoken\\r\\n\\r\\nERR_NGROK_4018\\r\\n.",
          "traceback": [
            "\u001b[0;31m---------------------------------------------------------------------------\u001b[0m",
            "\u001b[0;31mPyngrokNgrokError\u001b[0m                         Traceback (most recent call last)",
            "\u001b[0;32m<ipython-input-49-ac78376521a2>\u001b[0m in \u001b[0;36m<cell line: 0>\u001b[0;34m()\u001b[0m\n\u001b[1;32m      5\u001b[0m \u001b[0;34m\u001b[0m\u001b[0m\n\u001b[1;32m      6\u001b[0m \u001b[0;31m# Create a public URL\u001b[0m\u001b[0;34m\u001b[0m\u001b[0;34m\u001b[0m\u001b[0m\n\u001b[0;32m----> 7\u001b[0;31m \u001b[0mpublic_url\u001b[0m \u001b[0;34m=\u001b[0m \u001b[0mngrok\u001b[0m\u001b[0;34m.\u001b[0m\u001b[0mconnect\u001b[0m\u001b[0;34m(\u001b[0m\u001b[0mport\u001b[0m\u001b[0;34m=\u001b[0m\u001b[0;34m\"8501\"\u001b[0m\u001b[0;34m)\u001b[0m\u001b[0;34m\u001b[0m\u001b[0;34m\u001b[0m\u001b[0m\n\u001b[0m\u001b[1;32m      8\u001b[0m \u001b[0mprint\u001b[0m\u001b[0;34m(\u001b[0m\u001b[0;34mf\"Streamlit is live at: {public_url}\"\u001b[0m\u001b[0;34m)\u001b[0m\u001b[0;34m\u001b[0m\u001b[0;34m\u001b[0m\u001b[0m\n\u001b[1;32m      9\u001b[0m \u001b[0;34m\u001b[0m\u001b[0m\n",
            "\u001b[0;32m/usr/local/lib/python3.11/dist-packages/pyngrok/ngrok.py\u001b[0m in \u001b[0;36mconnect\u001b[0;34m(addr, proto, name, pyngrok_config, **options)\u001b[0m\n\u001b[1;32m    349\u001b[0m     \u001b[0mlogger\u001b[0m\u001b[0;34m.\u001b[0m\u001b[0minfo\u001b[0m\u001b[0;34m(\u001b[0m\u001b[0;34mf\"Opening tunnel named: {name}\"\u001b[0m\u001b[0;34m)\u001b[0m\u001b[0;34m\u001b[0m\u001b[0;34m\u001b[0m\u001b[0m\n\u001b[1;32m    350\u001b[0m \u001b[0;34m\u001b[0m\u001b[0m\n\u001b[0;32m--> 351\u001b[0;31m     \u001b[0mapi_url\u001b[0m \u001b[0;34m=\u001b[0m \u001b[0mget_ngrok_process\u001b[0m\u001b[0;34m(\u001b[0m\u001b[0mpyngrok_config\u001b[0m\u001b[0;34m)\u001b[0m\u001b[0;34m.\u001b[0m\u001b[0mapi_url\u001b[0m\u001b[0;34m\u001b[0m\u001b[0;34m\u001b[0m\u001b[0m\n\u001b[0m\u001b[1;32m    352\u001b[0m \u001b[0;34m\u001b[0m\u001b[0m\n\u001b[1;32m    353\u001b[0m     \u001b[0mlogger\u001b[0m\u001b[0;34m.\u001b[0m\u001b[0mdebug\u001b[0m\u001b[0;34m(\u001b[0m\u001b[0;34mf\"Creating tunnel with options: {options}\"\u001b[0m\u001b[0;34m)\u001b[0m\u001b[0;34m\u001b[0m\u001b[0;34m\u001b[0m\u001b[0m\n",
            "\u001b[0;32m/usr/local/lib/python3.11/dist-packages/pyngrok/ngrok.py\u001b[0m in \u001b[0;36mget_ngrok_process\u001b[0;34m(pyngrok_config)\u001b[0m\n\u001b[1;32m    174\u001b[0m     \u001b[0minstall_ngrok\u001b[0m\u001b[0;34m(\u001b[0m\u001b[0mpyngrok_config\u001b[0m\u001b[0;34m)\u001b[0m\u001b[0;34m\u001b[0m\u001b[0;34m\u001b[0m\u001b[0m\n\u001b[1;32m    175\u001b[0m \u001b[0;34m\u001b[0m\u001b[0m\n\u001b[0;32m--> 176\u001b[0;31m     \u001b[0;32mreturn\u001b[0m \u001b[0mprocess\u001b[0m\u001b[0;34m.\u001b[0m\u001b[0mget_process\u001b[0m\u001b[0;34m(\u001b[0m\u001b[0mpyngrok_config\u001b[0m\u001b[0;34m)\u001b[0m\u001b[0;34m\u001b[0m\u001b[0;34m\u001b[0m\u001b[0m\n\u001b[0m\u001b[1;32m    177\u001b[0m \u001b[0;34m\u001b[0m\u001b[0m\n\u001b[1;32m    178\u001b[0m \u001b[0;34m\u001b[0m\u001b[0m\n",
            "\u001b[0;32m/usr/local/lib/python3.11/dist-packages/pyngrok/process.py\u001b[0m in \u001b[0;36mget_process\u001b[0;34m(pyngrok_config)\u001b[0m\n\u001b[1;32m    263\u001b[0m         \u001b[0;32mreturn\u001b[0m \u001b[0m_current_processes\u001b[0m\u001b[0;34m[\u001b[0m\u001b[0mpyngrok_config\u001b[0m\u001b[0;34m.\u001b[0m\u001b[0mngrok_path\u001b[0m\u001b[0;34m]\u001b[0m\u001b[0;34m\u001b[0m\u001b[0;34m\u001b[0m\u001b[0m\n\u001b[1;32m    264\u001b[0m \u001b[0;34m\u001b[0m\u001b[0m\n\u001b[0;32m--> 265\u001b[0;31m     \u001b[0;32mreturn\u001b[0m \u001b[0m_start_process\u001b[0m\u001b[0;34m(\u001b[0m\u001b[0mpyngrok_config\u001b[0m\u001b[0;34m)\u001b[0m\u001b[0;34m\u001b[0m\u001b[0;34m\u001b[0m\u001b[0m\n\u001b[0m\u001b[1;32m    266\u001b[0m \u001b[0;34m\u001b[0m\u001b[0m\n\u001b[1;32m    267\u001b[0m \u001b[0;34m\u001b[0m\u001b[0m\n",
            "\u001b[0;32m/usr/local/lib/python3.11/dist-packages/pyngrok/process.py\u001b[0m in \u001b[0;36m_start_process\u001b[0;34m(pyngrok_config)\u001b[0m\n\u001b[1;32m    426\u001b[0m \u001b[0;34m\u001b[0m\u001b[0m\n\u001b[1;32m    427\u001b[0m         \u001b[0;32mif\u001b[0m \u001b[0mngrok_process\u001b[0m\u001b[0;34m.\u001b[0m\u001b[0mstartup_error\u001b[0m \u001b[0;32mis\u001b[0m \u001b[0;32mnot\u001b[0m \u001b[0;32mNone\u001b[0m\u001b[0;34m:\u001b[0m\u001b[0;34m\u001b[0m\u001b[0;34m\u001b[0m\u001b[0m\n\u001b[0;32m--> 428\u001b[0;31m             raise PyngrokNgrokError(f\"The ngrok process errored on start: {ngrok_process.startup_error}.\",\n\u001b[0m\u001b[1;32m    429\u001b[0m                                     \u001b[0mngrok_process\u001b[0m\u001b[0;34m.\u001b[0m\u001b[0mlogs\u001b[0m\u001b[0;34m,\u001b[0m\u001b[0;34m\u001b[0m\u001b[0;34m\u001b[0m\u001b[0m\n\u001b[1;32m    430\u001b[0m                                     ngrok_process.startup_error)\n",
            "\u001b[0;31mPyngrokNgrokError\u001b[0m: The ngrok process errored on start: authentication failed: Usage of ngrok requires a verified account and authtoken.\\n\\nSign up for an account: https://dashboard.ngrok.com/signup\\nInstall your authtoken: https://dashboard.ngrok.com/get-started/your-authtoken\\r\\n\\r\\nERR_NGROK_4018\\r\\n."
          ]
        }
      ]
    }
  ],
  "metadata": {
    "colab": {
      "provenance": [],
      "authorship_tag": "ABX9TyPqua8CKjFdPrSmhGRy5SyU",
      "include_colab_link": true
    },
    "kernelspec": {
      "display_name": "Python 3",
      "name": "python3"
    },
    "language_info": {
      "name": "python"
    }
  },
  "nbformat": 4,
  "nbformat_minor": 0
}